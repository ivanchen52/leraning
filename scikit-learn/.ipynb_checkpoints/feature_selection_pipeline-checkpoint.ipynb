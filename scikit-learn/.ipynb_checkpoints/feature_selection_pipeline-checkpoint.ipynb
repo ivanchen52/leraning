{
 "cells": [
  {
   "cell_type": "code",
   "execution_count": null,
   "metadata": {
    "collapsed": false
   },
   "outputs": [],
   "source": [
    "%matplotlib inline"
   ]
  },
  {
   "cell_type": "markdown",
   "metadata": {},
   "source": [
    "\n",
    "# Pipeline Anova SVM\n",
    "\n",
    "\n",
    "Simple usage of Pipeline that runs successively a univariate\n",
    "feature selection with anova and then a C-SVM of the selected features.\n"
   ]
  },
  {
   "cell_type": "code",
   "execution_count": 1,
   "metadata": {
    "collapsed": false
   },
   "outputs": [
    {
     "name": "stdout",
     "output_type": "stream",
     "text": [
      "Automatically created module for IPython interactive environment\n"
     ]
    },
    {
     "data": {
      "text/plain": [
       "array([3, 3, 0, 0, 0, 3, 1, 0, 0, 1, 3, 2, 2, 0, 0, 1, 3, 3, 2, 2, 2, 3, 2,\n",
       "       2, 2, 2, 0, 3, 1, 0, 2, 2, 1, 1, 3, 2, 0, 1, 2, 0, 2, 2, 1, 2, 0, 3,\n",
       "       3, 2, 0, 1, 1, 1, 1, 3, 1, 1, 0, 0, 0, 3, 2, 0, 3, 2, 0, 2, 3, 3, 1,\n",
       "       1, 1, 1, 2, 0, 2, 0, 0, 2, 1, 0, 1, 0, 2, 1, 2, 1, 2, 3, 2, 3, 1, 2,\n",
       "       3, 3, 1, 0, 3, 0, 1, 1])"
      ]
     },
     "execution_count": 1,
     "metadata": {},
     "output_type": "execute_result"
    }
   ],
   "source": [
    "print(__doc__)\n",
    "\n",
    "from sklearn import svm\n",
    "from sklearn.datasets import samples_generator\n",
    "from sklearn.feature_selection import SelectKBest, f_regression\n",
    "from sklearn.pipeline import make_pipeline\n",
    "\n",
    "# import some data to play with\n",
    "X, y = samples_generator.make_classification(\n",
    "    n_features=20, n_informative=3, n_redundant=0, n_classes=4,\n",
    "    n_clusters_per_class=2)\n",
    "\n",
    "# ANOVA SVM-C\n",
    "# 1) anova filter, take 3 best ranked features\n",
    "anova_filter = SelectKBest(f_regression, k=3)\n",
    "# 2) svm\n",
    "clf = svm.SVC(kernel='linear')\n",
    "\n",
    "anova_svm = make_pipeline(anova_filter, clf)\n",
    "anova_svm.fit(X, y)\n",
    "anova_svm.predict(X)"
   ]
  },
  {
   "cell_type": "code",
   "execution_count": null,
   "metadata": {
    "collapsed": true
   },
   "outputs": [],
   "source": []
  }
 ],
 "metadata": {
  "anaconda-cloud": {},
  "kernelspec": {
   "display_name": "Python [conda root]",
   "language": "python",
   "name": "conda-root-py"
  },
  "language_info": {
   "codemirror_mode": {
    "name": "ipython",
    "version": 3
   },
   "file_extension": ".py",
   "mimetype": "text/x-python",
   "name": "python",
   "nbconvert_exporter": "python",
   "pygments_lexer": "ipython3",
   "version": "3.5.2"
  }
 },
 "nbformat": 4,
 "nbformat_minor": 0
}
