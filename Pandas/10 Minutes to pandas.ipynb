{
 "cells": [
  {
   "cell_type": "code",
   "execution_count": 1,
   "metadata": {
    "collapsed": true
   },
   "outputs": [],
   "source": [
    "import pandas as pd\n",
    "import numpy as np\n",
    "import matplotlib.pyplot as plt"
   ]
  },
  {
   "cell_type": "code",
   "execution_count": 2,
   "metadata": {
    "collapsed": false
   },
   "outputs": [
    {
     "data": {
      "text/plain": [
       "0    1.0\n",
       "1    3.0\n",
       "2    5.0\n",
       "3    NaN\n",
       "4    6.0\n",
       "5    8.0\n",
       "dtype: float64"
      ]
     },
     "execution_count": 2,
     "metadata": {},
     "output_type": "execute_result"
    }
   ],
   "source": [
    "s = pd.Series([1,3,5,np.nan,6,8])\n",
    "s #指定一個數列"
   ]
  },
  {
   "cell_type": "code",
   "execution_count": 3,
   "metadata": {
    "collapsed": false
   },
   "outputs": [
    {
     "data": {
      "text/plain": [
       "DatetimeIndex(['2013-01-01', '2013-01-02', '2013-01-03', '2013-01-04',\n",
       "               '2013-01-05', '2013-01-06'],\n",
       "              dtype='datetime64[ns]', freq='D')"
      ]
     },
     "execution_count": 3,
     "metadata": {},
     "output_type": "execute_result"
    }
   ],
   "source": [
    "dates = pd.date_range('20130101', periods=6)\n",
    "dates #建立一個日期序列"
   ]
  },
  {
   "cell_type": "code",
   "execution_count": 4,
   "metadata": {
    "collapsed": false
   },
   "outputs": [
    {
     "data": {
      "text/html": [
       "<div>\n",
       "<table border=\"1\" class=\"dataframe\">\n",
       "  <thead>\n",
       "    <tr style=\"text-align: right;\">\n",
       "      <th></th>\n",
       "      <th>A</th>\n",
       "      <th>B</th>\n",
       "      <th>C</th>\n",
       "      <th>D</th>\n",
       "    </tr>\n",
       "  </thead>\n",
       "  <tbody>\n",
       "    <tr>\n",
       "      <th>2013-01-01</th>\n",
       "      <td>-1.442322</td>\n",
       "      <td>0.387023</td>\n",
       "      <td>-0.737257</td>\n",
       "      <td>-1.655878</td>\n",
       "    </tr>\n",
       "    <tr>\n",
       "      <th>2013-01-02</th>\n",
       "      <td>0.778381</td>\n",
       "      <td>0.677784</td>\n",
       "      <td>0.219261</td>\n",
       "      <td>0.721600</td>\n",
       "    </tr>\n",
       "    <tr>\n",
       "      <th>2013-01-03</th>\n",
       "      <td>2.427259</td>\n",
       "      <td>0.469846</td>\n",
       "      <td>0.912917</td>\n",
       "      <td>2.040025</td>\n",
       "    </tr>\n",
       "    <tr>\n",
       "      <th>2013-01-04</th>\n",
       "      <td>0.385060</td>\n",
       "      <td>2.024673</td>\n",
       "      <td>0.501425</td>\n",
       "      <td>-2.452209</td>\n",
       "    </tr>\n",
       "    <tr>\n",
       "      <th>2013-01-05</th>\n",
       "      <td>-0.198357</td>\n",
       "      <td>-1.307814</td>\n",
       "      <td>0.123993</td>\n",
       "      <td>-1.610923</td>\n",
       "    </tr>\n",
       "    <tr>\n",
       "      <th>2013-01-06</th>\n",
       "      <td>-0.633057</td>\n",
       "      <td>0.054787</td>\n",
       "      <td>-0.159393</td>\n",
       "      <td>-0.701633</td>\n",
       "    </tr>\n",
       "  </tbody>\n",
       "</table>\n",
       "</div>"
      ],
      "text/plain": [
       "                   A         B         C         D\n",
       "2013-01-01 -1.442322  0.387023 -0.737257 -1.655878\n",
       "2013-01-02  0.778381  0.677784  0.219261  0.721600\n",
       "2013-01-03  2.427259  0.469846  0.912917  2.040025\n",
       "2013-01-04  0.385060  2.024673  0.501425 -2.452209\n",
       "2013-01-05 -0.198357 -1.307814  0.123993 -1.610923\n",
       "2013-01-06 -0.633057  0.054787 -0.159393 -0.701633"
      ]
     },
     "execution_count": 4,
     "metadata": {},
     "output_type": "execute_result"
    }
   ],
   "source": [
    "df = pd.DataFrame(np.random.randn(6,4), index=dates, columns=list('ABCD')) \n",
    "df #建立一個6X4的隨機矩陣，index為日期序列，欄位序列為ABCD"
   ]
  },
  {
   "cell_type": "code",
   "execution_count": 5,
   "metadata": {
    "collapsed": false
   },
   "outputs": [
    {
     "data": {
      "text/html": [
       "<div>\n",
       "<table border=\"1\" class=\"dataframe\">\n",
       "  <thead>\n",
       "    <tr style=\"text-align: right;\">\n",
       "      <th></th>\n",
       "      <th>A</th>\n",
       "      <th>B</th>\n",
       "      <th>C</th>\n",
       "      <th>D</th>\n",
       "      <th>E</th>\n",
       "      <th>F</th>\n",
       "    </tr>\n",
       "  </thead>\n",
       "  <tbody>\n",
       "    <tr>\n",
       "      <th>0</th>\n",
       "      <td>1.0</td>\n",
       "      <td>2013-01-02</td>\n",
       "      <td>1.0</td>\n",
       "      <td>3</td>\n",
       "      <td>test</td>\n",
       "      <td>foo</td>\n",
       "    </tr>\n",
       "    <tr>\n",
       "      <th>1</th>\n",
       "      <td>1.0</td>\n",
       "      <td>2013-01-02</td>\n",
       "      <td>1.0</td>\n",
       "      <td>3</td>\n",
       "      <td>train</td>\n",
       "      <td>foo</td>\n",
       "    </tr>\n",
       "    <tr>\n",
       "      <th>2</th>\n",
       "      <td>1.0</td>\n",
       "      <td>2013-01-02</td>\n",
       "      <td>1.0</td>\n",
       "      <td>3</td>\n",
       "      <td>test</td>\n",
       "      <td>foo</td>\n",
       "    </tr>\n",
       "    <tr>\n",
       "      <th>3</th>\n",
       "      <td>1.0</td>\n",
       "      <td>2013-01-02</td>\n",
       "      <td>1.0</td>\n",
       "      <td>3</td>\n",
       "      <td>train</td>\n",
       "      <td>foo</td>\n",
       "    </tr>\n",
       "  </tbody>\n",
       "</table>\n",
       "</div>"
      ],
      "text/plain": [
       "     A          B    C  D      E    F\n",
       "0  1.0 2013-01-02  1.0  3   test  foo\n",
       "1  1.0 2013-01-02  1.0  3  train  foo\n",
       "2  1.0 2013-01-02  1.0  3   test  foo\n",
       "3  1.0 2013-01-02  1.0  3  train  foo"
      ]
     },
     "execution_count": 5,
     "metadata": {},
     "output_type": "execute_result"
    }
   ],
   "source": [
    "df2 = pd.DataFrame({ 'A' : 1.,\n",
    "                     'B' : pd.Timestamp('20130102'),\n",
    "                     'C' : pd.Series(1,index=list(range(4)),dtype='float32'),\n",
    "                     'D' : np.array([3] * 4,dtype='int32'),\n",
    "                     'E' : pd.Categorical([\"test\",\"train\",\"test\",\"train\"]),\n",
    "                     'F' : 'foo' })\n",
    "df2 #建立一個DataFrame，並指定其內容，由於E欄內容為多項，故其它欄一併被展開"
   ]
  },
  {
   "cell_type": "code",
   "execution_count": 6,
   "metadata": {
    "collapsed": false
   },
   "outputs": [
    {
     "data": {
      "text/plain": [
       "A           float64\n",
       "B    datetime64[ns]\n",
       "C           float32\n",
       "D             int32\n",
       "E          category\n",
       "F            object\n",
       "dtype: object"
      ]
     },
     "execution_count": 6,
     "metadata": {},
     "output_type": "execute_result"
    }
   ],
   "source": [
    "df2.dtypes #顯示各欄type"
   ]
  },
  {
   "cell_type": "markdown",
   "metadata": {},
   "source": [
    "# Viewing Data"
   ]
  },
  {
   "cell_type": "code",
   "execution_count": 10,
   "metadata": {
    "collapsed": false
   },
   "outputs": [
    {
     "data": {
      "text/html": [
       "<div>\n",
       "<table border=\"1\" class=\"dataframe\">\n",
       "  <thead>\n",
       "    <tr style=\"text-align: right;\">\n",
       "      <th></th>\n",
       "      <th>A</th>\n",
       "      <th>B</th>\n",
       "      <th>C</th>\n",
       "      <th>D</th>\n",
       "    </tr>\n",
       "  </thead>\n",
       "  <tbody>\n",
       "    <tr>\n",
       "      <th>2013-01-01</th>\n",
       "      <td>-1.442322</td>\n",
       "      <td>0.387023</td>\n",
       "      <td>-0.737257</td>\n",
       "      <td>-1.655878</td>\n",
       "    </tr>\n",
       "    <tr>\n",
       "      <th>2013-01-02</th>\n",
       "      <td>0.778381</td>\n",
       "      <td>0.677784</td>\n",
       "      <td>0.219261</td>\n",
       "      <td>0.721600</td>\n",
       "    </tr>\n",
       "    <tr>\n",
       "      <th>2013-01-03</th>\n",
       "      <td>2.427259</td>\n",
       "      <td>0.469846</td>\n",
       "      <td>0.912917</td>\n",
       "      <td>2.040025</td>\n",
       "    </tr>\n",
       "    <tr>\n",
       "      <th>2013-01-04</th>\n",
       "      <td>0.385060</td>\n",
       "      <td>2.024673</td>\n",
       "      <td>0.501425</td>\n",
       "      <td>-2.452209</td>\n",
       "    </tr>\n",
       "    <tr>\n",
       "      <th>2013-01-05</th>\n",
       "      <td>-0.198357</td>\n",
       "      <td>-1.307814</td>\n",
       "      <td>0.123993</td>\n",
       "      <td>-1.610923</td>\n",
       "    </tr>\n",
       "  </tbody>\n",
       "</table>\n",
       "</div>"
      ],
      "text/plain": [
       "                   A         B         C         D\n",
       "2013-01-01 -1.442322  0.387023 -0.737257 -1.655878\n",
       "2013-01-02  0.778381  0.677784  0.219261  0.721600\n",
       "2013-01-03  2.427259  0.469846  0.912917  2.040025\n",
       "2013-01-04  0.385060  2.024673  0.501425 -2.452209\n",
       "2013-01-05 -0.198357 -1.307814  0.123993 -1.610923"
      ]
     },
     "execution_count": 10,
     "metadata": {},
     "output_type": "execute_result"
    }
   ],
   "source": [
    "df.head() #前五筆"
   ]
  },
  {
   "cell_type": "code",
   "execution_count": 11,
   "metadata": {
    "collapsed": false
   },
   "outputs": [
    {
     "data": {
      "text/html": [
       "<div>\n",
       "<table border=\"1\" class=\"dataframe\">\n",
       "  <thead>\n",
       "    <tr style=\"text-align: right;\">\n",
       "      <th></th>\n",
       "      <th>A</th>\n",
       "      <th>B</th>\n",
       "      <th>C</th>\n",
       "      <th>D</th>\n",
       "    </tr>\n",
       "  </thead>\n",
       "  <tbody>\n",
       "    <tr>\n",
       "      <th>2013-01-04</th>\n",
       "      <td>0.385060</td>\n",
       "      <td>2.024673</td>\n",
       "      <td>0.501425</td>\n",
       "      <td>-2.452209</td>\n",
       "    </tr>\n",
       "    <tr>\n",
       "      <th>2013-01-05</th>\n",
       "      <td>-0.198357</td>\n",
       "      <td>-1.307814</td>\n",
       "      <td>0.123993</td>\n",
       "      <td>-1.610923</td>\n",
       "    </tr>\n",
       "    <tr>\n",
       "      <th>2013-01-06</th>\n",
       "      <td>-0.633057</td>\n",
       "      <td>0.054787</td>\n",
       "      <td>-0.159393</td>\n",
       "      <td>-0.701633</td>\n",
       "    </tr>\n",
       "  </tbody>\n",
       "</table>\n",
       "</div>"
      ],
      "text/plain": [
       "                   A         B         C         D\n",
       "2013-01-04  0.385060  2.024673  0.501425 -2.452209\n",
       "2013-01-05 -0.198357 -1.307814  0.123993 -1.610923\n",
       "2013-01-06 -0.633057  0.054787 -0.159393 -0.701633"
      ]
     },
     "execution_count": 11,
     "metadata": {},
     "output_type": "execute_result"
    }
   ],
   "source": [
    "df.tail(3) #最後三筆"
   ]
  },
  {
   "cell_type": "code",
   "execution_count": 12,
   "metadata": {
    "collapsed": false
   },
   "outputs": [
    {
     "data": {
      "text/plain": [
       "DatetimeIndex(['2013-01-01', '2013-01-02', '2013-01-03', '2013-01-04',\n",
       "               '2013-01-05', '2013-01-06'],\n",
       "              dtype='datetime64[ns]', freq='D')"
      ]
     },
     "execution_count": 12,
     "metadata": {},
     "output_type": "execute_result"
    }
   ],
   "source": [
    "df.index"
   ]
  },
  {
   "cell_type": "code",
   "execution_count": 13,
   "metadata": {
    "collapsed": false
   },
   "outputs": [
    {
     "data": {
      "text/plain": [
       "Index(['A', 'B', 'C', 'D'], dtype='object')"
      ]
     },
     "execution_count": 13,
     "metadata": {},
     "output_type": "execute_result"
    }
   ],
   "source": [
    "df.columns"
   ]
  },
  {
   "cell_type": "code",
   "execution_count": 14,
   "metadata": {
    "collapsed": false
   },
   "outputs": [
    {
     "data": {
      "text/plain": [
       "array([[-1.44232214,  0.38702339, -0.73725735, -1.65587795],\n",
       "       [ 0.77838106,  0.67778393,  0.21926085,  0.72159997],\n",
       "       [ 2.42725854,  0.46984629,  0.91291652,  2.04002538],\n",
       "       [ 0.38505981,  2.0246726 ,  0.50142464, -2.45220905],\n",
       "       [-0.1983572 , -1.3078137 ,  0.12399316, -1.61092311],\n",
       "       [-0.6330566 ,  0.0547867 , -0.1593932 , -0.70163346]])"
      ]
     },
     "execution_count": 14,
     "metadata": {},
     "output_type": "execute_result"
    }
   ],
   "source": [
    "df.values"
   ]
  },
  {
   "cell_type": "code",
   "execution_count": 15,
   "metadata": {
    "collapsed": false
   },
   "outputs": [
    {
     "data": {
      "text/html": [
       "<div>\n",
       "<table border=\"1\" class=\"dataframe\">\n",
       "  <thead>\n",
       "    <tr style=\"text-align: right;\">\n",
       "      <th></th>\n",
       "      <th>A</th>\n",
       "      <th>B</th>\n",
       "      <th>C</th>\n",
       "      <th>D</th>\n",
       "    </tr>\n",
       "  </thead>\n",
       "  <tbody>\n",
       "    <tr>\n",
       "      <th>count</th>\n",
       "      <td>6.000000</td>\n",
       "      <td>6.000000</td>\n",
       "      <td>6.000000</td>\n",
       "      <td>6.000000</td>\n",
       "    </tr>\n",
       "    <tr>\n",
       "      <th>mean</th>\n",
       "      <td>0.219494</td>\n",
       "      <td>0.384383</td>\n",
       "      <td>0.143491</td>\n",
       "      <td>-0.609836</td>\n",
       "    </tr>\n",
       "    <tr>\n",
       "      <th>std</th>\n",
       "      <td>1.332446</td>\n",
       "      <td>1.072950</td>\n",
       "      <td>0.564572</td>\n",
       "      <td>1.690777</td>\n",
       "    </tr>\n",
       "    <tr>\n",
       "      <th>min</th>\n",
       "      <td>-1.442322</td>\n",
       "      <td>-1.307814</td>\n",
       "      <td>-0.737257</td>\n",
       "      <td>-2.452209</td>\n",
       "    </tr>\n",
       "    <tr>\n",
       "      <th>25%</th>\n",
       "      <td>-0.524382</td>\n",
       "      <td>0.137846</td>\n",
       "      <td>-0.088547</td>\n",
       "      <td>-1.644639</td>\n",
       "    </tr>\n",
       "    <tr>\n",
       "      <th>50%</th>\n",
       "      <td>0.093351</td>\n",
       "      <td>0.428435</td>\n",
       "      <td>0.171627</td>\n",
       "      <td>-1.156278</td>\n",
       "    </tr>\n",
       "    <tr>\n",
       "      <th>75%</th>\n",
       "      <td>0.680051</td>\n",
       "      <td>0.625800</td>\n",
       "      <td>0.430884</td>\n",
       "      <td>0.365792</td>\n",
       "    </tr>\n",
       "    <tr>\n",
       "      <th>max</th>\n",
       "      <td>2.427259</td>\n",
       "      <td>2.024673</td>\n",
       "      <td>0.912917</td>\n",
       "      <td>2.040025</td>\n",
       "    </tr>\n",
       "  </tbody>\n",
       "</table>\n",
       "</div>"
      ],
      "text/plain": [
       "              A         B         C         D\n",
       "count  6.000000  6.000000  6.000000  6.000000\n",
       "mean   0.219494  0.384383  0.143491 -0.609836\n",
       "std    1.332446  1.072950  0.564572  1.690777\n",
       "min   -1.442322 -1.307814 -0.737257 -2.452209\n",
       "25%   -0.524382  0.137846 -0.088547 -1.644639\n",
       "50%    0.093351  0.428435  0.171627 -1.156278\n",
       "75%    0.680051  0.625800  0.430884  0.365792\n",
       "max    2.427259  2.024673  0.912917  2.040025"
      ]
     },
     "execution_count": 15,
     "metadata": {},
     "output_type": "execute_result"
    }
   ],
   "source": [
    "df.describe()"
   ]
  },
  {
   "cell_type": "code",
   "execution_count": 16,
   "metadata": {
    "collapsed": false
   },
   "outputs": [
    {
     "data": {
      "text/html": [
       "<div>\n",
       "<table border=\"1\" class=\"dataframe\">\n",
       "  <thead>\n",
       "    <tr style=\"text-align: right;\">\n",
       "      <th></th>\n",
       "      <th>2013-01-01 00:00:00</th>\n",
       "      <th>2013-01-02 00:00:00</th>\n",
       "      <th>2013-01-03 00:00:00</th>\n",
       "      <th>2013-01-04 00:00:00</th>\n",
       "      <th>2013-01-05 00:00:00</th>\n",
       "      <th>2013-01-06 00:00:00</th>\n",
       "    </tr>\n",
       "  </thead>\n",
       "  <tbody>\n",
       "    <tr>\n",
       "      <th>A</th>\n",
       "      <td>-1.442322</td>\n",
       "      <td>0.778381</td>\n",
       "      <td>2.427259</td>\n",
       "      <td>0.385060</td>\n",
       "      <td>-0.198357</td>\n",
       "      <td>-0.633057</td>\n",
       "    </tr>\n",
       "    <tr>\n",
       "      <th>B</th>\n",
       "      <td>0.387023</td>\n",
       "      <td>0.677784</td>\n",
       "      <td>0.469846</td>\n",
       "      <td>2.024673</td>\n",
       "      <td>-1.307814</td>\n",
       "      <td>0.054787</td>\n",
       "    </tr>\n",
       "    <tr>\n",
       "      <th>C</th>\n",
       "      <td>-0.737257</td>\n",
       "      <td>0.219261</td>\n",
       "      <td>0.912917</td>\n",
       "      <td>0.501425</td>\n",
       "      <td>0.123993</td>\n",
       "      <td>-0.159393</td>\n",
       "    </tr>\n",
       "    <tr>\n",
       "      <th>D</th>\n",
       "      <td>-1.655878</td>\n",
       "      <td>0.721600</td>\n",
       "      <td>2.040025</td>\n",
       "      <td>-2.452209</td>\n",
       "      <td>-1.610923</td>\n",
       "      <td>-0.701633</td>\n",
       "    </tr>\n",
       "  </tbody>\n",
       "</table>\n",
       "</div>"
      ],
      "text/plain": [
       "   2013-01-01  2013-01-02  2013-01-03  2013-01-04  2013-01-05  2013-01-06\n",
       "A   -1.442322    0.778381    2.427259    0.385060   -0.198357   -0.633057\n",
       "B    0.387023    0.677784    0.469846    2.024673   -1.307814    0.054787\n",
       "C   -0.737257    0.219261    0.912917    0.501425    0.123993   -0.159393\n",
       "D   -1.655878    0.721600    2.040025   -2.452209   -1.610923   -0.701633"
      ]
     },
     "execution_count": 16,
     "metadata": {},
     "output_type": "execute_result"
    }
   ],
   "source": [
    "df.T"
   ]
  },
  {
   "cell_type": "code",
   "execution_count": 17,
   "metadata": {
    "collapsed": false
   },
   "outputs": [
    {
     "data": {
      "text/html": [
       "<div>\n",
       "<table border=\"1\" class=\"dataframe\">\n",
       "  <thead>\n",
       "    <tr style=\"text-align: right;\">\n",
       "      <th></th>\n",
       "      <th>D</th>\n",
       "      <th>C</th>\n",
       "      <th>B</th>\n",
       "      <th>A</th>\n",
       "    </tr>\n",
       "  </thead>\n",
       "  <tbody>\n",
       "    <tr>\n",
       "      <th>2013-01-01</th>\n",
       "      <td>-1.655878</td>\n",
       "      <td>-0.737257</td>\n",
       "      <td>0.387023</td>\n",
       "      <td>-1.442322</td>\n",
       "    </tr>\n",
       "    <tr>\n",
       "      <th>2013-01-02</th>\n",
       "      <td>0.721600</td>\n",
       "      <td>0.219261</td>\n",
       "      <td>0.677784</td>\n",
       "      <td>0.778381</td>\n",
       "    </tr>\n",
       "    <tr>\n",
       "      <th>2013-01-03</th>\n",
       "      <td>2.040025</td>\n",
       "      <td>0.912917</td>\n",
       "      <td>0.469846</td>\n",
       "      <td>2.427259</td>\n",
       "    </tr>\n",
       "    <tr>\n",
       "      <th>2013-01-04</th>\n",
       "      <td>-2.452209</td>\n",
       "      <td>0.501425</td>\n",
       "      <td>2.024673</td>\n",
       "      <td>0.385060</td>\n",
       "    </tr>\n",
       "    <tr>\n",
       "      <th>2013-01-05</th>\n",
       "      <td>-1.610923</td>\n",
       "      <td>0.123993</td>\n",
       "      <td>-1.307814</td>\n",
       "      <td>-0.198357</td>\n",
       "    </tr>\n",
       "    <tr>\n",
       "      <th>2013-01-06</th>\n",
       "      <td>-0.701633</td>\n",
       "      <td>-0.159393</td>\n",
       "      <td>0.054787</td>\n",
       "      <td>-0.633057</td>\n",
       "    </tr>\n",
       "  </tbody>\n",
       "</table>\n",
       "</div>"
      ],
      "text/plain": [
       "                   D         C         B         A\n",
       "2013-01-01 -1.655878 -0.737257  0.387023 -1.442322\n",
       "2013-01-02  0.721600  0.219261  0.677784  0.778381\n",
       "2013-01-03  2.040025  0.912917  0.469846  2.427259\n",
       "2013-01-04 -2.452209  0.501425  2.024673  0.385060\n",
       "2013-01-05 -1.610923  0.123993 -1.307814 -0.198357\n",
       "2013-01-06 -0.701633 -0.159393  0.054787 -0.633057"
      ]
     },
     "execution_count": 17,
     "metadata": {},
     "output_type": "execute_result"
    }
   ],
   "source": [
    "df.sort_index(axis=1, ascending=False) #第二維度反向排序"
   ]
  },
  {
   "cell_type": "code",
   "execution_count": 18,
   "metadata": {
    "collapsed": false
   },
   "outputs": [
    {
     "data": {
      "text/html": [
       "<div>\n",
       "<table border=\"1\" class=\"dataframe\">\n",
       "  <thead>\n",
       "    <tr style=\"text-align: right;\">\n",
       "      <th></th>\n",
       "      <th>A</th>\n",
       "      <th>B</th>\n",
       "      <th>C</th>\n",
       "      <th>D</th>\n",
       "    </tr>\n",
       "  </thead>\n",
       "  <tbody>\n",
       "    <tr>\n",
       "      <th>2013-01-05</th>\n",
       "      <td>-0.198357</td>\n",
       "      <td>-1.307814</td>\n",
       "      <td>0.123993</td>\n",
       "      <td>-1.610923</td>\n",
       "    </tr>\n",
       "    <tr>\n",
       "      <th>2013-01-06</th>\n",
       "      <td>-0.633057</td>\n",
       "      <td>0.054787</td>\n",
       "      <td>-0.159393</td>\n",
       "      <td>-0.701633</td>\n",
       "    </tr>\n",
       "    <tr>\n",
       "      <th>2013-01-01</th>\n",
       "      <td>-1.442322</td>\n",
       "      <td>0.387023</td>\n",
       "      <td>-0.737257</td>\n",
       "      <td>-1.655878</td>\n",
       "    </tr>\n",
       "    <tr>\n",
       "      <th>2013-01-03</th>\n",
       "      <td>2.427259</td>\n",
       "      <td>0.469846</td>\n",
       "      <td>0.912917</td>\n",
       "      <td>2.040025</td>\n",
       "    </tr>\n",
       "    <tr>\n",
       "      <th>2013-01-02</th>\n",
       "      <td>0.778381</td>\n",
       "      <td>0.677784</td>\n",
       "      <td>0.219261</td>\n",
       "      <td>0.721600</td>\n",
       "    </tr>\n",
       "    <tr>\n",
       "      <th>2013-01-04</th>\n",
       "      <td>0.385060</td>\n",
       "      <td>2.024673</td>\n",
       "      <td>0.501425</td>\n",
       "      <td>-2.452209</td>\n",
       "    </tr>\n",
       "  </tbody>\n",
       "</table>\n",
       "</div>"
      ],
      "text/plain": [
       "                   A         B         C         D\n",
       "2013-01-05 -0.198357 -1.307814  0.123993 -1.610923\n",
       "2013-01-06 -0.633057  0.054787 -0.159393 -0.701633\n",
       "2013-01-01 -1.442322  0.387023 -0.737257 -1.655878\n",
       "2013-01-03  2.427259  0.469846  0.912917  2.040025\n",
       "2013-01-02  0.778381  0.677784  0.219261  0.721600\n",
       "2013-01-04  0.385060  2.024673  0.501425 -2.452209"
      ]
     },
     "execution_count": 18,
     "metadata": {},
     "output_type": "execute_result"
    }
   ],
   "source": [
    "df.sort_values(by='B')"
   ]
  },
  {
   "cell_type": "markdown",
   "metadata": {},
   "source": [
    "# Selection"
   ]
  },
  {
   "cell_type": "code",
   "execution_count": 19,
   "metadata": {
    "collapsed": false
   },
   "outputs": [
    {
     "data": {
      "text/plain": [
       "2013-01-01   -1.442322\n",
       "2013-01-02    0.778381\n",
       "2013-01-03    2.427259\n",
       "2013-01-04    0.385060\n",
       "2013-01-05   -0.198357\n",
       "2013-01-06   -0.633057\n",
       "Freq: D, Name: A, dtype: float64"
      ]
     },
     "execution_count": 19,
     "metadata": {},
     "output_type": "execute_result"
    }
   ],
   "source": [
    "df['A']"
   ]
  },
  {
   "cell_type": "code",
   "execution_count": 20,
   "metadata": {
    "collapsed": false
   },
   "outputs": [
    {
     "data": {
      "text/html": [
       "<div>\n",
       "<table border=\"1\" class=\"dataframe\">\n",
       "  <thead>\n",
       "    <tr style=\"text-align: right;\">\n",
       "      <th></th>\n",
       "      <th>A</th>\n",
       "      <th>B</th>\n",
       "      <th>C</th>\n",
       "      <th>D</th>\n",
       "    </tr>\n",
       "  </thead>\n",
       "  <tbody>\n",
       "    <tr>\n",
       "      <th>2013-01-01</th>\n",
       "      <td>-1.442322</td>\n",
       "      <td>0.387023</td>\n",
       "      <td>-0.737257</td>\n",
       "      <td>-1.655878</td>\n",
       "    </tr>\n",
       "    <tr>\n",
       "      <th>2013-01-02</th>\n",
       "      <td>0.778381</td>\n",
       "      <td>0.677784</td>\n",
       "      <td>0.219261</td>\n",
       "      <td>0.721600</td>\n",
       "    </tr>\n",
       "    <tr>\n",
       "      <th>2013-01-03</th>\n",
       "      <td>2.427259</td>\n",
       "      <td>0.469846</td>\n",
       "      <td>0.912917</td>\n",
       "      <td>2.040025</td>\n",
       "    </tr>\n",
       "  </tbody>\n",
       "</table>\n",
       "</div>"
      ],
      "text/plain": [
       "                   A         B         C         D\n",
       "2013-01-01 -1.442322  0.387023 -0.737257 -1.655878\n",
       "2013-01-02  0.778381  0.677784  0.219261  0.721600\n",
       "2013-01-03  2.427259  0.469846  0.912917  2.040025"
      ]
     },
     "execution_count": 20,
     "metadata": {},
     "output_type": "execute_result"
    }
   ],
   "source": [
    "df[0:3]"
   ]
  },
  {
   "cell_type": "code",
   "execution_count": 21,
   "metadata": {
    "collapsed": false
   },
   "outputs": [
    {
     "data": {
      "text/html": [
       "<div>\n",
       "<table border=\"1\" class=\"dataframe\">\n",
       "  <thead>\n",
       "    <tr style=\"text-align: right;\">\n",
       "      <th></th>\n",
       "      <th>A</th>\n",
       "      <th>B</th>\n",
       "      <th>C</th>\n",
       "      <th>D</th>\n",
       "    </tr>\n",
       "  </thead>\n",
       "  <tbody>\n",
       "    <tr>\n",
       "      <th>2013-01-02</th>\n",
       "      <td>0.778381</td>\n",
       "      <td>0.677784</td>\n",
       "      <td>0.219261</td>\n",
       "      <td>0.721600</td>\n",
       "    </tr>\n",
       "    <tr>\n",
       "      <th>2013-01-03</th>\n",
       "      <td>2.427259</td>\n",
       "      <td>0.469846</td>\n",
       "      <td>0.912917</td>\n",
       "      <td>2.040025</td>\n",
       "    </tr>\n",
       "    <tr>\n",
       "      <th>2013-01-04</th>\n",
       "      <td>0.385060</td>\n",
       "      <td>2.024673</td>\n",
       "      <td>0.501425</td>\n",
       "      <td>-2.452209</td>\n",
       "    </tr>\n",
       "  </tbody>\n",
       "</table>\n",
       "</div>"
      ],
      "text/plain": [
       "                   A         B         C         D\n",
       "2013-01-02  0.778381  0.677784  0.219261  0.721600\n",
       "2013-01-03  2.427259  0.469846  0.912917  2.040025\n",
       "2013-01-04  0.385060  2.024673  0.501425 -2.452209"
      ]
     },
     "execution_count": 21,
     "metadata": {},
     "output_type": "execute_result"
    }
   ],
   "source": [
    "df['20130102':'20130104']"
   ]
  },
  {
   "cell_type": "code",
   "execution_count": 22,
   "metadata": {
    "collapsed": false
   },
   "outputs": [
    {
     "data": {
      "text/plain": [
       "A   -1.442322\n",
       "B    0.387023\n",
       "C   -0.737257\n",
       "D   -1.655878\n",
       "Name: 2013-01-01 00:00:00, dtype: float64"
      ]
     },
     "execution_count": 22,
     "metadata": {},
     "output_type": "execute_result"
    }
   ],
   "source": [
    "df.loc[dates[0]]"
   ]
  },
  {
   "cell_type": "code",
   "execution_count": 23,
   "metadata": {
    "collapsed": false
   },
   "outputs": [
    {
     "data": {
      "text/html": [
       "<div>\n",
       "<table border=\"1\" class=\"dataframe\">\n",
       "  <thead>\n",
       "    <tr style=\"text-align: right;\">\n",
       "      <th></th>\n",
       "      <th>A</th>\n",
       "      <th>B</th>\n",
       "    </tr>\n",
       "  </thead>\n",
       "  <tbody>\n",
       "    <tr>\n",
       "      <th>2013-01-01</th>\n",
       "      <td>-1.442322</td>\n",
       "      <td>0.387023</td>\n",
       "    </tr>\n",
       "    <tr>\n",
       "      <th>2013-01-02</th>\n",
       "      <td>0.778381</td>\n",
       "      <td>0.677784</td>\n",
       "    </tr>\n",
       "    <tr>\n",
       "      <th>2013-01-03</th>\n",
       "      <td>2.427259</td>\n",
       "      <td>0.469846</td>\n",
       "    </tr>\n",
       "    <tr>\n",
       "      <th>2013-01-04</th>\n",
       "      <td>0.385060</td>\n",
       "      <td>2.024673</td>\n",
       "    </tr>\n",
       "    <tr>\n",
       "      <th>2013-01-05</th>\n",
       "      <td>-0.198357</td>\n",
       "      <td>-1.307814</td>\n",
       "    </tr>\n",
       "    <tr>\n",
       "      <th>2013-01-06</th>\n",
       "      <td>-0.633057</td>\n",
       "      <td>0.054787</td>\n",
       "    </tr>\n",
       "  </tbody>\n",
       "</table>\n",
       "</div>"
      ],
      "text/plain": [
       "                   A         B\n",
       "2013-01-01 -1.442322  0.387023\n",
       "2013-01-02  0.778381  0.677784\n",
       "2013-01-03  2.427259  0.469846\n",
       "2013-01-04  0.385060  2.024673\n",
       "2013-01-05 -0.198357 -1.307814\n",
       "2013-01-06 -0.633057  0.054787"
      ]
     },
     "execution_count": 23,
     "metadata": {},
     "output_type": "execute_result"
    }
   ],
   "source": [
    "df.loc[:,['A','B']]"
   ]
  },
  {
   "cell_type": "code",
   "execution_count": 24,
   "metadata": {
    "collapsed": false
   },
   "outputs": [
    {
     "data": {
      "text/html": [
       "<div>\n",
       "<table border=\"1\" class=\"dataframe\">\n",
       "  <thead>\n",
       "    <tr style=\"text-align: right;\">\n",
       "      <th></th>\n",
       "      <th>A</th>\n",
       "      <th>B</th>\n",
       "    </tr>\n",
       "  </thead>\n",
       "  <tbody>\n",
       "    <tr>\n",
       "      <th>2013-01-02</th>\n",
       "      <td>0.778381</td>\n",
       "      <td>0.677784</td>\n",
       "    </tr>\n",
       "    <tr>\n",
       "      <th>2013-01-03</th>\n",
       "      <td>2.427259</td>\n",
       "      <td>0.469846</td>\n",
       "    </tr>\n",
       "    <tr>\n",
       "      <th>2013-01-04</th>\n",
       "      <td>0.385060</td>\n",
       "      <td>2.024673</td>\n",
       "    </tr>\n",
       "  </tbody>\n",
       "</table>\n",
       "</div>"
      ],
      "text/plain": [
       "                   A         B\n",
       "2013-01-02  0.778381  0.677784\n",
       "2013-01-03  2.427259  0.469846\n",
       "2013-01-04  0.385060  2.024673"
      ]
     },
     "execution_count": 24,
     "metadata": {},
     "output_type": "execute_result"
    }
   ],
   "source": [
    "df.loc['20130102':'20130104',['A','B']]"
   ]
  },
  {
   "cell_type": "code",
   "execution_count": 25,
   "metadata": {
    "collapsed": false
   },
   "outputs": [
    {
     "data": {
      "text/plain": [
       "A    0.778381\n",
       "B    0.677784\n",
       "Name: 2013-01-02 00:00:00, dtype: float64"
      ]
     },
     "execution_count": 25,
     "metadata": {},
     "output_type": "execute_result"
    }
   ],
   "source": [
    "df.loc['20130102',['A','B']]"
   ]
  },
  {
   "cell_type": "code",
   "execution_count": 26,
   "metadata": {
    "collapsed": false
   },
   "outputs": [
    {
     "data": {
      "text/plain": [
       "-1.4423221449436747"
      ]
     },
     "execution_count": 26,
     "metadata": {},
     "output_type": "execute_result"
    }
   ],
   "source": [
    "df.loc[dates[0],'A']"
   ]
  },
  {
   "cell_type": "code",
   "execution_count": 27,
   "metadata": {
    "collapsed": false
   },
   "outputs": [
    {
     "data": {
      "text/plain": [
       "-1.4423221449436747"
      ]
     },
     "execution_count": 27,
     "metadata": {},
     "output_type": "execute_result"
    }
   ],
   "source": [
    "df.at[dates[0],'A']"
   ]
  },
  {
   "cell_type": "code",
   "execution_count": 28,
   "metadata": {
    "collapsed": false
   },
   "outputs": [
    {
     "data": {
      "text/plain": [
       "A    0.385060\n",
       "B    2.024673\n",
       "C    0.501425\n",
       "D   -2.452209\n",
       "Name: 2013-01-04 00:00:00, dtype: float64"
      ]
     },
     "execution_count": 28,
     "metadata": {},
     "output_type": "execute_result"
    }
   ],
   "source": [
    "df.iloc[3]"
   ]
  },
  {
   "cell_type": "code",
   "execution_count": 29,
   "metadata": {
    "collapsed": false
   },
   "outputs": [
    {
     "data": {
      "text/html": [
       "<div>\n",
       "<table border=\"1\" class=\"dataframe\">\n",
       "  <thead>\n",
       "    <tr style=\"text-align: right;\">\n",
       "      <th></th>\n",
       "      <th>A</th>\n",
       "      <th>B</th>\n",
       "    </tr>\n",
       "  </thead>\n",
       "  <tbody>\n",
       "    <tr>\n",
       "      <th>2013-01-04</th>\n",
       "      <td>0.385060</td>\n",
       "      <td>2.024673</td>\n",
       "    </tr>\n",
       "    <tr>\n",
       "      <th>2013-01-05</th>\n",
       "      <td>-0.198357</td>\n",
       "      <td>-1.307814</td>\n",
       "    </tr>\n",
       "  </tbody>\n",
       "</table>\n",
       "</div>"
      ],
      "text/plain": [
       "                   A         B\n",
       "2013-01-04  0.385060  2.024673\n",
       "2013-01-05 -0.198357 -1.307814"
      ]
     },
     "execution_count": 29,
     "metadata": {},
     "output_type": "execute_result"
    }
   ],
   "source": [
    "df.iloc[3:5,0:2]"
   ]
  },
  {
   "cell_type": "code",
   "execution_count": 30,
   "metadata": {
    "collapsed": false
   },
   "outputs": [
    {
     "data": {
      "text/html": [
       "<div>\n",
       "<table border=\"1\" class=\"dataframe\">\n",
       "  <thead>\n",
       "    <tr style=\"text-align: right;\">\n",
       "      <th></th>\n",
       "      <th>A</th>\n",
       "      <th>C</th>\n",
       "    </tr>\n",
       "  </thead>\n",
       "  <tbody>\n",
       "    <tr>\n",
       "      <th>2013-01-02</th>\n",
       "      <td>0.778381</td>\n",
       "      <td>0.219261</td>\n",
       "    </tr>\n",
       "    <tr>\n",
       "      <th>2013-01-03</th>\n",
       "      <td>2.427259</td>\n",
       "      <td>0.912917</td>\n",
       "    </tr>\n",
       "    <tr>\n",
       "      <th>2013-01-05</th>\n",
       "      <td>-0.198357</td>\n",
       "      <td>0.123993</td>\n",
       "    </tr>\n",
       "  </tbody>\n",
       "</table>\n",
       "</div>"
      ],
      "text/plain": [
       "                   A         C\n",
       "2013-01-02  0.778381  0.219261\n",
       "2013-01-03  2.427259  0.912917\n",
       "2013-01-05 -0.198357  0.123993"
      ]
     },
     "execution_count": 30,
     "metadata": {},
     "output_type": "execute_result"
    }
   ],
   "source": [
    "df.iloc[[1,2,4],[0,2]]"
   ]
  },
  {
   "cell_type": "code",
   "execution_count": 31,
   "metadata": {
    "collapsed": false
   },
   "outputs": [
    {
     "data": {
      "text/html": [
       "<div>\n",
       "<table border=\"1\" class=\"dataframe\">\n",
       "  <thead>\n",
       "    <tr style=\"text-align: right;\">\n",
       "      <th></th>\n",
       "      <th>A</th>\n",
       "      <th>B</th>\n",
       "      <th>C</th>\n",
       "      <th>D</th>\n",
       "    </tr>\n",
       "  </thead>\n",
       "  <tbody>\n",
       "    <tr>\n",
       "      <th>2013-01-02</th>\n",
       "      <td>0.778381</td>\n",
       "      <td>0.677784</td>\n",
       "      <td>0.219261</td>\n",
       "      <td>0.721600</td>\n",
       "    </tr>\n",
       "    <tr>\n",
       "      <th>2013-01-03</th>\n",
       "      <td>2.427259</td>\n",
       "      <td>0.469846</td>\n",
       "      <td>0.912917</td>\n",
       "      <td>2.040025</td>\n",
       "    </tr>\n",
       "  </tbody>\n",
       "</table>\n",
       "</div>"
      ],
      "text/plain": [
       "                   A         B         C         D\n",
       "2013-01-02  0.778381  0.677784  0.219261  0.721600\n",
       "2013-01-03  2.427259  0.469846  0.912917  2.040025"
      ]
     },
     "execution_count": 31,
     "metadata": {},
     "output_type": "execute_result"
    }
   ],
   "source": [
    "df.iloc[1:3,:]"
   ]
  },
  {
   "cell_type": "code",
   "execution_count": 32,
   "metadata": {
    "collapsed": false
   },
   "outputs": [
    {
     "data": {
      "text/html": [
       "<div>\n",
       "<table border=\"1\" class=\"dataframe\">\n",
       "  <thead>\n",
       "    <tr style=\"text-align: right;\">\n",
       "      <th></th>\n",
       "      <th>B</th>\n",
       "      <th>C</th>\n",
       "    </tr>\n",
       "  </thead>\n",
       "  <tbody>\n",
       "    <tr>\n",
       "      <th>2013-01-01</th>\n",
       "      <td>0.387023</td>\n",
       "      <td>-0.737257</td>\n",
       "    </tr>\n",
       "    <tr>\n",
       "      <th>2013-01-02</th>\n",
       "      <td>0.677784</td>\n",
       "      <td>0.219261</td>\n",
       "    </tr>\n",
       "    <tr>\n",
       "      <th>2013-01-03</th>\n",
       "      <td>0.469846</td>\n",
       "      <td>0.912917</td>\n",
       "    </tr>\n",
       "    <tr>\n",
       "      <th>2013-01-04</th>\n",
       "      <td>2.024673</td>\n",
       "      <td>0.501425</td>\n",
       "    </tr>\n",
       "    <tr>\n",
       "      <th>2013-01-05</th>\n",
       "      <td>-1.307814</td>\n",
       "      <td>0.123993</td>\n",
       "    </tr>\n",
       "    <tr>\n",
       "      <th>2013-01-06</th>\n",
       "      <td>0.054787</td>\n",
       "      <td>-0.159393</td>\n",
       "    </tr>\n",
       "  </tbody>\n",
       "</table>\n",
       "</div>"
      ],
      "text/plain": [
       "                   B         C\n",
       "2013-01-01  0.387023 -0.737257\n",
       "2013-01-02  0.677784  0.219261\n",
       "2013-01-03  0.469846  0.912917\n",
       "2013-01-04  2.024673  0.501425\n",
       "2013-01-05 -1.307814  0.123993\n",
       "2013-01-06  0.054787 -0.159393"
      ]
     },
     "execution_count": 32,
     "metadata": {},
     "output_type": "execute_result"
    }
   ],
   "source": [
    "df.iloc[:,1:3]"
   ]
  },
  {
   "cell_type": "code",
   "execution_count": 33,
   "metadata": {
    "collapsed": false
   },
   "outputs": [
    {
     "data": {
      "text/plain": [
       "0.67778393373156332"
      ]
     },
     "execution_count": 33,
     "metadata": {},
     "output_type": "execute_result"
    }
   ],
   "source": [
    "df.iloc[1,1]"
   ]
  },
  {
   "cell_type": "code",
   "execution_count": 34,
   "metadata": {
    "collapsed": false
   },
   "outputs": [
    {
     "data": {
      "text/plain": [
       "0.67778393373156332"
      ]
     },
     "execution_count": 34,
     "metadata": {},
     "output_type": "execute_result"
    }
   ],
   "source": [
    "df.iat[1,1]"
   ]
  },
  {
   "cell_type": "markdown",
   "metadata": {},
   "source": [
    "# Boolean Indexing"
   ]
  },
  {
   "cell_type": "code",
   "execution_count": 35,
   "metadata": {
    "collapsed": false
   },
   "outputs": [
    {
     "data": {
      "text/html": [
       "<div>\n",
       "<table border=\"1\" class=\"dataframe\">\n",
       "  <thead>\n",
       "    <tr style=\"text-align: right;\">\n",
       "      <th></th>\n",
       "      <th>A</th>\n",
       "      <th>B</th>\n",
       "      <th>C</th>\n",
       "      <th>D</th>\n",
       "    </tr>\n",
       "  </thead>\n",
       "  <tbody>\n",
       "    <tr>\n",
       "      <th>2013-01-02</th>\n",
       "      <td>0.778381</td>\n",
       "      <td>0.677784</td>\n",
       "      <td>0.219261</td>\n",
       "      <td>0.721600</td>\n",
       "    </tr>\n",
       "    <tr>\n",
       "      <th>2013-01-03</th>\n",
       "      <td>2.427259</td>\n",
       "      <td>0.469846</td>\n",
       "      <td>0.912917</td>\n",
       "      <td>2.040025</td>\n",
       "    </tr>\n",
       "    <tr>\n",
       "      <th>2013-01-04</th>\n",
       "      <td>0.385060</td>\n",
       "      <td>2.024673</td>\n",
       "      <td>0.501425</td>\n",
       "      <td>-2.452209</td>\n",
       "    </tr>\n",
       "  </tbody>\n",
       "</table>\n",
       "</div>"
      ],
      "text/plain": [
       "                   A         B         C         D\n",
       "2013-01-02  0.778381  0.677784  0.219261  0.721600\n",
       "2013-01-03  2.427259  0.469846  0.912917  2.040025\n",
       "2013-01-04  0.385060  2.024673  0.501425 -2.452209"
      ]
     },
     "execution_count": 35,
     "metadata": {},
     "output_type": "execute_result"
    }
   ],
   "source": [
    "df[df.A > 0]"
   ]
  },
  {
   "cell_type": "code",
   "execution_count": 36,
   "metadata": {
    "collapsed": false
   },
   "outputs": [
    {
     "data": {
      "text/html": [
       "<div>\n",
       "<table border=\"1\" class=\"dataframe\">\n",
       "  <thead>\n",
       "    <tr style=\"text-align: right;\">\n",
       "      <th></th>\n",
       "      <th>A</th>\n",
       "      <th>B</th>\n",
       "      <th>C</th>\n",
       "      <th>D</th>\n",
       "    </tr>\n",
       "  </thead>\n",
       "  <tbody>\n",
       "    <tr>\n",
       "      <th>2013-01-01</th>\n",
       "      <td>NaN</td>\n",
       "      <td>0.387023</td>\n",
       "      <td>NaN</td>\n",
       "      <td>NaN</td>\n",
       "    </tr>\n",
       "    <tr>\n",
       "      <th>2013-01-02</th>\n",
       "      <td>0.778381</td>\n",
       "      <td>0.677784</td>\n",
       "      <td>0.219261</td>\n",
       "      <td>0.721600</td>\n",
       "    </tr>\n",
       "    <tr>\n",
       "      <th>2013-01-03</th>\n",
       "      <td>2.427259</td>\n",
       "      <td>0.469846</td>\n",
       "      <td>0.912917</td>\n",
       "      <td>2.040025</td>\n",
       "    </tr>\n",
       "    <tr>\n",
       "      <th>2013-01-04</th>\n",
       "      <td>0.385060</td>\n",
       "      <td>2.024673</td>\n",
       "      <td>0.501425</td>\n",
       "      <td>NaN</td>\n",
       "    </tr>\n",
       "    <tr>\n",
       "      <th>2013-01-05</th>\n",
       "      <td>NaN</td>\n",
       "      <td>NaN</td>\n",
       "      <td>0.123993</td>\n",
       "      <td>NaN</td>\n",
       "    </tr>\n",
       "    <tr>\n",
       "      <th>2013-01-06</th>\n",
       "      <td>NaN</td>\n",
       "      <td>0.054787</td>\n",
       "      <td>NaN</td>\n",
       "      <td>NaN</td>\n",
       "    </tr>\n",
       "  </tbody>\n",
       "</table>\n",
       "</div>"
      ],
      "text/plain": [
       "                   A         B         C         D\n",
       "2013-01-01       NaN  0.387023       NaN       NaN\n",
       "2013-01-02  0.778381  0.677784  0.219261  0.721600\n",
       "2013-01-03  2.427259  0.469846  0.912917  2.040025\n",
       "2013-01-04  0.385060  2.024673  0.501425       NaN\n",
       "2013-01-05       NaN       NaN  0.123993       NaN\n",
       "2013-01-06       NaN  0.054787       NaN       NaN"
      ]
     },
     "execution_count": 36,
     "metadata": {},
     "output_type": "execute_result"
    }
   ],
   "source": [
    "df[df > 0]"
   ]
  },
  {
   "cell_type": "code",
   "execution_count": 37,
   "metadata": {
    "collapsed": false
   },
   "outputs": [
    {
     "data": {
      "text/html": [
       "<div>\n",
       "<table border=\"1\" class=\"dataframe\">\n",
       "  <thead>\n",
       "    <tr style=\"text-align: right;\">\n",
       "      <th></th>\n",
       "      <th>A</th>\n",
       "      <th>B</th>\n",
       "      <th>C</th>\n",
       "      <th>D</th>\n",
       "      <th>E</th>\n",
       "    </tr>\n",
       "  </thead>\n",
       "  <tbody>\n",
       "    <tr>\n",
       "      <th>2013-01-01</th>\n",
       "      <td>-1.442322</td>\n",
       "      <td>0.387023</td>\n",
       "      <td>-0.737257</td>\n",
       "      <td>-1.655878</td>\n",
       "      <td>one</td>\n",
       "    </tr>\n",
       "    <tr>\n",
       "      <th>2013-01-02</th>\n",
       "      <td>0.778381</td>\n",
       "      <td>0.677784</td>\n",
       "      <td>0.219261</td>\n",
       "      <td>0.721600</td>\n",
       "      <td>one</td>\n",
       "    </tr>\n",
       "    <tr>\n",
       "      <th>2013-01-03</th>\n",
       "      <td>2.427259</td>\n",
       "      <td>0.469846</td>\n",
       "      <td>0.912917</td>\n",
       "      <td>2.040025</td>\n",
       "      <td>two</td>\n",
       "    </tr>\n",
       "    <tr>\n",
       "      <th>2013-01-04</th>\n",
       "      <td>0.385060</td>\n",
       "      <td>2.024673</td>\n",
       "      <td>0.501425</td>\n",
       "      <td>-2.452209</td>\n",
       "      <td>three</td>\n",
       "    </tr>\n",
       "    <tr>\n",
       "      <th>2013-01-05</th>\n",
       "      <td>-0.198357</td>\n",
       "      <td>-1.307814</td>\n",
       "      <td>0.123993</td>\n",
       "      <td>-1.610923</td>\n",
       "      <td>four</td>\n",
       "    </tr>\n",
       "    <tr>\n",
       "      <th>2013-01-06</th>\n",
       "      <td>-0.633057</td>\n",
       "      <td>0.054787</td>\n",
       "      <td>-0.159393</td>\n",
       "      <td>-0.701633</td>\n",
       "      <td>three</td>\n",
       "    </tr>\n",
       "  </tbody>\n",
       "</table>\n",
       "</div>"
      ],
      "text/plain": [
       "                   A         B         C         D      E\n",
       "2013-01-01 -1.442322  0.387023 -0.737257 -1.655878    one\n",
       "2013-01-02  0.778381  0.677784  0.219261  0.721600    one\n",
       "2013-01-03  2.427259  0.469846  0.912917  2.040025    two\n",
       "2013-01-04  0.385060  2.024673  0.501425 -2.452209  three\n",
       "2013-01-05 -0.198357 -1.307814  0.123993 -1.610923   four\n",
       "2013-01-06 -0.633057  0.054787 -0.159393 -0.701633  three"
      ]
     },
     "execution_count": 37,
     "metadata": {},
     "output_type": "execute_result"
    }
   ],
   "source": [
    "df2 = df.copy()\n",
    "df2['E'] = ['one', 'one','two','three','four','three']\n",
    "df2"
   ]
  },
  {
   "cell_type": "code",
   "execution_count": 38,
   "metadata": {
    "collapsed": false
   },
   "outputs": [
    {
     "data": {
      "text/plain": [
       "2013-01-02    1\n",
       "2013-01-03    2\n",
       "2013-01-04    3\n",
       "2013-01-05    4\n",
       "2013-01-06    5\n",
       "2013-01-07    6\n",
       "Freq: D, dtype: int64"
      ]
     },
     "execution_count": 38,
     "metadata": {},
     "output_type": "execute_result"
    }
   ],
   "source": [
    "s1 = pd.Series([1,2,3,4,5,6], index=pd.date_range('20130102', periods=6))\n",
    "s1"
   ]
  },
  {
   "cell_type": "code",
   "execution_count": 40,
   "metadata": {
    "collapsed": false
   },
   "outputs": [
    {
     "data": {
      "text/html": [
       "<div>\n",
       "<table border=\"1\" class=\"dataframe\">\n",
       "  <thead>\n",
       "    <tr style=\"text-align: right;\">\n",
       "      <th></th>\n",
       "      <th>A</th>\n",
       "      <th>B</th>\n",
       "      <th>C</th>\n",
       "      <th>D</th>\n",
       "    </tr>\n",
       "  </thead>\n",
       "  <tbody>\n",
       "    <tr>\n",
       "      <th>2013-01-01</th>\n",
       "      <td>0.000000</td>\n",
       "      <td>0.000000</td>\n",
       "      <td>-0.737257</td>\n",
       "      <td>5</td>\n",
       "    </tr>\n",
       "    <tr>\n",
       "      <th>2013-01-02</th>\n",
       "      <td>0.778381</td>\n",
       "      <td>0.677784</td>\n",
       "      <td>0.219261</td>\n",
       "      <td>5</td>\n",
       "    </tr>\n",
       "    <tr>\n",
       "      <th>2013-01-03</th>\n",
       "      <td>2.427259</td>\n",
       "      <td>0.469846</td>\n",
       "      <td>0.912917</td>\n",
       "      <td>5</td>\n",
       "    </tr>\n",
       "    <tr>\n",
       "      <th>2013-01-04</th>\n",
       "      <td>0.385060</td>\n",
       "      <td>2.024673</td>\n",
       "      <td>0.501425</td>\n",
       "      <td>5</td>\n",
       "    </tr>\n",
       "    <tr>\n",
       "      <th>2013-01-05</th>\n",
       "      <td>-0.198357</td>\n",
       "      <td>-1.307814</td>\n",
       "      <td>0.123993</td>\n",
       "      <td>5</td>\n",
       "    </tr>\n",
       "    <tr>\n",
       "      <th>2013-01-06</th>\n",
       "      <td>-0.633057</td>\n",
       "      <td>0.054787</td>\n",
       "      <td>-0.159393</td>\n",
       "      <td>5</td>\n",
       "    </tr>\n",
       "  </tbody>\n",
       "</table>\n",
       "</div>"
      ],
      "text/plain": [
       "                   A         B         C  D\n",
       "2013-01-01  0.000000  0.000000 -0.737257  5\n",
       "2013-01-02  0.778381  0.677784  0.219261  5\n",
       "2013-01-03  2.427259  0.469846  0.912917  5\n",
       "2013-01-04  0.385060  2.024673  0.501425  5\n",
       "2013-01-05 -0.198357 -1.307814  0.123993  5\n",
       "2013-01-06 -0.633057  0.054787 -0.159393  5"
      ]
     },
     "execution_count": 40,
     "metadata": {},
     "output_type": "execute_result"
    }
   ],
   "source": [
    "df.at[dates[0],'A'] = 0\n",
    "df.iat[0,1] = 0\n",
    "df.loc[:,'D'] = np.array([5] * len(df))\n",
    "df"
   ]
  },
  {
   "cell_type": "code",
   "execution_count": 41,
   "metadata": {
    "collapsed": false
   },
   "outputs": [
    {
     "data": {
      "text/html": [
       "<div>\n",
       "<table border=\"1\" class=\"dataframe\">\n",
       "  <thead>\n",
       "    <tr style=\"text-align: right;\">\n",
       "      <th></th>\n",
       "      <th>A</th>\n",
       "      <th>B</th>\n",
       "      <th>C</th>\n",
       "      <th>D</th>\n",
       "    </tr>\n",
       "  </thead>\n",
       "  <tbody>\n",
       "    <tr>\n",
       "      <th>2013-01-01</th>\n",
       "      <td>0.000000</td>\n",
       "      <td>0.000000</td>\n",
       "      <td>-0.737257</td>\n",
       "      <td>-5</td>\n",
       "    </tr>\n",
       "    <tr>\n",
       "      <th>2013-01-02</th>\n",
       "      <td>-0.778381</td>\n",
       "      <td>-0.677784</td>\n",
       "      <td>-0.219261</td>\n",
       "      <td>-5</td>\n",
       "    </tr>\n",
       "    <tr>\n",
       "      <th>2013-01-03</th>\n",
       "      <td>-2.427259</td>\n",
       "      <td>-0.469846</td>\n",
       "      <td>-0.912917</td>\n",
       "      <td>-5</td>\n",
       "    </tr>\n",
       "    <tr>\n",
       "      <th>2013-01-04</th>\n",
       "      <td>-0.385060</td>\n",
       "      <td>-2.024673</td>\n",
       "      <td>-0.501425</td>\n",
       "      <td>-5</td>\n",
       "    </tr>\n",
       "    <tr>\n",
       "      <th>2013-01-05</th>\n",
       "      <td>-0.198357</td>\n",
       "      <td>-1.307814</td>\n",
       "      <td>-0.123993</td>\n",
       "      <td>-5</td>\n",
       "    </tr>\n",
       "    <tr>\n",
       "      <th>2013-01-06</th>\n",
       "      <td>-0.633057</td>\n",
       "      <td>-0.054787</td>\n",
       "      <td>-0.159393</td>\n",
       "      <td>-5</td>\n",
       "    </tr>\n",
       "  </tbody>\n",
       "</table>\n",
       "</div>"
      ],
      "text/plain": [
       "                   A         B         C  D\n",
       "2013-01-01  0.000000  0.000000 -0.737257 -5\n",
       "2013-01-02 -0.778381 -0.677784 -0.219261 -5\n",
       "2013-01-03 -2.427259 -0.469846 -0.912917 -5\n",
       "2013-01-04 -0.385060 -2.024673 -0.501425 -5\n",
       "2013-01-05 -0.198357 -1.307814 -0.123993 -5\n",
       "2013-01-06 -0.633057 -0.054787 -0.159393 -5"
      ]
     },
     "execution_count": 41,
     "metadata": {},
     "output_type": "execute_result"
    }
   ],
   "source": [
    "df2 = df.copy()\n",
    "df2[df2 > 0] = -df2\n",
    "df2"
   ]
  },
  {
   "cell_type": "markdown",
   "metadata": {},
   "source": [
    "# Missing Data"
   ]
  },
  {
   "cell_type": "code",
   "execution_count": 43,
   "metadata": {
    "collapsed": false
   },
   "outputs": [
    {
     "data": {
      "text/html": [
       "<div>\n",
       "<table border=\"1\" class=\"dataframe\">\n",
       "  <thead>\n",
       "    <tr style=\"text-align: right;\">\n",
       "      <th></th>\n",
       "      <th>A</th>\n",
       "      <th>B</th>\n",
       "      <th>C</th>\n",
       "      <th>D</th>\n",
       "      <th>E</th>\n",
       "    </tr>\n",
       "  </thead>\n",
       "  <tbody>\n",
       "    <tr>\n",
       "      <th>2013-01-01</th>\n",
       "      <td>0.000000</td>\n",
       "      <td>0.000000</td>\n",
       "      <td>-0.737257</td>\n",
       "      <td>5</td>\n",
       "      <td>1.0</td>\n",
       "    </tr>\n",
       "    <tr>\n",
       "      <th>2013-01-02</th>\n",
       "      <td>0.778381</td>\n",
       "      <td>0.677784</td>\n",
       "      <td>0.219261</td>\n",
       "      <td>5</td>\n",
       "      <td>1.0</td>\n",
       "    </tr>\n",
       "    <tr>\n",
       "      <th>2013-01-03</th>\n",
       "      <td>2.427259</td>\n",
       "      <td>0.469846</td>\n",
       "      <td>0.912917</td>\n",
       "      <td>5</td>\n",
       "      <td>NaN</td>\n",
       "    </tr>\n",
       "    <tr>\n",
       "      <th>2013-01-04</th>\n",
       "      <td>0.385060</td>\n",
       "      <td>2.024673</td>\n",
       "      <td>0.501425</td>\n",
       "      <td>5</td>\n",
       "      <td>NaN</td>\n",
       "    </tr>\n",
       "  </tbody>\n",
       "</table>\n",
       "</div>"
      ],
      "text/plain": [
       "                   A         B         C  D    E\n",
       "2013-01-01  0.000000  0.000000 -0.737257  5  1.0\n",
       "2013-01-02  0.778381  0.677784  0.219261  5  1.0\n",
       "2013-01-03  2.427259  0.469846  0.912917  5  NaN\n",
       "2013-01-04  0.385060  2.024673  0.501425  5  NaN"
      ]
     },
     "execution_count": 43,
     "metadata": {},
     "output_type": "execute_result"
    }
   ],
   "source": [
    "df1 = df.reindex(index=dates[0:4], columns=list(df.columns) + ['E'])\n",
    "df1.loc[dates[0]:dates[1],'E'] = 1\n",
    "df1"
   ]
  },
  {
   "cell_type": "code",
   "execution_count": 44,
   "metadata": {
    "collapsed": false
   },
   "outputs": [
    {
     "data": {
      "text/html": [
       "<div>\n",
       "<table border=\"1\" class=\"dataframe\">\n",
       "  <thead>\n",
       "    <tr style=\"text-align: right;\">\n",
       "      <th></th>\n",
       "      <th>A</th>\n",
       "      <th>B</th>\n",
       "      <th>C</th>\n",
       "      <th>D</th>\n",
       "      <th>E</th>\n",
       "    </tr>\n",
       "  </thead>\n",
       "  <tbody>\n",
       "    <tr>\n",
       "      <th>2013-01-01</th>\n",
       "      <td>0.000000</td>\n",
       "      <td>0.000000</td>\n",
       "      <td>-0.737257</td>\n",
       "      <td>5</td>\n",
       "      <td>1.0</td>\n",
       "    </tr>\n",
       "    <tr>\n",
       "      <th>2013-01-02</th>\n",
       "      <td>0.778381</td>\n",
       "      <td>0.677784</td>\n",
       "      <td>0.219261</td>\n",
       "      <td>5</td>\n",
       "      <td>1.0</td>\n",
       "    </tr>\n",
       "  </tbody>\n",
       "</table>\n",
       "</div>"
      ],
      "text/plain": [
       "                   A         B         C  D    E\n",
       "2013-01-01  0.000000  0.000000 -0.737257  5  1.0\n",
       "2013-01-02  0.778381  0.677784  0.219261  5  1.0"
      ]
     },
     "execution_count": 44,
     "metadata": {},
     "output_type": "execute_result"
    }
   ],
   "source": [
    "df1.dropna(how='any')"
   ]
  },
  {
   "cell_type": "code",
   "execution_count": 45,
   "metadata": {
    "collapsed": false
   },
   "outputs": [
    {
     "data": {
      "text/html": [
       "<div>\n",
       "<table border=\"1\" class=\"dataframe\">\n",
       "  <thead>\n",
       "    <tr style=\"text-align: right;\">\n",
       "      <th></th>\n",
       "      <th>A</th>\n",
       "      <th>B</th>\n",
       "      <th>C</th>\n",
       "      <th>D</th>\n",
       "      <th>E</th>\n",
       "    </tr>\n",
       "  </thead>\n",
       "  <tbody>\n",
       "    <tr>\n",
       "      <th>2013-01-01</th>\n",
       "      <td>0.000000</td>\n",
       "      <td>0.000000</td>\n",
       "      <td>-0.737257</td>\n",
       "      <td>5</td>\n",
       "      <td>1.0</td>\n",
       "    </tr>\n",
       "    <tr>\n",
       "      <th>2013-01-02</th>\n",
       "      <td>0.778381</td>\n",
       "      <td>0.677784</td>\n",
       "      <td>0.219261</td>\n",
       "      <td>5</td>\n",
       "      <td>1.0</td>\n",
       "    </tr>\n",
       "    <tr>\n",
       "      <th>2013-01-03</th>\n",
       "      <td>2.427259</td>\n",
       "      <td>0.469846</td>\n",
       "      <td>0.912917</td>\n",
       "      <td>5</td>\n",
       "      <td>5.0</td>\n",
       "    </tr>\n",
       "    <tr>\n",
       "      <th>2013-01-04</th>\n",
       "      <td>0.385060</td>\n",
       "      <td>2.024673</td>\n",
       "      <td>0.501425</td>\n",
       "      <td>5</td>\n",
       "      <td>5.0</td>\n",
       "    </tr>\n",
       "  </tbody>\n",
       "</table>\n",
       "</div>"
      ],
      "text/plain": [
       "                   A         B         C  D    E\n",
       "2013-01-01  0.000000  0.000000 -0.737257  5  1.0\n",
       "2013-01-02  0.778381  0.677784  0.219261  5  1.0\n",
       "2013-01-03  2.427259  0.469846  0.912917  5  5.0\n",
       "2013-01-04  0.385060  2.024673  0.501425  5  5.0"
      ]
     },
     "execution_count": 45,
     "metadata": {},
     "output_type": "execute_result"
    }
   ],
   "source": [
    "df1.fillna(value=5)"
   ]
  },
  {
   "cell_type": "code",
   "execution_count": 46,
   "metadata": {
    "collapsed": false
   },
   "outputs": [
    {
     "data": {
      "text/html": [
       "<div>\n",
       "<table border=\"1\" class=\"dataframe\">\n",
       "  <thead>\n",
       "    <tr style=\"text-align: right;\">\n",
       "      <th></th>\n",
       "      <th>A</th>\n",
       "      <th>B</th>\n",
       "      <th>C</th>\n",
       "      <th>D</th>\n",
       "      <th>E</th>\n",
       "    </tr>\n",
       "  </thead>\n",
       "  <tbody>\n",
       "    <tr>\n",
       "      <th>2013-01-01</th>\n",
       "      <td>False</td>\n",
       "      <td>False</td>\n",
       "      <td>False</td>\n",
       "      <td>False</td>\n",
       "      <td>False</td>\n",
       "    </tr>\n",
       "    <tr>\n",
       "      <th>2013-01-02</th>\n",
       "      <td>False</td>\n",
       "      <td>False</td>\n",
       "      <td>False</td>\n",
       "      <td>False</td>\n",
       "      <td>False</td>\n",
       "    </tr>\n",
       "    <tr>\n",
       "      <th>2013-01-03</th>\n",
       "      <td>False</td>\n",
       "      <td>False</td>\n",
       "      <td>False</td>\n",
       "      <td>False</td>\n",
       "      <td>True</td>\n",
       "    </tr>\n",
       "    <tr>\n",
       "      <th>2013-01-04</th>\n",
       "      <td>False</td>\n",
       "      <td>False</td>\n",
       "      <td>False</td>\n",
       "      <td>False</td>\n",
       "      <td>True</td>\n",
       "    </tr>\n",
       "  </tbody>\n",
       "</table>\n",
       "</div>"
      ],
      "text/plain": [
       "                A      B      C      D      E\n",
       "2013-01-01  False  False  False  False  False\n",
       "2013-01-02  False  False  False  False  False\n",
       "2013-01-03  False  False  False  False   True\n",
       "2013-01-04  False  False  False  False   True"
      ]
     },
     "execution_count": 46,
     "metadata": {},
     "output_type": "execute_result"
    }
   ],
   "source": [
    "pd.isnull(df1)"
   ]
  },
  {
   "cell_type": "markdown",
   "metadata": {},
   "source": [
    "# Operations"
   ]
  },
  {
   "cell_type": "code",
   "execution_count": 47,
   "metadata": {
    "collapsed": false
   },
   "outputs": [
    {
     "data": {
      "text/plain": [
       "A    0.459881\n",
       "B    0.319879\n",
       "C    0.143491\n",
       "D    5.000000\n",
       "dtype: float64"
      ]
     },
     "execution_count": 47,
     "metadata": {},
     "output_type": "execute_result"
    }
   ],
   "source": [
    "df.mean()"
   ]
  },
  {
   "cell_type": "code",
   "execution_count": 48,
   "metadata": {
    "collapsed": false
   },
   "outputs": [
    {
     "data": {
      "text/plain": [
       "2013-01-01    1.065686\n",
       "2013-01-02    1.668856\n",
       "2013-01-03    2.202505\n",
       "2013-01-04    1.977789\n",
       "2013-01-05    0.904456\n",
       "2013-01-06    1.065584\n",
       "Freq: D, dtype: float64"
      ]
     },
     "execution_count": 48,
     "metadata": {},
     "output_type": "execute_result"
    }
   ],
   "source": [
    "df.mean(1)"
   ]
  },
  {
   "cell_type": "code",
   "execution_count": 49,
   "metadata": {
    "collapsed": false
   },
   "outputs": [
    {
     "data": {
      "text/plain": [
       "2013-01-01    NaN\n",
       "2013-01-02    NaN\n",
       "2013-01-03    1.0\n",
       "2013-01-04    3.0\n",
       "2013-01-05    5.0\n",
       "2013-01-06    NaN\n",
       "Freq: D, dtype: float64"
      ]
     },
     "execution_count": 49,
     "metadata": {},
     "output_type": "execute_result"
    }
   ],
   "source": [
    "s = pd.Series([1,3,5,np.nan,6,8], index=dates).shift(2)\n",
    "s"
   ]
  },
  {
   "cell_type": "code",
   "execution_count": 50,
   "metadata": {
    "collapsed": false
   },
   "outputs": [
    {
     "data": {
      "text/html": [
       "<div>\n",
       "<table border=\"1\" class=\"dataframe\">\n",
       "  <thead>\n",
       "    <tr style=\"text-align: right;\">\n",
       "      <th></th>\n",
       "      <th>A</th>\n",
       "      <th>B</th>\n",
       "      <th>C</th>\n",
       "      <th>D</th>\n",
       "    </tr>\n",
       "  </thead>\n",
       "  <tbody>\n",
       "    <tr>\n",
       "      <th>2013-01-01</th>\n",
       "      <td>0.000000</td>\n",
       "      <td>0.000000</td>\n",
       "      <td>-0.737257</td>\n",
       "      <td>5</td>\n",
       "    </tr>\n",
       "    <tr>\n",
       "      <th>2013-01-02</th>\n",
       "      <td>0.778381</td>\n",
       "      <td>0.677784</td>\n",
       "      <td>-0.517997</td>\n",
       "      <td>10</td>\n",
       "    </tr>\n",
       "    <tr>\n",
       "      <th>2013-01-03</th>\n",
       "      <td>3.205640</td>\n",
       "      <td>1.147630</td>\n",
       "      <td>0.394920</td>\n",
       "      <td>15</td>\n",
       "    </tr>\n",
       "    <tr>\n",
       "      <th>2013-01-04</th>\n",
       "      <td>3.590699</td>\n",
       "      <td>3.172303</td>\n",
       "      <td>0.896345</td>\n",
       "      <td>20</td>\n",
       "    </tr>\n",
       "    <tr>\n",
       "      <th>2013-01-05</th>\n",
       "      <td>3.392342</td>\n",
       "      <td>1.864489</td>\n",
       "      <td>1.020338</td>\n",
       "      <td>25</td>\n",
       "    </tr>\n",
       "    <tr>\n",
       "      <th>2013-01-06</th>\n",
       "      <td>2.759286</td>\n",
       "      <td>1.919276</td>\n",
       "      <td>0.860945</td>\n",
       "      <td>30</td>\n",
       "    </tr>\n",
       "  </tbody>\n",
       "</table>\n",
       "</div>"
      ],
      "text/plain": [
       "                   A         B         C   D\n",
       "2013-01-01  0.000000  0.000000 -0.737257   5\n",
       "2013-01-02  0.778381  0.677784 -0.517997  10\n",
       "2013-01-03  3.205640  1.147630  0.394920  15\n",
       "2013-01-04  3.590699  3.172303  0.896345  20\n",
       "2013-01-05  3.392342  1.864489  1.020338  25\n",
       "2013-01-06  2.759286  1.919276  0.860945  30"
      ]
     },
     "execution_count": 50,
     "metadata": {},
     "output_type": "execute_result"
    }
   ],
   "source": [
    "df.apply(np.cumsum)"
   ]
  },
  {
   "cell_type": "code",
   "execution_count": 51,
   "metadata": {
    "collapsed": false
   },
   "outputs": [
    {
     "data": {
      "text/plain": [
       "A    3.060315\n",
       "B    3.332486\n",
       "C    1.650174\n",
       "D    0.000000\n",
       "dtype: float64"
      ]
     },
     "execution_count": 51,
     "metadata": {},
     "output_type": "execute_result"
    }
   ],
   "source": [
    "df.apply(lambda x: x.max() - x.min())"
   ]
  },
  {
   "cell_type": "code",
   "execution_count": 52,
   "metadata": {
    "collapsed": false
   },
   "outputs": [
    {
     "data": {
      "text/plain": [
       "0    0\n",
       "1    4\n",
       "2    1\n",
       "3    0\n",
       "4    6\n",
       "5    2\n",
       "6    4\n",
       "7    5\n",
       "8    2\n",
       "9    1\n",
       "dtype: int64"
      ]
     },
     "execution_count": 52,
     "metadata": {},
     "output_type": "execute_result"
    }
   ],
   "source": [
    "s = pd.Series(np.random.randint(0, 7, size=10))\n",
    "s"
   ]
  },
  {
   "cell_type": "code",
   "execution_count": 53,
   "metadata": {
    "collapsed": false
   },
   "outputs": [
    {
     "data": {
      "text/plain": [
       "4    2\n",
       "2    2\n",
       "1    2\n",
       "0    2\n",
       "6    1\n",
       "5    1\n",
       "dtype: int64"
      ]
     },
     "execution_count": 53,
     "metadata": {},
     "output_type": "execute_result"
    }
   ],
   "source": [
    "s.value_counts()"
   ]
  },
  {
   "cell_type": "code",
   "execution_count": 55,
   "metadata": {
    "collapsed": false
   },
   "outputs": [
    {
     "data": {
      "text/plain": [
       "0       a\n",
       "1       b\n",
       "2       c\n",
       "3    aaba\n",
       "4    baca\n",
       "5     NaN\n",
       "6    caba\n",
       "7     dog\n",
       "8     cat\n",
       "dtype: object"
      ]
     },
     "execution_count": 55,
     "metadata": {},
     "output_type": "execute_result"
    }
   ],
   "source": [
    "s = pd.Series(['A', 'B', 'C', 'Aaba', 'Baca', np.nan, 'CABA', 'dog', 'cat'])\n",
    "s.str.lower()"
   ]
  },
  {
   "cell_type": "markdown",
   "metadata": {},
   "source": [
    "# Merge"
   ]
  },
  {
   "cell_type": "code",
   "execution_count": 56,
   "metadata": {
    "collapsed": false
   },
   "outputs": [
    {
     "data": {
      "text/html": [
       "<div>\n",
       "<table border=\"1\" class=\"dataframe\">\n",
       "  <thead>\n",
       "    <tr style=\"text-align: right;\">\n",
       "      <th></th>\n",
       "      <th>0</th>\n",
       "      <th>1</th>\n",
       "      <th>2</th>\n",
       "      <th>3</th>\n",
       "    </tr>\n",
       "  </thead>\n",
       "  <tbody>\n",
       "    <tr>\n",
       "      <th>0</th>\n",
       "      <td>-0.849974</td>\n",
       "      <td>0.425323</td>\n",
       "      <td>-1.255059</td>\n",
       "      <td>-2.630114</td>\n",
       "    </tr>\n",
       "    <tr>\n",
       "      <th>1</th>\n",
       "      <td>0.061571</td>\n",
       "      <td>1.783546</td>\n",
       "      <td>1.020425</td>\n",
       "      <td>-0.461811</td>\n",
       "    </tr>\n",
       "    <tr>\n",
       "      <th>2</th>\n",
       "      <td>-0.163518</td>\n",
       "      <td>1.129147</td>\n",
       "      <td>-0.532498</td>\n",
       "      <td>1.120977</td>\n",
       "    </tr>\n",
       "    <tr>\n",
       "      <th>3</th>\n",
       "      <td>0.474225</td>\n",
       "      <td>0.506933</td>\n",
       "      <td>-1.330080</td>\n",
       "      <td>0.258930</td>\n",
       "    </tr>\n",
       "    <tr>\n",
       "      <th>4</th>\n",
       "      <td>-0.039030</td>\n",
       "      <td>-0.055939</td>\n",
       "      <td>-0.724914</td>\n",
       "      <td>-1.730933</td>\n",
       "    </tr>\n",
       "    <tr>\n",
       "      <th>5</th>\n",
       "      <td>-0.478245</td>\n",
       "      <td>0.133014</td>\n",
       "      <td>0.394517</td>\n",
       "      <td>-2.189247</td>\n",
       "    </tr>\n",
       "    <tr>\n",
       "      <th>6</th>\n",
       "      <td>-0.147130</td>\n",
       "      <td>-0.121668</td>\n",
       "      <td>-0.794483</td>\n",
       "      <td>0.289494</td>\n",
       "    </tr>\n",
       "    <tr>\n",
       "      <th>7</th>\n",
       "      <td>-0.623567</td>\n",
       "      <td>-1.056975</td>\n",
       "      <td>-0.632381</td>\n",
       "      <td>-0.420006</td>\n",
       "    </tr>\n",
       "    <tr>\n",
       "      <th>8</th>\n",
       "      <td>2.625079</td>\n",
       "      <td>-0.579405</td>\n",
       "      <td>-0.296859</td>\n",
       "      <td>0.918631</td>\n",
       "    </tr>\n",
       "    <tr>\n",
       "      <th>9</th>\n",
       "      <td>0.087548</td>\n",
       "      <td>0.577909</td>\n",
       "      <td>-0.788458</td>\n",
       "      <td>-0.016436</td>\n",
       "    </tr>\n",
       "  </tbody>\n",
       "</table>\n",
       "</div>"
      ],
      "text/plain": [
       "          0         1         2         3\n",
       "0 -0.849974  0.425323 -1.255059 -2.630114\n",
       "1  0.061571  1.783546  1.020425 -0.461811\n",
       "2 -0.163518  1.129147 -0.532498  1.120977\n",
       "3  0.474225  0.506933 -1.330080  0.258930\n",
       "4 -0.039030 -0.055939 -0.724914 -1.730933\n",
       "5 -0.478245  0.133014  0.394517 -2.189247\n",
       "6 -0.147130 -0.121668 -0.794483  0.289494\n",
       "7 -0.623567 -1.056975 -0.632381 -0.420006\n",
       "8  2.625079 -0.579405 -0.296859  0.918631\n",
       "9  0.087548  0.577909 -0.788458 -0.016436"
      ]
     },
     "execution_count": 56,
     "metadata": {},
     "output_type": "execute_result"
    }
   ],
   "source": [
    "df = pd.DataFrame(np.random.randn(10, 4))\n",
    "df"
   ]
  },
  {
   "cell_type": "code",
   "execution_count": 57,
   "metadata": {
    "collapsed": false
   },
   "outputs": [
    {
     "data": {
      "text/html": [
       "<div>\n",
       "<table border=\"1\" class=\"dataframe\">\n",
       "  <thead>\n",
       "    <tr style=\"text-align: right;\">\n",
       "      <th></th>\n",
       "      <th>0</th>\n",
       "      <th>1</th>\n",
       "      <th>2</th>\n",
       "      <th>3</th>\n",
       "    </tr>\n",
       "  </thead>\n",
       "  <tbody>\n",
       "    <tr>\n",
       "      <th>0</th>\n",
       "      <td>-0.849974</td>\n",
       "      <td>0.425323</td>\n",
       "      <td>-1.255059</td>\n",
       "      <td>-2.630114</td>\n",
       "    </tr>\n",
       "    <tr>\n",
       "      <th>1</th>\n",
       "      <td>0.061571</td>\n",
       "      <td>1.783546</td>\n",
       "      <td>1.020425</td>\n",
       "      <td>-0.461811</td>\n",
       "    </tr>\n",
       "    <tr>\n",
       "      <th>2</th>\n",
       "      <td>-0.163518</td>\n",
       "      <td>1.129147</td>\n",
       "      <td>-0.532498</td>\n",
       "      <td>1.120977</td>\n",
       "    </tr>\n",
       "    <tr>\n",
       "      <th>3</th>\n",
       "      <td>0.474225</td>\n",
       "      <td>0.506933</td>\n",
       "      <td>-1.330080</td>\n",
       "      <td>0.258930</td>\n",
       "    </tr>\n",
       "    <tr>\n",
       "      <th>4</th>\n",
       "      <td>-0.039030</td>\n",
       "      <td>-0.055939</td>\n",
       "      <td>-0.724914</td>\n",
       "      <td>-1.730933</td>\n",
       "    </tr>\n",
       "    <tr>\n",
       "      <th>5</th>\n",
       "      <td>-0.478245</td>\n",
       "      <td>0.133014</td>\n",
       "      <td>0.394517</td>\n",
       "      <td>-2.189247</td>\n",
       "    </tr>\n",
       "    <tr>\n",
       "      <th>6</th>\n",
       "      <td>-0.147130</td>\n",
       "      <td>-0.121668</td>\n",
       "      <td>-0.794483</td>\n",
       "      <td>0.289494</td>\n",
       "    </tr>\n",
       "    <tr>\n",
       "      <th>7</th>\n",
       "      <td>-0.623567</td>\n",
       "      <td>-1.056975</td>\n",
       "      <td>-0.632381</td>\n",
       "      <td>-0.420006</td>\n",
       "    </tr>\n",
       "    <tr>\n",
       "      <th>8</th>\n",
       "      <td>2.625079</td>\n",
       "      <td>-0.579405</td>\n",
       "      <td>-0.296859</td>\n",
       "      <td>0.918631</td>\n",
       "    </tr>\n",
       "    <tr>\n",
       "      <th>9</th>\n",
       "      <td>0.087548</td>\n",
       "      <td>0.577909</td>\n",
       "      <td>-0.788458</td>\n",
       "      <td>-0.016436</td>\n",
       "    </tr>\n",
       "  </tbody>\n",
       "</table>\n",
       "</div>"
      ],
      "text/plain": [
       "          0         1         2         3\n",
       "0 -0.849974  0.425323 -1.255059 -2.630114\n",
       "1  0.061571  1.783546  1.020425 -0.461811\n",
       "2 -0.163518  1.129147 -0.532498  1.120977\n",
       "3  0.474225  0.506933 -1.330080  0.258930\n",
       "4 -0.039030 -0.055939 -0.724914 -1.730933\n",
       "5 -0.478245  0.133014  0.394517 -2.189247\n",
       "6 -0.147130 -0.121668 -0.794483  0.289494\n",
       "7 -0.623567 -1.056975 -0.632381 -0.420006\n",
       "8  2.625079 -0.579405 -0.296859  0.918631\n",
       "9  0.087548  0.577909 -0.788458 -0.016436"
      ]
     },
     "execution_count": 57,
     "metadata": {},
     "output_type": "execute_result"
    }
   ],
   "source": [
    "pieces = [df[:3], df[3:7], df[7:]]\n",
    "pd.concat(pieces)"
   ]
  },
  {
   "cell_type": "code",
   "execution_count": 58,
   "metadata": {
    "collapsed": false
   },
   "outputs": [
    {
     "data": {
      "text/html": [
       "<div>\n",
       "<table border=\"1\" class=\"dataframe\">\n",
       "  <thead>\n",
       "    <tr style=\"text-align: right;\">\n",
       "      <th></th>\n",
       "      <th>key</th>\n",
       "      <th>lval</th>\n",
       "    </tr>\n",
       "  </thead>\n",
       "  <tbody>\n",
       "    <tr>\n",
       "      <th>0</th>\n",
       "      <td>foo</td>\n",
       "      <td>1</td>\n",
       "    </tr>\n",
       "    <tr>\n",
       "      <th>1</th>\n",
       "      <td>foo</td>\n",
       "      <td>2</td>\n",
       "    </tr>\n",
       "  </tbody>\n",
       "</table>\n",
       "</div>"
      ],
      "text/plain": [
       "   key  lval\n",
       "0  foo     1\n",
       "1  foo     2"
      ]
     },
     "execution_count": 58,
     "metadata": {},
     "output_type": "execute_result"
    }
   ],
   "source": [
    "left = pd.DataFrame({'key': ['foo', 'foo'], 'lval': [1, 2]})\n",
    "right = pd.DataFrame({'key': ['foo', 'foo'], 'rval': [4, 5]})\n",
    "left"
   ]
  },
  {
   "cell_type": "code",
   "execution_count": 59,
   "metadata": {
    "collapsed": false
   },
   "outputs": [
    {
     "data": {
      "text/html": [
       "<div>\n",
       "<table border=\"1\" class=\"dataframe\">\n",
       "  <thead>\n",
       "    <tr style=\"text-align: right;\">\n",
       "      <th></th>\n",
       "      <th>key</th>\n",
       "      <th>rval</th>\n",
       "    </tr>\n",
       "  </thead>\n",
       "  <tbody>\n",
       "    <tr>\n",
       "      <th>0</th>\n",
       "      <td>foo</td>\n",
       "      <td>4</td>\n",
       "    </tr>\n",
       "    <tr>\n",
       "      <th>1</th>\n",
       "      <td>foo</td>\n",
       "      <td>5</td>\n",
       "    </tr>\n",
       "  </tbody>\n",
       "</table>\n",
       "</div>"
      ],
      "text/plain": [
       "   key  rval\n",
       "0  foo     4\n",
       "1  foo     5"
      ]
     },
     "execution_count": 59,
     "metadata": {},
     "output_type": "execute_result"
    }
   ],
   "source": [
    "right"
   ]
  },
  {
   "cell_type": "code",
   "execution_count": 60,
   "metadata": {
    "collapsed": false
   },
   "outputs": [
    {
     "data": {
      "text/html": [
       "<div>\n",
       "<table border=\"1\" class=\"dataframe\">\n",
       "  <thead>\n",
       "    <tr style=\"text-align: right;\">\n",
       "      <th></th>\n",
       "      <th>key</th>\n",
       "      <th>lval</th>\n",
       "      <th>rval</th>\n",
       "    </tr>\n",
       "  </thead>\n",
       "  <tbody>\n",
       "    <tr>\n",
       "      <th>0</th>\n",
       "      <td>foo</td>\n",
       "      <td>1</td>\n",
       "      <td>4</td>\n",
       "    </tr>\n",
       "    <tr>\n",
       "      <th>1</th>\n",
       "      <td>foo</td>\n",
       "      <td>1</td>\n",
       "      <td>5</td>\n",
       "    </tr>\n",
       "    <tr>\n",
       "      <th>2</th>\n",
       "      <td>foo</td>\n",
       "      <td>2</td>\n",
       "      <td>4</td>\n",
       "    </tr>\n",
       "    <tr>\n",
       "      <th>3</th>\n",
       "      <td>foo</td>\n",
       "      <td>2</td>\n",
       "      <td>5</td>\n",
       "    </tr>\n",
       "  </tbody>\n",
       "</table>\n",
       "</div>"
      ],
      "text/plain": [
       "   key  lval  rval\n",
       "0  foo     1     4\n",
       "1  foo     1     5\n",
       "2  foo     2     4\n",
       "3  foo     2     5"
      ]
     },
     "execution_count": 60,
     "metadata": {},
     "output_type": "execute_result"
    }
   ],
   "source": [
    "pd.merge(left, right, on='key')"
   ]
  },
  {
   "cell_type": "code",
   "execution_count": 61,
   "metadata": {
    "collapsed": false
   },
   "outputs": [
    {
     "data": {
      "text/html": [
       "<div>\n",
       "<table border=\"1\" class=\"dataframe\">\n",
       "  <thead>\n",
       "    <tr style=\"text-align: right;\">\n",
       "      <th></th>\n",
       "      <th>key</th>\n",
       "      <th>lval</th>\n",
       "    </tr>\n",
       "  </thead>\n",
       "  <tbody>\n",
       "    <tr>\n",
       "      <th>0</th>\n",
       "      <td>foo</td>\n",
       "      <td>1</td>\n",
       "    </tr>\n",
       "    <tr>\n",
       "      <th>1</th>\n",
       "      <td>bar</td>\n",
       "      <td>2</td>\n",
       "    </tr>\n",
       "  </tbody>\n",
       "</table>\n",
       "</div>"
      ],
      "text/plain": [
       "   key  lval\n",
       "0  foo     1\n",
       "1  bar     2"
      ]
     },
     "execution_count": 61,
     "metadata": {},
     "output_type": "execute_result"
    }
   ],
   "source": [
    "left = pd.DataFrame({'key': ['foo', 'bar'], 'lval': [1, 2]})\n",
    "left"
   ]
  },
  {
   "cell_type": "code",
   "execution_count": 62,
   "metadata": {
    "collapsed": false
   },
   "outputs": [
    {
     "data": {
      "text/html": [
       "<div>\n",
       "<table border=\"1\" class=\"dataframe\">\n",
       "  <thead>\n",
       "    <tr style=\"text-align: right;\">\n",
       "      <th></th>\n",
       "      <th>key</th>\n",
       "      <th>rval</th>\n",
       "    </tr>\n",
       "  </thead>\n",
       "  <tbody>\n",
       "    <tr>\n",
       "      <th>0</th>\n",
       "      <td>foo</td>\n",
       "      <td>4</td>\n",
       "    </tr>\n",
       "    <tr>\n",
       "      <th>1</th>\n",
       "      <td>bar</td>\n",
       "      <td>5</td>\n",
       "    </tr>\n",
       "  </tbody>\n",
       "</table>\n",
       "</div>"
      ],
      "text/plain": [
       "   key  rval\n",
       "0  foo     4\n",
       "1  bar     5"
      ]
     },
     "execution_count": 62,
     "metadata": {},
     "output_type": "execute_result"
    }
   ],
   "source": [
    "right = pd.DataFrame({'key': ['foo', 'bar'], 'rval': [4, 5]})\n",
    "right"
   ]
  },
  {
   "cell_type": "code",
   "execution_count": 63,
   "metadata": {
    "collapsed": false
   },
   "outputs": [
    {
     "data": {
      "text/html": [
       "<div>\n",
       "<table border=\"1\" class=\"dataframe\">\n",
       "  <thead>\n",
       "    <tr style=\"text-align: right;\">\n",
       "      <th></th>\n",
       "      <th>key</th>\n",
       "      <th>lval</th>\n",
       "      <th>rval</th>\n",
       "    </tr>\n",
       "  </thead>\n",
       "  <tbody>\n",
       "    <tr>\n",
       "      <th>0</th>\n",
       "      <td>foo</td>\n",
       "      <td>1</td>\n",
       "      <td>4</td>\n",
       "    </tr>\n",
       "    <tr>\n",
       "      <th>1</th>\n",
       "      <td>bar</td>\n",
       "      <td>2</td>\n",
       "      <td>5</td>\n",
       "    </tr>\n",
       "  </tbody>\n",
       "</table>\n",
       "</div>"
      ],
      "text/plain": [
       "   key  lval  rval\n",
       "0  foo     1     4\n",
       "1  bar     2     5"
      ]
     },
     "execution_count": 63,
     "metadata": {},
     "output_type": "execute_result"
    }
   ],
   "source": [
    "pd.merge(left, right, on='key')"
   ]
  },
  {
   "cell_type": "code",
   "execution_count": 65,
   "metadata": {
    "collapsed": false
   },
   "outputs": [
    {
     "data": {
      "text/html": [
       "<div>\n",
       "<table border=\"1\" class=\"dataframe\">\n",
       "  <thead>\n",
       "    <tr style=\"text-align: right;\">\n",
       "      <th></th>\n",
       "      <th>A</th>\n",
       "      <th>B</th>\n",
       "      <th>C</th>\n",
       "      <th>D</th>\n",
       "    </tr>\n",
       "  </thead>\n",
       "  <tbody>\n",
       "    <tr>\n",
       "      <th>0</th>\n",
       "      <td>-0.241846</td>\n",
       "      <td>-0.770883</td>\n",
       "      <td>-0.157014</td>\n",
       "      <td>0.026903</td>\n",
       "    </tr>\n",
       "    <tr>\n",
       "      <th>1</th>\n",
       "      <td>0.779797</td>\n",
       "      <td>-0.343366</td>\n",
       "      <td>0.010953</td>\n",
       "      <td>-0.420861</td>\n",
       "    </tr>\n",
       "    <tr>\n",
       "      <th>2</th>\n",
       "      <td>-0.191340</td>\n",
       "      <td>-0.756551</td>\n",
       "      <td>0.287643</td>\n",
       "      <td>-1.157316</td>\n",
       "    </tr>\n",
       "    <tr>\n",
       "      <th>3</th>\n",
       "      <td>-2.130848</td>\n",
       "      <td>0.029809</td>\n",
       "      <td>0.193650</td>\n",
       "      <td>1.189119</td>\n",
       "    </tr>\n",
       "    <tr>\n",
       "      <th>4</th>\n",
       "      <td>-1.324250</td>\n",
       "      <td>-1.178613</td>\n",
       "      <td>-1.036354</td>\n",
       "      <td>-0.640752</td>\n",
       "    </tr>\n",
       "    <tr>\n",
       "      <th>5</th>\n",
       "      <td>-0.124486</td>\n",
       "      <td>-0.954919</td>\n",
       "      <td>-2.475047</td>\n",
       "      <td>-0.283196</td>\n",
       "    </tr>\n",
       "    <tr>\n",
       "      <th>6</th>\n",
       "      <td>0.418061</td>\n",
       "      <td>-0.611379</td>\n",
       "      <td>-0.609266</td>\n",
       "      <td>-2.222418</td>\n",
       "    </tr>\n",
       "    <tr>\n",
       "      <th>7</th>\n",
       "      <td>-0.538307</td>\n",
       "      <td>1.328350</td>\n",
       "      <td>-0.348365</td>\n",
       "      <td>-1.487658</td>\n",
       "    </tr>\n",
       "  </tbody>\n",
       "</table>\n",
       "</div>"
      ],
      "text/plain": [
       "          A         B         C         D\n",
       "0 -0.241846 -0.770883 -0.157014  0.026903\n",
       "1  0.779797 -0.343366  0.010953 -0.420861\n",
       "2 -0.191340 -0.756551  0.287643 -1.157316\n",
       "3 -2.130848  0.029809  0.193650  1.189119\n",
       "4 -1.324250 -1.178613 -1.036354 -0.640752\n",
       "5 -0.124486 -0.954919 -2.475047 -0.283196\n",
       "6  0.418061 -0.611379 -0.609266 -2.222418\n",
       "7 -0.538307  1.328350 -0.348365 -1.487658"
      ]
     },
     "execution_count": 65,
     "metadata": {},
     "output_type": "execute_result"
    }
   ],
   "source": [
    "df = pd.DataFrame(np.random.randn(8, 4), columns=['A','B','C','D'])\n",
    "df"
   ]
  },
  {
   "cell_type": "code",
   "execution_count": 66,
   "metadata": {
    "collapsed": false
   },
   "outputs": [
    {
     "data": {
      "text/html": [
       "<div>\n",
       "<table border=\"1\" class=\"dataframe\">\n",
       "  <thead>\n",
       "    <tr style=\"text-align: right;\">\n",
       "      <th></th>\n",
       "      <th>A</th>\n",
       "      <th>B</th>\n",
       "      <th>C</th>\n",
       "      <th>D</th>\n",
       "    </tr>\n",
       "  </thead>\n",
       "  <tbody>\n",
       "    <tr>\n",
       "      <th>0</th>\n",
       "      <td>-0.241846</td>\n",
       "      <td>-0.770883</td>\n",
       "      <td>-0.157014</td>\n",
       "      <td>0.026903</td>\n",
       "    </tr>\n",
       "    <tr>\n",
       "      <th>1</th>\n",
       "      <td>0.779797</td>\n",
       "      <td>-0.343366</td>\n",
       "      <td>0.010953</td>\n",
       "      <td>-0.420861</td>\n",
       "    </tr>\n",
       "    <tr>\n",
       "      <th>2</th>\n",
       "      <td>-0.191340</td>\n",
       "      <td>-0.756551</td>\n",
       "      <td>0.287643</td>\n",
       "      <td>-1.157316</td>\n",
       "    </tr>\n",
       "    <tr>\n",
       "      <th>3</th>\n",
       "      <td>-2.130848</td>\n",
       "      <td>0.029809</td>\n",
       "      <td>0.193650</td>\n",
       "      <td>1.189119</td>\n",
       "    </tr>\n",
       "    <tr>\n",
       "      <th>4</th>\n",
       "      <td>-1.324250</td>\n",
       "      <td>-1.178613</td>\n",
       "      <td>-1.036354</td>\n",
       "      <td>-0.640752</td>\n",
       "    </tr>\n",
       "    <tr>\n",
       "      <th>5</th>\n",
       "      <td>-0.124486</td>\n",
       "      <td>-0.954919</td>\n",
       "      <td>-2.475047</td>\n",
       "      <td>-0.283196</td>\n",
       "    </tr>\n",
       "    <tr>\n",
       "      <th>6</th>\n",
       "      <td>0.418061</td>\n",
       "      <td>-0.611379</td>\n",
       "      <td>-0.609266</td>\n",
       "      <td>-2.222418</td>\n",
       "    </tr>\n",
       "    <tr>\n",
       "      <th>7</th>\n",
       "      <td>-0.538307</td>\n",
       "      <td>1.328350</td>\n",
       "      <td>-0.348365</td>\n",
       "      <td>-1.487658</td>\n",
       "    </tr>\n",
       "    <tr>\n",
       "      <th>8</th>\n",
       "      <td>-2.130848</td>\n",
       "      <td>0.029809</td>\n",
       "      <td>0.193650</td>\n",
       "      <td>1.189119</td>\n",
       "    </tr>\n",
       "  </tbody>\n",
       "</table>\n",
       "</div>"
      ],
      "text/plain": [
       "          A         B         C         D\n",
       "0 -0.241846 -0.770883 -0.157014  0.026903\n",
       "1  0.779797 -0.343366  0.010953 -0.420861\n",
       "2 -0.191340 -0.756551  0.287643 -1.157316\n",
       "3 -2.130848  0.029809  0.193650  1.189119\n",
       "4 -1.324250 -1.178613 -1.036354 -0.640752\n",
       "5 -0.124486 -0.954919 -2.475047 -0.283196\n",
       "6  0.418061 -0.611379 -0.609266 -2.222418\n",
       "7 -0.538307  1.328350 -0.348365 -1.487658\n",
       "8 -2.130848  0.029809  0.193650  1.189119"
      ]
     },
     "execution_count": 66,
     "metadata": {},
     "output_type": "execute_result"
    }
   ],
   "source": [
    "s = df.iloc[3]\n",
    "df.append(s, ignore_index=True)"
   ]
  },
  {
   "cell_type": "markdown",
   "metadata": {},
   "source": [
    "# Grouping"
   ]
  },
  {
   "cell_type": "code",
   "execution_count": 67,
   "metadata": {
    "collapsed": false
   },
   "outputs": [
    {
     "data": {
      "text/html": [
       "<div>\n",
       "<table border=\"1\" class=\"dataframe\">\n",
       "  <thead>\n",
       "    <tr style=\"text-align: right;\">\n",
       "      <th></th>\n",
       "      <th>A</th>\n",
       "      <th>B</th>\n",
       "      <th>C</th>\n",
       "      <th>D</th>\n",
       "    </tr>\n",
       "  </thead>\n",
       "  <tbody>\n",
       "    <tr>\n",
       "      <th>0</th>\n",
       "      <td>foo</td>\n",
       "      <td>one</td>\n",
       "      <td>0.008858</td>\n",
       "      <td>0.118653</td>\n",
       "    </tr>\n",
       "    <tr>\n",
       "      <th>1</th>\n",
       "      <td>bar</td>\n",
       "      <td>one</td>\n",
       "      <td>0.663341</td>\n",
       "      <td>2.159859</td>\n",
       "    </tr>\n",
       "    <tr>\n",
       "      <th>2</th>\n",
       "      <td>foo</td>\n",
       "      <td>two</td>\n",
       "      <td>-1.927809</td>\n",
       "      <td>-0.412918</td>\n",
       "    </tr>\n",
       "    <tr>\n",
       "      <th>3</th>\n",
       "      <td>bar</td>\n",
       "      <td>three</td>\n",
       "      <td>0.123618</td>\n",
       "      <td>0.610779</td>\n",
       "    </tr>\n",
       "    <tr>\n",
       "      <th>4</th>\n",
       "      <td>foo</td>\n",
       "      <td>two</td>\n",
       "      <td>0.275645</td>\n",
       "      <td>0.583039</td>\n",
       "    </tr>\n",
       "    <tr>\n",
       "      <th>5</th>\n",
       "      <td>bar</td>\n",
       "      <td>two</td>\n",
       "      <td>2.321300</td>\n",
       "      <td>0.693230</td>\n",
       "    </tr>\n",
       "    <tr>\n",
       "      <th>6</th>\n",
       "      <td>foo</td>\n",
       "      <td>one</td>\n",
       "      <td>-0.446800</td>\n",
       "      <td>0.674221</td>\n",
       "    </tr>\n",
       "    <tr>\n",
       "      <th>7</th>\n",
       "      <td>foo</td>\n",
       "      <td>three</td>\n",
       "      <td>0.295916</td>\n",
       "      <td>-0.312294</td>\n",
       "    </tr>\n",
       "  </tbody>\n",
       "</table>\n",
       "</div>"
      ],
      "text/plain": [
       "     A      B         C         D\n",
       "0  foo    one  0.008858  0.118653\n",
       "1  bar    one  0.663341  2.159859\n",
       "2  foo    two -1.927809 -0.412918\n",
       "3  bar  three  0.123618  0.610779\n",
       "4  foo    two  0.275645  0.583039\n",
       "5  bar    two  2.321300  0.693230\n",
       "6  foo    one -0.446800  0.674221\n",
       "7  foo  three  0.295916 -0.312294"
      ]
     },
     "execution_count": 67,
     "metadata": {},
     "output_type": "execute_result"
    }
   ],
   "source": [
    "df = pd.DataFrame({'A' : ['foo', 'bar', 'foo', 'bar',\n",
    "                          'foo', 'bar', 'foo', 'foo'],\n",
    "                   'B' : ['one', 'one', 'two', 'three',\n",
    "                          'two', 'two', 'one', 'three'],\n",
    "                   'C' : np.random.randn(8),\n",
    "                   'D' : np.random.randn(8)})\n",
    "df"
   ]
  },
  {
   "cell_type": "code",
   "execution_count": 68,
   "metadata": {
    "collapsed": false
   },
   "outputs": [
    {
     "data": {
      "text/html": [
       "<div>\n",
       "<table border=\"1\" class=\"dataframe\">\n",
       "  <thead>\n",
       "    <tr style=\"text-align: right;\">\n",
       "      <th></th>\n",
       "      <th>C</th>\n",
       "      <th>D</th>\n",
       "    </tr>\n",
       "    <tr>\n",
       "      <th>A</th>\n",
       "      <th></th>\n",
       "      <th></th>\n",
       "    </tr>\n",
       "  </thead>\n",
       "  <tbody>\n",
       "    <tr>\n",
       "      <th>bar</th>\n",
       "      <td>3.108260</td>\n",
       "      <td>3.463868</td>\n",
       "    </tr>\n",
       "    <tr>\n",
       "      <th>foo</th>\n",
       "      <td>-1.794189</td>\n",
       "      <td>0.650700</td>\n",
       "    </tr>\n",
       "  </tbody>\n",
       "</table>\n",
       "</div>"
      ],
      "text/plain": [
       "            C         D\n",
       "A                      \n",
       "bar  3.108260  3.463868\n",
       "foo -1.794189  0.650700"
      ]
     },
     "execution_count": 68,
     "metadata": {},
     "output_type": "execute_result"
    }
   ],
   "source": [
    "df.groupby('A').sum()"
   ]
  },
  {
   "cell_type": "code",
   "execution_count": 69,
   "metadata": {
    "collapsed": false
   },
   "outputs": [
    {
     "data": {
      "text/html": [
       "<div>\n",
       "<table border=\"1\" class=\"dataframe\">\n",
       "  <thead>\n",
       "    <tr style=\"text-align: right;\">\n",
       "      <th></th>\n",
       "      <th></th>\n",
       "      <th>C</th>\n",
       "      <th>D</th>\n",
       "    </tr>\n",
       "    <tr>\n",
       "      <th>A</th>\n",
       "      <th>B</th>\n",
       "      <th></th>\n",
       "      <th></th>\n",
       "    </tr>\n",
       "  </thead>\n",
       "  <tbody>\n",
       "    <tr>\n",
       "      <th rowspan=\"3\" valign=\"top\">bar</th>\n",
       "      <th>one</th>\n",
       "      <td>0.663341</td>\n",
       "      <td>2.159859</td>\n",
       "    </tr>\n",
       "    <tr>\n",
       "      <th>three</th>\n",
       "      <td>0.123618</td>\n",
       "      <td>0.610779</td>\n",
       "    </tr>\n",
       "    <tr>\n",
       "      <th>two</th>\n",
       "      <td>2.321300</td>\n",
       "      <td>0.693230</td>\n",
       "    </tr>\n",
       "    <tr>\n",
       "      <th rowspan=\"3\" valign=\"top\">foo</th>\n",
       "      <th>one</th>\n",
       "      <td>-0.437942</td>\n",
       "      <td>0.792873</td>\n",
       "    </tr>\n",
       "    <tr>\n",
       "      <th>three</th>\n",
       "      <td>0.295916</td>\n",
       "      <td>-0.312294</td>\n",
       "    </tr>\n",
       "    <tr>\n",
       "      <th>two</th>\n",
       "      <td>-1.652164</td>\n",
       "      <td>0.170121</td>\n",
       "    </tr>\n",
       "  </tbody>\n",
       "</table>\n",
       "</div>"
      ],
      "text/plain": [
       "                  C         D\n",
       "A   B                        \n",
       "bar one    0.663341  2.159859\n",
       "    three  0.123618  0.610779\n",
       "    two    2.321300  0.693230\n",
       "foo one   -0.437942  0.792873\n",
       "    three  0.295916 -0.312294\n",
       "    two   -1.652164  0.170121"
      ]
     },
     "execution_count": 69,
     "metadata": {},
     "output_type": "execute_result"
    }
   ],
   "source": [
    "df.groupby(['A','B']).sum()"
   ]
  },
  {
   "cell_type": "markdown",
   "metadata": {},
   "source": [
    "# Reshaping"
   ]
  },
  {
   "cell_type": "code",
   "execution_count": 70,
   "metadata": {
    "collapsed": false
   },
   "outputs": [
    {
     "data": {
      "text/html": [
       "<div>\n",
       "<table border=\"1\" class=\"dataframe\">\n",
       "  <thead>\n",
       "    <tr style=\"text-align: right;\">\n",
       "      <th></th>\n",
       "      <th></th>\n",
       "      <th>A</th>\n",
       "      <th>B</th>\n",
       "    </tr>\n",
       "    <tr>\n",
       "      <th>first</th>\n",
       "      <th>second</th>\n",
       "      <th></th>\n",
       "      <th></th>\n",
       "    </tr>\n",
       "  </thead>\n",
       "  <tbody>\n",
       "    <tr>\n",
       "      <th rowspan=\"2\" valign=\"top\">bar</th>\n",
       "      <th>one</th>\n",
       "      <td>-1.749139</td>\n",
       "      <td>0.018289</td>\n",
       "    </tr>\n",
       "    <tr>\n",
       "      <th>two</th>\n",
       "      <td>1.732298</td>\n",
       "      <td>-0.509773</td>\n",
       "    </tr>\n",
       "    <tr>\n",
       "      <th rowspan=\"2\" valign=\"top\">baz</th>\n",
       "      <th>one</th>\n",
       "      <td>0.375384</td>\n",
       "      <td>-1.014180</td>\n",
       "    </tr>\n",
       "    <tr>\n",
       "      <th>two</th>\n",
       "      <td>-0.079787</td>\n",
       "      <td>0.765834</td>\n",
       "    </tr>\n",
       "  </tbody>\n",
       "</table>\n",
       "</div>"
      ],
      "text/plain": [
       "                     A         B\n",
       "first second                    \n",
       "bar   one    -1.749139  0.018289\n",
       "      two     1.732298 -0.509773\n",
       "baz   one     0.375384 -1.014180\n",
       "      two    -0.079787  0.765834"
      ]
     },
     "execution_count": 70,
     "metadata": {},
     "output_type": "execute_result"
    }
   ],
   "source": [
    "tuples = list(zip(*[['bar', 'bar', 'baz', 'baz',\n",
    "                     'foo', 'foo', 'qux', 'qux'],\n",
    "                    ['one', 'two', 'one', 'two',\n",
    "                     'one', 'two', 'one', 'two']]))\n",
    "index = pd.MultiIndex.from_tuples(tuples, names=['first', 'second'])\n",
    "df = pd.DataFrame(np.random.randn(8, 2), index=index, columns=['A', 'B'])\n",
    "df2 = df[:4]\n",
    "df2"
   ]
  },
  {
   "cell_type": "code",
   "execution_count": 71,
   "metadata": {
    "collapsed": false
   },
   "outputs": [
    {
     "data": {
      "text/plain": [
       "first  second   \n",
       "bar    one     A   -1.749139\n",
       "               B    0.018289\n",
       "       two     A    1.732298\n",
       "               B   -0.509773\n",
       "baz    one     A    0.375384\n",
       "               B   -1.014180\n",
       "       two     A   -0.079787\n",
       "               B    0.765834\n",
       "dtype: float64"
      ]
     },
     "execution_count": 71,
     "metadata": {},
     "output_type": "execute_result"
    }
   ],
   "source": [
    "stacked = df2.stack()\n",
    "stacked"
   ]
  },
  {
   "cell_type": "code",
   "execution_count": 72,
   "metadata": {
    "collapsed": false
   },
   "outputs": [
    {
     "data": {
      "text/html": [
       "<div>\n",
       "<table border=\"1\" class=\"dataframe\">\n",
       "  <thead>\n",
       "    <tr style=\"text-align: right;\">\n",
       "      <th></th>\n",
       "      <th></th>\n",
       "      <th>A</th>\n",
       "      <th>B</th>\n",
       "    </tr>\n",
       "    <tr>\n",
       "      <th>first</th>\n",
       "      <th>second</th>\n",
       "      <th></th>\n",
       "      <th></th>\n",
       "    </tr>\n",
       "  </thead>\n",
       "  <tbody>\n",
       "    <tr>\n",
       "      <th rowspan=\"2\" valign=\"top\">bar</th>\n",
       "      <th>one</th>\n",
       "      <td>-1.749139</td>\n",
       "      <td>0.018289</td>\n",
       "    </tr>\n",
       "    <tr>\n",
       "      <th>two</th>\n",
       "      <td>1.732298</td>\n",
       "      <td>-0.509773</td>\n",
       "    </tr>\n",
       "    <tr>\n",
       "      <th rowspan=\"2\" valign=\"top\">baz</th>\n",
       "      <th>one</th>\n",
       "      <td>0.375384</td>\n",
       "      <td>-1.014180</td>\n",
       "    </tr>\n",
       "    <tr>\n",
       "      <th>two</th>\n",
       "      <td>-0.079787</td>\n",
       "      <td>0.765834</td>\n",
       "    </tr>\n",
       "  </tbody>\n",
       "</table>\n",
       "</div>"
      ],
      "text/plain": [
       "                     A         B\n",
       "first second                    \n",
       "bar   one    -1.749139  0.018289\n",
       "      two     1.732298 -0.509773\n",
       "baz   one     0.375384 -1.014180\n",
       "      two    -0.079787  0.765834"
      ]
     },
     "execution_count": 72,
     "metadata": {},
     "output_type": "execute_result"
    }
   ],
   "source": [
    "stacked.unstack()"
   ]
  },
  {
   "cell_type": "code",
   "execution_count": 73,
   "metadata": {
    "collapsed": false
   },
   "outputs": [
    {
     "data": {
      "text/html": [
       "<div>\n",
       "<table border=\"1\" class=\"dataframe\">\n",
       "  <thead>\n",
       "    <tr style=\"text-align: right;\">\n",
       "      <th></th>\n",
       "      <th>second</th>\n",
       "      <th>one</th>\n",
       "      <th>two</th>\n",
       "    </tr>\n",
       "    <tr>\n",
       "      <th>first</th>\n",
       "      <th></th>\n",
       "      <th></th>\n",
       "      <th></th>\n",
       "    </tr>\n",
       "  </thead>\n",
       "  <tbody>\n",
       "    <tr>\n",
       "      <th rowspan=\"2\" valign=\"top\">bar</th>\n",
       "      <th>A</th>\n",
       "      <td>-1.749139</td>\n",
       "      <td>1.732298</td>\n",
       "    </tr>\n",
       "    <tr>\n",
       "      <th>B</th>\n",
       "      <td>0.018289</td>\n",
       "      <td>-0.509773</td>\n",
       "    </tr>\n",
       "    <tr>\n",
       "      <th rowspan=\"2\" valign=\"top\">baz</th>\n",
       "      <th>A</th>\n",
       "      <td>0.375384</td>\n",
       "      <td>-0.079787</td>\n",
       "    </tr>\n",
       "    <tr>\n",
       "      <th>B</th>\n",
       "      <td>-1.014180</td>\n",
       "      <td>0.765834</td>\n",
       "    </tr>\n",
       "  </tbody>\n",
       "</table>\n",
       "</div>"
      ],
      "text/plain": [
       "second        one       two\n",
       "first                      \n",
       "bar   A -1.749139  1.732298\n",
       "      B  0.018289 -0.509773\n",
       "baz   A  0.375384 -0.079787\n",
       "      B -1.014180  0.765834"
      ]
     },
     "execution_count": 73,
     "metadata": {},
     "output_type": "execute_result"
    }
   ],
   "source": [
    "stacked.unstack(1)"
   ]
  },
  {
   "cell_type": "code",
   "execution_count": 74,
   "metadata": {
    "collapsed": false
   },
   "outputs": [
    {
     "data": {
      "text/html": [
       "<div>\n",
       "<table border=\"1\" class=\"dataframe\">\n",
       "  <thead>\n",
       "    <tr style=\"text-align: right;\">\n",
       "      <th></th>\n",
       "      <th>first</th>\n",
       "      <th>bar</th>\n",
       "      <th>baz</th>\n",
       "    </tr>\n",
       "    <tr>\n",
       "      <th>second</th>\n",
       "      <th></th>\n",
       "      <th></th>\n",
       "      <th></th>\n",
       "    </tr>\n",
       "  </thead>\n",
       "  <tbody>\n",
       "    <tr>\n",
       "      <th rowspan=\"2\" valign=\"top\">one</th>\n",
       "      <th>A</th>\n",
       "      <td>-1.749139</td>\n",
       "      <td>0.375384</td>\n",
       "    </tr>\n",
       "    <tr>\n",
       "      <th>B</th>\n",
       "      <td>0.018289</td>\n",
       "      <td>-1.014180</td>\n",
       "    </tr>\n",
       "    <tr>\n",
       "      <th rowspan=\"2\" valign=\"top\">two</th>\n",
       "      <th>A</th>\n",
       "      <td>1.732298</td>\n",
       "      <td>-0.079787</td>\n",
       "    </tr>\n",
       "    <tr>\n",
       "      <th>B</th>\n",
       "      <td>-0.509773</td>\n",
       "      <td>0.765834</td>\n",
       "    </tr>\n",
       "  </tbody>\n",
       "</table>\n",
       "</div>"
      ],
      "text/plain": [
       "first          bar       baz\n",
       "second                      \n",
       "one    A -1.749139  0.375384\n",
       "       B  0.018289 -1.014180\n",
       "two    A  1.732298 -0.079787\n",
       "       B -0.509773  0.765834"
      ]
     },
     "execution_count": 74,
     "metadata": {},
     "output_type": "execute_result"
    }
   ],
   "source": [
    "stacked.unstack(0)"
   ]
  },
  {
   "cell_type": "code",
   "execution_count": 75,
   "metadata": {
    "collapsed": false
   },
   "outputs": [
    {
     "data": {
      "text/html": [
       "<div>\n",
       "<table border=\"1\" class=\"dataframe\">\n",
       "  <thead>\n",
       "    <tr style=\"text-align: right;\">\n",
       "      <th></th>\n",
       "      <th>A</th>\n",
       "      <th>B</th>\n",
       "      <th>C</th>\n",
       "      <th>D</th>\n",
       "      <th>E</th>\n",
       "    </tr>\n",
       "  </thead>\n",
       "  <tbody>\n",
       "    <tr>\n",
       "      <th>0</th>\n",
       "      <td>one</td>\n",
       "      <td>A</td>\n",
       "      <td>foo</td>\n",
       "      <td>-0.288762</td>\n",
       "      <td>-0.622661</td>\n",
       "    </tr>\n",
       "    <tr>\n",
       "      <th>1</th>\n",
       "      <td>one</td>\n",
       "      <td>B</td>\n",
       "      <td>foo</td>\n",
       "      <td>0.551938</td>\n",
       "      <td>-0.598431</td>\n",
       "    </tr>\n",
       "    <tr>\n",
       "      <th>2</th>\n",
       "      <td>two</td>\n",
       "      <td>C</td>\n",
       "      <td>foo</td>\n",
       "      <td>0.506787</td>\n",
       "      <td>0.969711</td>\n",
       "    </tr>\n",
       "    <tr>\n",
       "      <th>3</th>\n",
       "      <td>three</td>\n",
       "      <td>A</td>\n",
       "      <td>bar</td>\n",
       "      <td>0.259814</td>\n",
       "      <td>-1.385754</td>\n",
       "    </tr>\n",
       "    <tr>\n",
       "      <th>4</th>\n",
       "      <td>one</td>\n",
       "      <td>B</td>\n",
       "      <td>bar</td>\n",
       "      <td>0.830093</td>\n",
       "      <td>-0.660083</td>\n",
       "    </tr>\n",
       "    <tr>\n",
       "      <th>5</th>\n",
       "      <td>one</td>\n",
       "      <td>C</td>\n",
       "      <td>bar</td>\n",
       "      <td>-0.159953</td>\n",
       "      <td>0.608315</td>\n",
       "    </tr>\n",
       "    <tr>\n",
       "      <th>6</th>\n",
       "      <td>two</td>\n",
       "      <td>A</td>\n",
       "      <td>foo</td>\n",
       "      <td>1.023037</td>\n",
       "      <td>-0.204225</td>\n",
       "    </tr>\n",
       "    <tr>\n",
       "      <th>7</th>\n",
       "      <td>three</td>\n",
       "      <td>B</td>\n",
       "      <td>foo</td>\n",
       "      <td>0.988880</td>\n",
       "      <td>1.196472</td>\n",
       "    </tr>\n",
       "    <tr>\n",
       "      <th>8</th>\n",
       "      <td>one</td>\n",
       "      <td>C</td>\n",
       "      <td>foo</td>\n",
       "      <td>0.282801</td>\n",
       "      <td>0.636484</td>\n",
       "    </tr>\n",
       "    <tr>\n",
       "      <th>9</th>\n",
       "      <td>one</td>\n",
       "      <td>A</td>\n",
       "      <td>bar</td>\n",
       "      <td>-2.331101</td>\n",
       "      <td>-0.208626</td>\n",
       "    </tr>\n",
       "    <tr>\n",
       "      <th>10</th>\n",
       "      <td>two</td>\n",
       "      <td>B</td>\n",
       "      <td>bar</td>\n",
       "      <td>-0.105642</td>\n",
       "      <td>-0.872332</td>\n",
       "    </tr>\n",
       "    <tr>\n",
       "      <th>11</th>\n",
       "      <td>three</td>\n",
       "      <td>C</td>\n",
       "      <td>bar</td>\n",
       "      <td>0.237274</td>\n",
       "      <td>0.783631</td>\n",
       "    </tr>\n",
       "  </tbody>\n",
       "</table>\n",
       "</div>"
      ],
      "text/plain": [
       "        A  B    C         D         E\n",
       "0     one  A  foo -0.288762 -0.622661\n",
       "1     one  B  foo  0.551938 -0.598431\n",
       "2     two  C  foo  0.506787  0.969711\n",
       "3   three  A  bar  0.259814 -1.385754\n",
       "4     one  B  bar  0.830093 -0.660083\n",
       "5     one  C  bar -0.159953  0.608315\n",
       "6     two  A  foo  1.023037 -0.204225\n",
       "7   three  B  foo  0.988880  1.196472\n",
       "8     one  C  foo  0.282801  0.636484\n",
       "9     one  A  bar -2.331101 -0.208626\n",
       "10    two  B  bar -0.105642 -0.872332\n",
       "11  three  C  bar  0.237274  0.783631"
      ]
     },
     "execution_count": 75,
     "metadata": {},
     "output_type": "execute_result"
    }
   ],
   "source": [
    "df = pd.DataFrame({'A' : ['one', 'one', 'two', 'three'] * 3,\n",
    "                   'B' : ['A', 'B', 'C'] * 4,\n",
    "                   'C' : ['foo', 'foo', 'foo', 'bar', 'bar', 'bar'] * 2,\n",
    "                   'D' : np.random.randn(12),\n",
    "                   'E' : np.random.randn(12)})\n",
    "df"
   ]
  },
  {
   "cell_type": "code",
   "execution_count": 76,
   "metadata": {
    "collapsed": false
   },
   "outputs": [
    {
     "data": {
      "text/html": [
       "<div>\n",
       "<table border=\"1\" class=\"dataframe\">\n",
       "  <thead>\n",
       "    <tr style=\"text-align: right;\">\n",
       "      <th></th>\n",
       "      <th>C</th>\n",
       "      <th>bar</th>\n",
       "      <th>foo</th>\n",
       "    </tr>\n",
       "    <tr>\n",
       "      <th>A</th>\n",
       "      <th>B</th>\n",
       "      <th></th>\n",
       "      <th></th>\n",
       "    </tr>\n",
       "  </thead>\n",
       "  <tbody>\n",
       "    <tr>\n",
       "      <th rowspan=\"3\" valign=\"top\">one</th>\n",
       "      <th>A</th>\n",
       "      <td>-2.331101</td>\n",
       "      <td>-0.288762</td>\n",
       "    </tr>\n",
       "    <tr>\n",
       "      <th>B</th>\n",
       "      <td>0.830093</td>\n",
       "      <td>0.551938</td>\n",
       "    </tr>\n",
       "    <tr>\n",
       "      <th>C</th>\n",
       "      <td>-0.159953</td>\n",
       "      <td>0.282801</td>\n",
       "    </tr>\n",
       "    <tr>\n",
       "      <th rowspan=\"3\" valign=\"top\">three</th>\n",
       "      <th>A</th>\n",
       "      <td>0.259814</td>\n",
       "      <td>NaN</td>\n",
       "    </tr>\n",
       "    <tr>\n",
       "      <th>B</th>\n",
       "      <td>NaN</td>\n",
       "      <td>0.988880</td>\n",
       "    </tr>\n",
       "    <tr>\n",
       "      <th>C</th>\n",
       "      <td>0.237274</td>\n",
       "      <td>NaN</td>\n",
       "    </tr>\n",
       "    <tr>\n",
       "      <th rowspan=\"3\" valign=\"top\">two</th>\n",
       "      <th>A</th>\n",
       "      <td>NaN</td>\n",
       "      <td>1.023037</td>\n",
       "    </tr>\n",
       "    <tr>\n",
       "      <th>B</th>\n",
       "      <td>-0.105642</td>\n",
       "      <td>NaN</td>\n",
       "    </tr>\n",
       "    <tr>\n",
       "      <th>C</th>\n",
       "      <td>NaN</td>\n",
       "      <td>0.506787</td>\n",
       "    </tr>\n",
       "  </tbody>\n",
       "</table>\n",
       "</div>"
      ],
      "text/plain": [
       "C             bar       foo\n",
       "A     B                    \n",
       "one   A -2.331101 -0.288762\n",
       "      B  0.830093  0.551938\n",
       "      C -0.159953  0.282801\n",
       "three A  0.259814       NaN\n",
       "      B       NaN  0.988880\n",
       "      C  0.237274       NaN\n",
       "two   A       NaN  1.023037\n",
       "      B -0.105642       NaN\n",
       "      C       NaN  0.506787"
      ]
     },
     "execution_count": 76,
     "metadata": {},
     "output_type": "execute_result"
    }
   ],
   "source": [
    "pd.pivot_table(df, values='D', index=['A', 'B'], columns=['C'])"
   ]
  },
  {
   "cell_type": "markdown",
   "metadata": {},
   "source": [
    "# Time Series"
   ]
  },
  {
   "cell_type": "code",
   "execution_count": 80,
   "metadata": {
    "collapsed": false
   },
   "outputs": [
    {
     "name": "stdout",
     "output_type": "stream",
     "text": [
      "2012-01-01 00:00:00     24\n",
      "2012-01-01 00:00:01    273\n",
      "2012-01-01 00:00:02     91\n",
      "2012-01-01 00:00:03    298\n",
      "2012-01-01 00:00:04      4\n",
      "2012-01-01 00:00:05     19\n",
      "2012-01-01 00:00:06    475\n",
      "2012-01-01 00:00:07    225\n",
      "2012-01-01 00:00:08    125\n",
      "2012-01-01 00:00:09    374\n",
      "2012-01-01 00:00:10    427\n",
      "2012-01-01 00:00:11    156\n",
      "2012-01-01 00:00:12     24\n",
      "2012-01-01 00:00:13     22\n",
      "2012-01-01 00:00:14    355\n",
      "2012-01-01 00:00:15    324\n",
      "2012-01-01 00:00:16     23\n",
      "2012-01-01 00:00:17    413\n",
      "2012-01-01 00:00:18    308\n",
      "2012-01-01 00:00:19    336\n",
      "2012-01-01 00:00:20     20\n",
      "2012-01-01 00:00:21     60\n",
      "2012-01-01 00:00:22    133\n",
      "2012-01-01 00:00:23    273\n",
      "2012-01-01 00:00:24     81\n",
      "2012-01-01 00:00:25    352\n",
      "2012-01-01 00:00:26    388\n",
      "2012-01-01 00:00:27     85\n",
      "2012-01-01 00:00:28    497\n",
      "2012-01-01 00:00:29    154\n",
      "                      ... \n",
      "2012-01-01 00:01:10    278\n",
      "2012-01-01 00:01:11    402\n",
      "2012-01-01 00:01:12    266\n",
      "2012-01-01 00:01:13    198\n",
      "2012-01-01 00:01:14     60\n",
      "2012-01-01 00:01:15    160\n",
      "2012-01-01 00:01:16     62\n",
      "2012-01-01 00:01:17    152\n",
      "2012-01-01 00:01:18    293\n",
      "2012-01-01 00:01:19    465\n",
      "2012-01-01 00:01:20     32\n",
      "2012-01-01 00:01:21    403\n",
      "2012-01-01 00:01:22    346\n",
      "2012-01-01 00:01:23    211\n",
      "2012-01-01 00:01:24    118\n",
      "2012-01-01 00:01:25    381\n",
      "2012-01-01 00:01:26    217\n",
      "2012-01-01 00:01:27    378\n",
      "2012-01-01 00:01:28    387\n",
      "2012-01-01 00:01:29    210\n",
      "2012-01-01 00:01:30    431\n",
      "2012-01-01 00:01:31     44\n",
      "2012-01-01 00:01:32    227\n",
      "2012-01-01 00:01:33    146\n",
      "2012-01-01 00:01:34     53\n",
      "2012-01-01 00:01:35    260\n",
      "2012-01-01 00:01:36    291\n",
      "2012-01-01 00:01:37      3\n",
      "2012-01-01 00:01:38    274\n",
      "2012-01-01 00:01:39    217\n",
      "Freq: S, dtype: int64\n"
     ]
    },
    {
     "data": {
      "text/plain": [
       "2012-01-01    22700\n",
       "Freq: 5T, dtype: int64"
      ]
     },
     "execution_count": 80,
     "metadata": {},
     "output_type": "execute_result"
    }
   ],
   "source": [
    "rng = pd.date_range('1/1/2012', periods=100, freq='S') #起始於2012/1/1 0點，共100個單位，以秒為步長\n",
    "ts = pd.Series(np.random.randint(0, 500, len(rng)), index=rng) #0~500間取亂數，共取len(rng)=100個，索引值為rng\n",
    "print(ts)\n",
    "ts.resample('5Min').sum()"
   ]
  },
  {
   "cell_type": "code",
   "execution_count": 81,
   "metadata": {
    "collapsed": false
   },
   "outputs": [
    {
     "name": "stdout",
     "output_type": "stream",
     "text": [
      "2012-03-06    0.221740\n",
      "2012-03-07   -0.641180\n",
      "2012-03-08   -2.010658\n",
      "2012-03-09    0.729293\n",
      "2012-03-10   -0.189636\n",
      "Freq: D, dtype: float64\n"
     ]
    },
    {
     "data": {
      "text/plain": [
       "2012-03-06 00:00:00+00:00    0.221740\n",
       "2012-03-07 00:00:00+00:00   -0.641180\n",
       "2012-03-08 00:00:00+00:00   -2.010658\n",
       "2012-03-09 00:00:00+00:00    0.729293\n",
       "2012-03-10 00:00:00+00:00   -0.189636\n",
       "Freq: D, dtype: float64"
      ]
     },
     "execution_count": 81,
     "metadata": {},
     "output_type": "execute_result"
    }
   ],
   "source": [
    "rng = pd.date_range('3/6/2012 00:00', periods=5, freq='D')\n",
    "ts = pd.Series(np.random.randn(len(rng)), rng)\n",
    "print(ts)\n",
    "ts_utc = ts.tz_localize('UTC')\n",
    "ts_utc"
   ]
  },
  {
   "cell_type": "code",
   "execution_count": 85,
   "metadata": {
    "collapsed": false
   },
   "outputs": [
    {
     "data": {
      "text/plain": [
       "2012-03-05 19:00:00-05:00    0.221740\n",
       "2012-03-06 19:00:00-05:00   -0.641180\n",
       "2012-03-07 19:00:00-05:00   -2.010658\n",
       "2012-03-08 19:00:00-05:00    0.729293\n",
       "2012-03-09 19:00:00-05:00   -0.189636\n",
       "Freq: D, dtype: float64"
      ]
     },
     "execution_count": 85,
     "metadata": {},
     "output_type": "execute_result"
    }
   ],
   "source": [
    "ts_utc.tz_convert('US/Eastern')"
   ]
  },
  {
   "cell_type": "code",
   "execution_count": 89,
   "metadata": {
    "collapsed": false
   },
   "outputs": [
    {
     "name": "stdout",
     "output_type": "stream",
     "text": [
      "2012-01-31   -0.215033\n",
      "2012-02-29   -0.498014\n",
      "2012-03-31    0.164881\n",
      "2012-04-30    0.271664\n",
      "2012-05-31    0.998362\n",
      "Freq: M, dtype: float64\n",
      "2012-01   -0.215033\n",
      "2012-02   -0.498014\n",
      "2012-03    0.164881\n",
      "2012-04    0.271664\n",
      "2012-05    0.998362\n",
      "Freq: M, dtype: float64\n"
     ]
    },
    {
     "data": {
      "text/plain": [
       "2012-01-01   -0.215033\n",
       "2012-02-01   -0.498014\n",
       "2012-03-01    0.164881\n",
       "2012-04-01    0.271664\n",
       "2012-05-01    0.998362\n",
       "Freq: MS, dtype: float64"
      ]
     },
     "execution_count": 89,
     "metadata": {},
     "output_type": "execute_result"
    }
   ],
   "source": [
    "#http://pandas.pydata.org/pandas-docs/stable/timeseries.html#offset-aliases\n",
    "rng = pd.date_range('1/1/2012', periods=5, freq='M') \n",
    "ts = pd.Series(np.random.randn(len(rng)), index=rng)\n",
    "print(ts)\n",
    "ps = ts.to_period()\n",
    "print(ps) #Convert DataFrame from DatetimeIndex to PeriodIndex with desired frequency (inferred from index if not passed)\n",
    "ps.to_timestamp()"
   ]
  },
  {
   "cell_type": "code",
   "execution_count": 90,
   "metadata": {
    "collapsed": false
   },
   "outputs": [
    {
     "data": {
      "text/plain": [
       "1990-03-01 09:00   -0.425303\n",
       "1990-06-01 09:00    0.052839\n",
       "1990-09-01 09:00   -0.056034\n",
       "1990-12-01 09:00   -0.410950\n",
       "1991-03-01 09:00    0.123361\n",
       "Freq: H, dtype: float64"
      ]
     },
     "execution_count": 90,
     "metadata": {},
     "output_type": "execute_result"
    }
   ],
   "source": [
    "prng = pd.period_range('1990Q1', '2000Q4', freq='Q-NOV')\n",
    "ts = pd.Series(np.random.randn(len(prng)), prng)\n",
    "ts.index = (prng.asfreq('M', 'e') + 1).asfreq('H', 's') + 9\n",
    "ts.head() #Convert TimeSeries to specified frequency."
   ]
  },
  {
   "cell_type": "markdown",
   "metadata": {},
   "source": [
    "# Categoricals"
   ]
  },
  {
   "cell_type": "code",
   "execution_count": 92,
   "metadata": {
    "collapsed": false
   },
   "outputs": [
    {
     "name": "stdout",
     "output_type": "stream",
     "text": [
      "   id raw_grade\n",
      "0   1         a\n",
      "1   2         b\n",
      "2   3         b\n",
      "3   4         a\n",
      "4   5         a\n",
      "5   6         e\n"
     ]
    },
    {
     "data": {
      "text/plain": [
       "0    a\n",
       "1    b\n",
       "2    b\n",
       "3    a\n",
       "4    a\n",
       "5    e\n",
       "Name: grade, dtype: category\n",
       "Categories (3, object): [a, b, e]"
      ]
     },
     "execution_count": 92,
     "metadata": {},
     "output_type": "execute_result"
    }
   ],
   "source": [
    "df = pd.DataFrame({\"id\":[1,2,3,4,5,6], \"raw_grade\":['a', 'b', 'b', 'a', 'a', 'e']})\n",
    "print(df)\n",
    "df[\"grade\"] = df[\"raw_grade\"].astype(\"category\")\n",
    "df[\"grade\"]"
   ]
  },
  {
   "cell_type": "code",
   "execution_count": 94,
   "metadata": {
    "collapsed": false
   },
   "outputs": [
    {
     "data": {
      "text/html": [
       "<div>\n",
       "<table border=\"1\" class=\"dataframe\">\n",
       "  <thead>\n",
       "    <tr style=\"text-align: right;\">\n",
       "      <th></th>\n",
       "      <th>id</th>\n",
       "      <th>raw_grade</th>\n",
       "      <th>grade</th>\n",
       "    </tr>\n",
       "  </thead>\n",
       "  <tbody>\n",
       "    <tr>\n",
       "      <th>0</th>\n",
       "      <td>1</td>\n",
       "      <td>a</td>\n",
       "      <td>very good</td>\n",
       "    </tr>\n",
       "    <tr>\n",
       "      <th>1</th>\n",
       "      <td>2</td>\n",
       "      <td>b</td>\n",
       "      <td>good</td>\n",
       "    </tr>\n",
       "    <tr>\n",
       "      <th>2</th>\n",
       "      <td>3</td>\n",
       "      <td>b</td>\n",
       "      <td>good</td>\n",
       "    </tr>\n",
       "    <tr>\n",
       "      <th>3</th>\n",
       "      <td>4</td>\n",
       "      <td>a</td>\n",
       "      <td>very good</td>\n",
       "    </tr>\n",
       "    <tr>\n",
       "      <th>4</th>\n",
       "      <td>5</td>\n",
       "      <td>a</td>\n",
       "      <td>very good</td>\n",
       "    </tr>\n",
       "    <tr>\n",
       "      <th>5</th>\n",
       "      <td>6</td>\n",
       "      <td>e</td>\n",
       "      <td>very bad</td>\n",
       "    </tr>\n",
       "  </tbody>\n",
       "</table>\n",
       "</div>"
      ],
      "text/plain": [
       "   id raw_grade      grade\n",
       "0   1         a  very good\n",
       "1   2         b       good\n",
       "2   3         b       good\n",
       "3   4         a  very good\n",
       "4   5         a  very good\n",
       "5   6         e   very bad"
      ]
     },
     "execution_count": 94,
     "metadata": {},
     "output_type": "execute_result"
    }
   ],
   "source": [
    "df[\"grade\"].cat.categories = [\"very good\", \"good\", \"very bad\"]\n",
    "df"
   ]
  },
  {
   "cell_type": "code",
   "execution_count": 96,
   "metadata": {
    "collapsed": false
   },
   "outputs": [
    {
     "name": "stdout",
     "output_type": "stream",
     "text": [
      "   id raw_grade      grade\n",
      "0   1         a  very good\n",
      "1   2         b       good\n",
      "2   3         b       good\n",
      "3   4         a  very good\n",
      "4   5         a  very good\n",
      "5   6         e   very bad\n"
     ]
    },
    {
     "data": {
      "text/plain": [
       "0    very good\n",
       "1         good\n",
       "2         good\n",
       "3    very good\n",
       "4    very good\n",
       "5     very bad\n",
       "Name: grade, dtype: category\n",
       "Categories (5, object): [very bad, bad, medium, good, very good]"
      ]
     },
     "execution_count": 96,
     "metadata": {},
     "output_type": "execute_result"
    }
   ],
   "source": [
    "df[\"grade\"] = df[\"grade\"].cat.set_categories([\"very bad\", \"bad\", \"medium\", \"good\", \"very good\"])\n",
    "print(df)\n",
    "df[\"grade\"]"
   ]
  },
  {
   "cell_type": "code",
   "execution_count": 97,
   "metadata": {
    "collapsed": false
   },
   "outputs": [
    {
     "data": {
      "text/html": [
       "<div>\n",
       "<table border=\"1\" class=\"dataframe\">\n",
       "  <thead>\n",
       "    <tr style=\"text-align: right;\">\n",
       "      <th></th>\n",
       "      <th>id</th>\n",
       "      <th>raw_grade</th>\n",
       "      <th>grade</th>\n",
       "    </tr>\n",
       "  </thead>\n",
       "  <tbody>\n",
       "    <tr>\n",
       "      <th>5</th>\n",
       "      <td>6</td>\n",
       "      <td>e</td>\n",
       "      <td>very bad</td>\n",
       "    </tr>\n",
       "    <tr>\n",
       "      <th>1</th>\n",
       "      <td>2</td>\n",
       "      <td>b</td>\n",
       "      <td>good</td>\n",
       "    </tr>\n",
       "    <tr>\n",
       "      <th>2</th>\n",
       "      <td>3</td>\n",
       "      <td>b</td>\n",
       "      <td>good</td>\n",
       "    </tr>\n",
       "    <tr>\n",
       "      <th>0</th>\n",
       "      <td>1</td>\n",
       "      <td>a</td>\n",
       "      <td>very good</td>\n",
       "    </tr>\n",
       "    <tr>\n",
       "      <th>3</th>\n",
       "      <td>4</td>\n",
       "      <td>a</td>\n",
       "      <td>very good</td>\n",
       "    </tr>\n",
       "    <tr>\n",
       "      <th>4</th>\n",
       "      <td>5</td>\n",
       "      <td>a</td>\n",
       "      <td>very good</td>\n",
       "    </tr>\n",
       "  </tbody>\n",
       "</table>\n",
       "</div>"
      ],
      "text/plain": [
       "   id raw_grade      grade\n",
       "5   6         e   very bad\n",
       "1   2         b       good\n",
       "2   3         b       good\n",
       "0   1         a  very good\n",
       "3   4         a  very good\n",
       "4   5         a  very good"
      ]
     },
     "execution_count": 97,
     "metadata": {},
     "output_type": "execute_result"
    }
   ],
   "source": [
    "df.sort_values(by=\"grade\")"
   ]
  },
  {
   "cell_type": "code",
   "execution_count": 98,
   "metadata": {
    "collapsed": false
   },
   "outputs": [
    {
     "data": {
      "text/plain": [
       "grade\n",
       "very bad     1\n",
       "bad          0\n",
       "medium       0\n",
       "good         2\n",
       "very good    3\n",
       "dtype: int64"
      ]
     },
     "execution_count": 98,
     "metadata": {},
     "output_type": "execute_result"
    }
   ],
   "source": [
    "df.groupby(\"grade\").size()"
   ]
  },
  {
   "cell_type": "markdown",
   "metadata": {},
   "source": [
    "# Plotting"
   ]
  },
  {
   "cell_type": "code",
   "execution_count": 104,
   "metadata": {
    "collapsed": false
   },
   "outputs": [
    {
     "data": {
      "image/png": "[encoded data removed]",
      "text/plain": [
       "<matplotlib.figure.Figure at 0x1115b6ac8>"
      ]
     },
     "metadata": {},
     "output_type": "display_data"
    }
   ],
   "source": [
    "ts = pd.Series(np.random.randn(1000), index=pd.date_range('1/1/2000', periods=1000))\n",
    "ts = ts.cumsum() #Cumulative sum\n",
    "ts.plot()\n",
    "plt.show()"
   ]
  },
  {
   "cell_type": "code",
   "execution_count": 111,
   "metadata": {
    "collapsed": false
   },
   "outputs": [
    {
     "data": {
      "text/plain": [
       "<matplotlib.figure.Figure at 0x111d1e6d8>"
      ]
     },
     "metadata": {},
     "output_type": "display_data"
    },
    {
     "data": {
      "image/png": "[encoded data removed]",
      "text/plain": [
       "<matplotlib.figure.Figure at 0x1114be400>"
      ]
     },
     "metadata": {},
     "output_type": "display_data"
    }
   ],
   "source": [
    "df = pd.DataFrame(np.random.randn(1000, 4), index=ts.index,columns=['A', 'B', 'C', 'D'])\n",
    "df = df.cumsum()\n",
    "plt.figure()\n",
    "df.plot()\n",
    "plt.legend(loc='best')\n",
    "plt.show()"
   ]
  },
  {
   "cell_type": "code",
   "execution_count": 112,
   "metadata": {
    "collapsed": true
   },
   "outputs": [],
   "source": [
    "df.to_csv('foo.csv')"
   ]
  },
  {
   "cell_type": "code",
   "execution_count": 113,
   "metadata": {
    "collapsed": false
   },
   "outputs": [
    {
     "data": {
      "text/html": [
       "<div>\n",
       "<table border=\"1\" class=\"dataframe\">\n",
       "  <thead>\n",
       "    <tr style=\"text-align: right;\">\n",
       "      <th></th>\n",
       "      <th>Unnamed: 0</th>\n",
       "      <th>A</th>\n",
       "      <th>B</th>\n",
       "      <th>C</th>\n",
       "      <th>D</th>\n",
       "    </tr>\n",
       "  </thead>\n",
       "  <tbody>\n",
       "    <tr>\n",
       "      <th>0</th>\n",
       "      <td>2000-01-01</td>\n",
       "      <td>-0.210911</td>\n",
       "      <td>-0.394686</td>\n",
       "      <td>-0.419105</td>\n",
       "      <td>-0.145808</td>\n",
       "    </tr>\n",
       "    <tr>\n",
       "      <th>1</th>\n",
       "      <td>2000-01-02</td>\n",
       "      <td>-0.714142</td>\n",
       "      <td>0.411642</td>\n",
       "      <td>0.281501</td>\n",
       "      <td>-0.341267</td>\n",
       "    </tr>\n",
       "    <tr>\n",
       "      <th>2</th>\n",
       "      <td>2000-01-03</td>\n",
       "      <td>-0.890765</td>\n",
       "      <td>1.439130</td>\n",
       "      <td>-1.714523</td>\n",
       "      <td>-0.846564</td>\n",
       "    </tr>\n",
       "    <tr>\n",
       "      <th>3</th>\n",
       "      <td>2000-01-04</td>\n",
       "      <td>-1.339498</td>\n",
       "      <td>1.042684</td>\n",
       "      <td>-0.466742</td>\n",
       "      <td>-1.486717</td>\n",
       "    </tr>\n",
       "    <tr>\n",
       "      <th>4</th>\n",
       "      <td>2000-01-05</td>\n",
       "      <td>-2.545573</td>\n",
       "      <td>-0.849863</td>\n",
       "      <td>-1.919392</td>\n",
       "      <td>-3.056708</td>\n",
       "    </tr>\n",
       "    <tr>\n",
       "      <th>5</th>\n",
       "      <td>2000-01-06</td>\n",
       "      <td>-1.237316</td>\n",
       "      <td>-1.133017</td>\n",
       "      <td>-1.573732</td>\n",
       "      <td>-4.270700</td>\n",
       "    </tr>\n",
       "    <tr>\n",
       "      <th>6</th>\n",
       "      <td>2000-01-07</td>\n",
       "      <td>-0.093103</td>\n",
       "      <td>-2.593050</td>\n",
       "      <td>-2.282737</td>\n",
       "      <td>-3.758719</td>\n",
       "    </tr>\n",
       "    <tr>\n",
       "      <th>7</th>\n",
       "      <td>2000-01-08</td>\n",
       "      <td>-0.757502</td>\n",
       "      <td>-2.170138</td>\n",
       "      <td>-3.293863</td>\n",
       "      <td>-3.233797</td>\n",
       "    </tr>\n",
       "    <tr>\n",
       "      <th>8</th>\n",
       "      <td>2000-01-09</td>\n",
       "      <td>-0.958122</td>\n",
       "      <td>-1.299476</td>\n",
       "      <td>-3.377097</td>\n",
       "      <td>-3.818160</td>\n",
       "    </tr>\n",
       "    <tr>\n",
       "      <th>9</th>\n",
       "      <td>2000-01-10</td>\n",
       "      <td>-1.068149</td>\n",
       "      <td>-0.988313</td>\n",
       "      <td>-2.688782</td>\n",
       "      <td>-3.692130</td>\n",
       "    </tr>\n",
       "    <tr>\n",
       "      <th>10</th>\n",
       "      <td>2000-01-11</td>\n",
       "      <td>-0.225658</td>\n",
       "      <td>-0.469686</td>\n",
       "      <td>-2.123383</td>\n",
       "      <td>-0.044338</td>\n",
       "    </tr>\n",
       "    <tr>\n",
       "      <th>11</th>\n",
       "      <td>2000-01-12</td>\n",
       "      <td>-0.994771</td>\n",
       "      <td>0.582417</td>\n",
       "      <td>-1.739067</td>\n",
       "      <td>-0.682751</td>\n",
       "    </tr>\n",
       "    <tr>\n",
       "      <th>12</th>\n",
       "      <td>2000-01-13</td>\n",
       "      <td>-1.788214</td>\n",
       "      <td>2.072733</td>\n",
       "      <td>-1.874239</td>\n",
       "      <td>0.441966</td>\n",
       "    </tr>\n",
       "    <tr>\n",
       "      <th>13</th>\n",
       "      <td>2000-01-14</td>\n",
       "      <td>-1.715919</td>\n",
       "      <td>0.665594</td>\n",
       "      <td>-2.832185</td>\n",
       "      <td>-0.053513</td>\n",
       "    </tr>\n",
       "    <tr>\n",
       "      <th>14</th>\n",
       "      <td>2000-01-15</td>\n",
       "      <td>-0.993468</td>\n",
       "      <td>-0.119230</td>\n",
       "      <td>-3.769889</td>\n",
       "      <td>1.230347</td>\n",
       "    </tr>\n",
       "    <tr>\n",
       "      <th>15</th>\n",
       "      <td>2000-01-16</td>\n",
       "      <td>-0.059053</td>\n",
       "      <td>-0.620589</td>\n",
       "      <td>-2.620308</td>\n",
       "      <td>2.290776</td>\n",
       "    </tr>\n",
       "    <tr>\n",
       "      <th>16</th>\n",
       "      <td>2000-01-17</td>\n",
       "      <td>0.712665</td>\n",
       "      <td>0.712160</td>\n",
       "      <td>-2.164080</td>\n",
       "      <td>2.499962</td>\n",
       "    </tr>\n",
       "    <tr>\n",
       "      <th>17</th>\n",
       "      <td>2000-01-18</td>\n",
       "      <td>0.533088</td>\n",
       "      <td>0.414219</td>\n",
       "      <td>-0.734311</td>\n",
       "      <td>1.414515</td>\n",
       "    </tr>\n",
       "    <tr>\n",
       "      <th>18</th>\n",
       "      <td>2000-01-19</td>\n",
       "      <td>0.720453</td>\n",
       "      <td>0.262196</td>\n",
       "      <td>-2.310324</td>\n",
       "      <td>1.419418</td>\n",
       "    </tr>\n",
       "    <tr>\n",
       "      <th>19</th>\n",
       "      <td>2000-01-20</td>\n",
       "      <td>-0.204213</td>\n",
       "      <td>-1.026158</td>\n",
       "      <td>-3.574227</td>\n",
       "      <td>0.832125</td>\n",
       "    </tr>\n",
       "    <tr>\n",
       "      <th>20</th>\n",
       "      <td>2000-01-21</td>\n",
       "      <td>-0.505443</td>\n",
       "      <td>-1.005086</td>\n",
       "      <td>-2.741988</td>\n",
       "      <td>0.739405</td>\n",
       "    </tr>\n",
       "    <tr>\n",
       "      <th>21</th>\n",
       "      <td>2000-01-22</td>\n",
       "      <td>-0.683255</td>\n",
       "      <td>-2.733877</td>\n",
       "      <td>-4.304552</td>\n",
       "      <td>1.267389</td>\n",
       "    </tr>\n",
       "    <tr>\n",
       "      <th>22</th>\n",
       "      <td>2000-01-23</td>\n",
       "      <td>-2.354130</td>\n",
       "      <td>-3.153474</td>\n",
       "      <td>-5.306682</td>\n",
       "      <td>3.099587</td>\n",
       "    </tr>\n",
       "    <tr>\n",
       "      <th>23</th>\n",
       "      <td>2000-01-24</td>\n",
       "      <td>-3.224718</td>\n",
       "      <td>-4.068362</td>\n",
       "      <td>-4.760774</td>\n",
       "      <td>4.908284</td>\n",
       "    </tr>\n",
       "    <tr>\n",
       "      <th>24</th>\n",
       "      <td>2000-01-25</td>\n",
       "      <td>-3.317370</td>\n",
       "      <td>-4.538997</td>\n",
       "      <td>-4.698088</td>\n",
       "      <td>3.287908</td>\n",
       "    </tr>\n",
       "    <tr>\n",
       "      <th>25</th>\n",
       "      <td>2000-01-26</td>\n",
       "      <td>-2.952152</td>\n",
       "      <td>-4.710248</td>\n",
       "      <td>-6.247607</td>\n",
       "      <td>5.673559</td>\n",
       "    </tr>\n",
       "    <tr>\n",
       "      <th>26</th>\n",
       "      <td>2000-01-27</td>\n",
       "      <td>-1.668364</td>\n",
       "      <td>-4.573059</td>\n",
       "      <td>-7.040738</td>\n",
       "      <td>4.760881</td>\n",
       "    </tr>\n",
       "    <tr>\n",
       "      <th>27</th>\n",
       "      <td>2000-01-28</td>\n",
       "      <td>0.361358</td>\n",
       "      <td>-4.630278</td>\n",
       "      <td>-7.053579</td>\n",
       "      <td>6.356355</td>\n",
       "    </tr>\n",
       "    <tr>\n",
       "      <th>28</th>\n",
       "      <td>2000-01-29</td>\n",
       "      <td>1.052621</td>\n",
       "      <td>-4.143976</td>\n",
       "      <td>-6.764352</td>\n",
       "      <td>7.796743</td>\n",
       "    </tr>\n",
       "    <tr>\n",
       "      <th>29</th>\n",
       "      <td>2000-01-30</td>\n",
       "      <td>2.166085</td>\n",
       "      <td>-4.668714</td>\n",
       "      <td>-7.646835</td>\n",
       "      <td>8.253771</td>\n",
       "    </tr>\n",
       "    <tr>\n",
       "      <th>...</th>\n",
       "      <td>...</td>\n",
       "      <td>...</td>\n",
       "      <td>...</td>\n",
       "      <td>...</td>\n",
       "      <td>...</td>\n",
       "    </tr>\n",
       "    <tr>\n",
       "      <th>970</th>\n",
       "      <td>2002-08-28</td>\n",
       "      <td>-36.430366</td>\n",
       "      <td>0.131998</td>\n",
       "      <td>47.220427</td>\n",
       "      <td>-22.223609</td>\n",
       "    </tr>\n",
       "    <tr>\n",
       "      <th>971</th>\n",
       "      <td>2002-08-29</td>\n",
       "      <td>-38.178514</td>\n",
       "      <td>-0.262849</td>\n",
       "      <td>46.828876</td>\n",
       "      <td>-22.359602</td>\n",
       "    </tr>\n",
       "    <tr>\n",
       "      <th>972</th>\n",
       "      <td>2002-08-30</td>\n",
       "      <td>-37.220114</td>\n",
       "      <td>0.993166</td>\n",
       "      <td>44.913866</td>\n",
       "      <td>-23.395867</td>\n",
       "    </tr>\n",
       "    <tr>\n",
       "      <th>973</th>\n",
       "      <td>2002-08-31</td>\n",
       "      <td>-36.663684</td>\n",
       "      <td>1.520091</td>\n",
       "      <td>43.194070</td>\n",
       "      <td>-23.637206</td>\n",
       "    </tr>\n",
       "    <tr>\n",
       "      <th>974</th>\n",
       "      <td>2002-09-01</td>\n",
       "      <td>-36.008406</td>\n",
       "      <td>0.228040</td>\n",
       "      <td>44.826003</td>\n",
       "      <td>-24.280190</td>\n",
       "    </tr>\n",
       "    <tr>\n",
       "      <th>975</th>\n",
       "      <td>2002-09-02</td>\n",
       "      <td>-37.341420</td>\n",
       "      <td>0.767191</td>\n",
       "      <td>44.909678</td>\n",
       "      <td>-23.054441</td>\n",
       "    </tr>\n",
       "    <tr>\n",
       "      <th>976</th>\n",
       "      <td>2002-09-03</td>\n",
       "      <td>-38.319424</td>\n",
       "      <td>-1.706709</td>\n",
       "      <td>44.017037</td>\n",
       "      <td>-20.493063</td>\n",
       "    </tr>\n",
       "    <tr>\n",
       "      <th>977</th>\n",
       "      <td>2002-09-04</td>\n",
       "      <td>-37.060258</td>\n",
       "      <td>-3.898494</td>\n",
       "      <td>45.604609</td>\n",
       "      <td>-20.246233</td>\n",
       "    </tr>\n",
       "    <tr>\n",
       "      <th>978</th>\n",
       "      <td>2002-09-05</td>\n",
       "      <td>-37.916583</td>\n",
       "      <td>-3.804672</td>\n",
       "      <td>46.393919</td>\n",
       "      <td>-18.727048</td>\n",
       "    </tr>\n",
       "    <tr>\n",
       "      <th>979</th>\n",
       "      <td>2002-09-06</td>\n",
       "      <td>-36.486733</td>\n",
       "      <td>-2.980705</td>\n",
       "      <td>46.631398</td>\n",
       "      <td>-17.983846</td>\n",
       "    </tr>\n",
       "    <tr>\n",
       "      <th>980</th>\n",
       "      <td>2002-09-07</td>\n",
       "      <td>-36.914336</td>\n",
       "      <td>-5.001724</td>\n",
       "      <td>45.631532</td>\n",
       "      <td>-18.451646</td>\n",
       "    </tr>\n",
       "    <tr>\n",
       "      <th>981</th>\n",
       "      <td>2002-09-08</td>\n",
       "      <td>-36.621019</td>\n",
       "      <td>-5.678344</td>\n",
       "      <td>46.995951</td>\n",
       "      <td>-15.710807</td>\n",
       "    </tr>\n",
       "    <tr>\n",
       "      <th>982</th>\n",
       "      <td>2002-09-09</td>\n",
       "      <td>-38.584281</td>\n",
       "      <td>-6.008468</td>\n",
       "      <td>46.871461</td>\n",
       "      <td>-15.070985</td>\n",
       "    </tr>\n",
       "    <tr>\n",
       "      <th>983</th>\n",
       "      <td>2002-09-10</td>\n",
       "      <td>-38.251310</td>\n",
       "      <td>-5.894956</td>\n",
       "      <td>47.446300</td>\n",
       "      <td>-14.657334</td>\n",
       "    </tr>\n",
       "    <tr>\n",
       "      <th>984</th>\n",
       "      <td>2002-09-11</td>\n",
       "      <td>-38.970590</td>\n",
       "      <td>-6.858481</td>\n",
       "      <td>48.860987</td>\n",
       "      <td>-13.054722</td>\n",
       "    </tr>\n",
       "    <tr>\n",
       "      <th>985</th>\n",
       "      <td>2002-09-12</td>\n",
       "      <td>-39.753823</td>\n",
       "      <td>-8.109369</td>\n",
       "      <td>49.066151</td>\n",
       "      <td>-13.383934</td>\n",
       "    </tr>\n",
       "    <tr>\n",
       "      <th>986</th>\n",
       "      <td>2002-09-13</td>\n",
       "      <td>-39.837066</td>\n",
       "      <td>-8.387876</td>\n",
       "      <td>49.864029</td>\n",
       "      <td>-14.160415</td>\n",
       "    </tr>\n",
       "    <tr>\n",
       "      <th>987</th>\n",
       "      <td>2002-09-14</td>\n",
       "      <td>-38.259330</td>\n",
       "      <td>-8.227545</td>\n",
       "      <td>51.319931</td>\n",
       "      <td>-14.952880</td>\n",
       "    </tr>\n",
       "    <tr>\n",
       "      <th>988</th>\n",
       "      <td>2002-09-15</td>\n",
       "      <td>-38.980205</td>\n",
       "      <td>-10.012426</td>\n",
       "      <td>50.116559</td>\n",
       "      <td>-12.731623</td>\n",
       "    </tr>\n",
       "    <tr>\n",
       "      <th>989</th>\n",
       "      <td>2002-09-16</td>\n",
       "      <td>-40.138393</td>\n",
       "      <td>-9.994957</td>\n",
       "      <td>50.590066</td>\n",
       "      <td>-14.450152</td>\n",
       "    </tr>\n",
       "    <tr>\n",
       "      <th>990</th>\n",
       "      <td>2002-09-17</td>\n",
       "      <td>-42.299882</td>\n",
       "      <td>-11.650091</td>\n",
       "      <td>48.820892</td>\n",
       "      <td>-13.239595</td>\n",
       "    </tr>\n",
       "    <tr>\n",
       "      <th>991</th>\n",
       "      <td>2002-09-18</td>\n",
       "      <td>-41.660391</td>\n",
       "      <td>-12.347329</td>\n",
       "      <td>47.966331</td>\n",
       "      <td>-12.683892</td>\n",
       "    </tr>\n",
       "    <tr>\n",
       "      <th>992</th>\n",
       "      <td>2002-09-19</td>\n",
       "      <td>-41.272548</td>\n",
       "      <td>-11.665704</td>\n",
       "      <td>47.440718</td>\n",
       "      <td>-12.565260</td>\n",
       "    </tr>\n",
       "    <tr>\n",
       "      <th>993</th>\n",
       "      <td>2002-09-20</td>\n",
       "      <td>-39.887942</td>\n",
       "      <td>-12.589922</td>\n",
       "      <td>45.746037</td>\n",
       "      <td>-12.465989</td>\n",
       "    </tr>\n",
       "    <tr>\n",
       "      <th>994</th>\n",
       "      <td>2002-09-21</td>\n",
       "      <td>-41.812431</td>\n",
       "      <td>-12.607495</td>\n",
       "      <td>45.615533</td>\n",
       "      <td>-11.022888</td>\n",
       "    </tr>\n",
       "    <tr>\n",
       "      <th>995</th>\n",
       "      <td>2002-09-22</td>\n",
       "      <td>-43.583395</td>\n",
       "      <td>-13.475631</td>\n",
       "      <td>45.444309</td>\n",
       "      <td>-10.955523</td>\n",
       "    </tr>\n",
       "    <tr>\n",
       "      <th>996</th>\n",
       "      <td>2002-09-23</td>\n",
       "      <td>-44.408873</td>\n",
       "      <td>-11.076124</td>\n",
       "      <td>45.785465</td>\n",
       "      <td>-11.385043</td>\n",
       "    </tr>\n",
       "    <tr>\n",
       "      <th>997</th>\n",
       "      <td>2002-09-24</td>\n",
       "      <td>-44.554165</td>\n",
       "      <td>-10.578795</td>\n",
       "      <td>44.888445</td>\n",
       "      <td>-11.752884</td>\n",
       "    </tr>\n",
       "    <tr>\n",
       "      <th>998</th>\n",
       "      <td>2002-09-25</td>\n",
       "      <td>-45.036655</td>\n",
       "      <td>-11.676769</td>\n",
       "      <td>42.971208</td>\n",
       "      <td>-11.768206</td>\n",
       "    </tr>\n",
       "    <tr>\n",
       "      <th>999</th>\n",
       "      <td>2002-09-26</td>\n",
       "      <td>-43.765234</td>\n",
       "      <td>-10.413595</td>\n",
       "      <td>41.087035</td>\n",
       "      <td>-10.593577</td>\n",
       "    </tr>\n",
       "  </tbody>\n",
       "</table>\n",
       "<p>1000 rows × 5 columns</p>\n",
       "</div>"
      ],
      "text/plain": [
       "     Unnamed: 0          A          B          C          D\n",
       "0    2000-01-01  -0.210911  -0.394686  -0.419105  -0.145808\n",
       "1    2000-01-02  -0.714142   0.411642   0.281501  -0.341267\n",
       "2    2000-01-03  -0.890765   1.439130  -1.714523  -0.846564\n",
       "3    2000-01-04  -1.339498   1.042684  -0.466742  -1.486717\n",
       "4    2000-01-05  -2.545573  -0.849863  -1.919392  -3.056708\n",
       "5    2000-01-06  -1.237316  -1.133017  -1.573732  -4.270700\n",
       "6    2000-01-07  -0.093103  -2.593050  -2.282737  -3.758719\n",
       "7    2000-01-08  -0.757502  -2.170138  -3.293863  -3.233797\n",
       "8    2000-01-09  -0.958122  -1.299476  -3.377097  -3.818160\n",
       "9    2000-01-10  -1.068149  -0.988313  -2.688782  -3.692130\n",
       "10   2000-01-11  -0.225658  -0.469686  -2.123383  -0.044338\n",
       "11   2000-01-12  -0.994771   0.582417  -1.739067  -0.682751\n",
       "12   2000-01-13  -1.788214   2.072733  -1.874239   0.441966\n",
       "13   2000-01-14  -1.715919   0.665594  -2.832185  -0.053513\n",
       "14   2000-01-15  -0.993468  -0.119230  -3.769889   1.230347\n",
       "15   2000-01-16  -0.059053  -0.620589  -2.620308   2.290776\n",
       "16   2000-01-17   0.712665   0.712160  -2.164080   2.499962\n",
       "17   2000-01-18   0.533088   0.414219  -0.734311   1.414515\n",
       "18   2000-01-19   0.720453   0.262196  -2.310324   1.419418\n",
       "19   2000-01-20  -0.204213  -1.026158  -3.574227   0.832125\n",
       "20   2000-01-21  -0.505443  -1.005086  -2.741988   0.739405\n",
       "21   2000-01-22  -0.683255  -2.733877  -4.304552   1.267389\n",
       "22   2000-01-23  -2.354130  -3.153474  -5.306682   3.099587\n",
       "23   2000-01-24  -3.224718  -4.068362  -4.760774   4.908284\n",
       "24   2000-01-25  -3.317370  -4.538997  -4.698088   3.287908\n",
       "25   2000-01-26  -2.952152  -4.710248  -6.247607   5.673559\n",
       "26   2000-01-27  -1.668364  -4.573059  -7.040738   4.760881\n",
       "27   2000-01-28   0.361358  -4.630278  -7.053579   6.356355\n",
       "28   2000-01-29   1.052621  -4.143976  -6.764352   7.796743\n",
       "29   2000-01-30   2.166085  -4.668714  -7.646835   8.253771\n",
       "..          ...        ...        ...        ...        ...\n",
       "970  2002-08-28 -36.430366   0.131998  47.220427 -22.223609\n",
       "971  2002-08-29 -38.178514  -0.262849  46.828876 -22.359602\n",
       "972  2002-08-30 -37.220114   0.993166  44.913866 -23.395867\n",
       "973  2002-08-31 -36.663684   1.520091  43.194070 -23.637206\n",
       "974  2002-09-01 -36.008406   0.228040  44.826003 -24.280190\n",
       "975  2002-09-02 -37.341420   0.767191  44.909678 -23.054441\n",
       "976  2002-09-03 -38.319424  -1.706709  44.017037 -20.493063\n",
       "977  2002-09-04 -37.060258  -3.898494  45.604609 -20.246233\n",
       "978  2002-09-05 -37.916583  -3.804672  46.393919 -18.727048\n",
       "979  2002-09-06 -36.486733  -2.980705  46.631398 -17.983846\n",
       "980  2002-09-07 -36.914336  -5.001724  45.631532 -18.451646\n",
       "981  2002-09-08 -36.621019  -5.678344  46.995951 -15.710807\n",
       "982  2002-09-09 -38.584281  -6.008468  46.871461 -15.070985\n",
       "983  2002-09-10 -38.251310  -5.894956  47.446300 -14.657334\n",
       "984  2002-09-11 -38.970590  -6.858481  48.860987 -13.054722\n",
       "985  2002-09-12 -39.753823  -8.109369  49.066151 -13.383934\n",
       "986  2002-09-13 -39.837066  -8.387876  49.864029 -14.160415\n",
       "987  2002-09-14 -38.259330  -8.227545  51.319931 -14.952880\n",
       "988  2002-09-15 -38.980205 -10.012426  50.116559 -12.731623\n",
       "989  2002-09-16 -40.138393  -9.994957  50.590066 -14.450152\n",
       "990  2002-09-17 -42.299882 -11.650091  48.820892 -13.239595\n",
       "991  2002-09-18 -41.660391 -12.347329  47.966331 -12.683892\n",
       "992  2002-09-19 -41.272548 -11.665704  47.440718 -12.565260\n",
       "993  2002-09-20 -39.887942 -12.589922  45.746037 -12.465989\n",
       "994  2002-09-21 -41.812431 -12.607495  45.615533 -11.022888\n",
       "995  2002-09-22 -43.583395 -13.475631  45.444309 -10.955523\n",
       "996  2002-09-23 -44.408873 -11.076124  45.785465 -11.385043\n",
       "997  2002-09-24 -44.554165 -10.578795  44.888445 -11.752884\n",
       "998  2002-09-25 -45.036655 -11.676769  42.971208 -11.768206\n",
       "999  2002-09-26 -43.765234 -10.413595  41.087035 -10.593577\n",
       "\n",
       "[1000 rows x 5 columns]"
      ]
     },
     "execution_count": 113,
     "metadata": {},
     "output_type": "execute_result"
    }
   ],
   "source": [
    "pd.read_csv('foo.csv')"
   ]
  },
  {
   "cell_type": "code",
   "execution_count": 114,
   "metadata": {
    "collapsed": true
   },
   "outputs": [],
   "source": [
    "df.to_hdf('foo.h5','df')"
   ]
  },
  {
   "cell_type": "code",
   "execution_count": 115,
   "metadata": {
    "collapsed": false
   },
   "outputs": [
    {
     "data": {
      "text/html": [
       "<div>\n",
       "<table border=\"1\" class=\"dataframe\">\n",
       "  <thead>\n",
       "    <tr style=\"text-align: right;\">\n",
       "      <th></th>\n",
       "      <th>A</th>\n",
       "      <th>B</th>\n",
       "      <th>C</th>\n",
       "      <th>D</th>\n",
       "    </tr>\n",
       "  </thead>\n",
       "  <tbody>\n",
       "    <tr>\n",
       "      <th>2000-01-01</th>\n",
       "      <td>-0.210911</td>\n",
       "      <td>-0.394686</td>\n",
       "      <td>-0.419105</td>\n",
       "      <td>-0.145808</td>\n",
       "    </tr>\n",
       "    <tr>\n",
       "      <th>2000-01-02</th>\n",
       "      <td>-0.714142</td>\n",
       "      <td>0.411642</td>\n",
       "      <td>0.281501</td>\n",
       "      <td>-0.341267</td>\n",
       "    </tr>\n",
       "    <tr>\n",
       "      <th>2000-01-03</th>\n",
       "      <td>-0.890765</td>\n",
       "      <td>1.439130</td>\n",
       "      <td>-1.714523</td>\n",
       "      <td>-0.846564</td>\n",
       "    </tr>\n",
       "    <tr>\n",
       "      <th>2000-01-04</th>\n",
       "      <td>-1.339498</td>\n",
       "      <td>1.042684</td>\n",
       "      <td>-0.466742</td>\n",
       "      <td>-1.486717</td>\n",
       "    </tr>\n",
       "    <tr>\n",
       "      <th>2000-01-05</th>\n",
       "      <td>-2.545573</td>\n",
       "      <td>-0.849863</td>\n",
       "      <td>-1.919392</td>\n",
       "      <td>-3.056708</td>\n",
       "    </tr>\n",
       "    <tr>\n",
       "      <th>2000-01-06</th>\n",
       "      <td>-1.237316</td>\n",
       "      <td>-1.133017</td>\n",
       "      <td>-1.573732</td>\n",
       "      <td>-4.270700</td>\n",
       "    </tr>\n",
       "    <tr>\n",
       "      <th>2000-01-07</th>\n",
       "      <td>-0.093103</td>\n",
       "      <td>-2.593050</td>\n",
       "      <td>-2.282737</td>\n",
       "      <td>-3.758719</td>\n",
       "    </tr>\n",
       "    <tr>\n",
       "      <th>2000-01-08</th>\n",
       "      <td>-0.757502</td>\n",
       "      <td>-2.170138</td>\n",
       "      <td>-3.293863</td>\n",
       "      <td>-3.233797</td>\n",
       "    </tr>\n",
       "    <tr>\n",
       "      <th>2000-01-09</th>\n",
       "      <td>-0.958122</td>\n",
       "      <td>-1.299476</td>\n",
       "      <td>-3.377097</td>\n",
       "      <td>-3.818160</td>\n",
       "    </tr>\n",
       "    <tr>\n",
       "      <th>2000-01-10</th>\n",
       "      <td>-1.068149</td>\n",
       "      <td>-0.988313</td>\n",
       "      <td>-2.688782</td>\n",
       "      <td>-3.692130</td>\n",
       "    </tr>\n",
       "    <tr>\n",
       "      <th>2000-01-11</th>\n",
       "      <td>-0.225658</td>\n",
       "      <td>-0.469686</td>\n",
       "      <td>-2.123383</td>\n",
       "      <td>-0.044338</td>\n",
       "    </tr>\n",
       "    <tr>\n",
       "      <th>2000-01-12</th>\n",
       "      <td>-0.994771</td>\n",
       "      <td>0.582417</td>\n",
       "      <td>-1.739067</td>\n",
       "      <td>-0.682751</td>\n",
       "    </tr>\n",
       "    <tr>\n",
       "      <th>2000-01-13</th>\n",
       "      <td>-1.788214</td>\n",
       "      <td>2.072733</td>\n",
       "      <td>-1.874239</td>\n",
       "      <td>0.441966</td>\n",
       "    </tr>\n",
       "    <tr>\n",
       "      <th>2000-01-14</th>\n",
       "      <td>-1.715919</td>\n",
       "      <td>0.665594</td>\n",
       "      <td>-2.832185</td>\n",
       "      <td>-0.053513</td>\n",
       "    </tr>\n",
       "    <tr>\n",
       "      <th>2000-01-15</th>\n",
       "      <td>-0.993468</td>\n",
       "      <td>-0.119230</td>\n",
       "      <td>-3.769889</td>\n",
       "      <td>1.230347</td>\n",
       "    </tr>\n",
       "    <tr>\n",
       "      <th>2000-01-16</th>\n",
       "      <td>-0.059053</td>\n",
       "      <td>-0.620589</td>\n",
       "      <td>-2.620308</td>\n",
       "      <td>2.290776</td>\n",
       "    </tr>\n",
       "    <tr>\n",
       "      <th>2000-01-17</th>\n",
       "      <td>0.712665</td>\n",
       "      <td>0.712160</td>\n",
       "      <td>-2.164080</td>\n",
       "      <td>2.499962</td>\n",
       "    </tr>\n",
       "    <tr>\n",
       "      <th>2000-01-18</th>\n",
       "      <td>0.533088</td>\n",
       "      <td>0.414219</td>\n",
       "      <td>-0.734311</td>\n",
       "      <td>1.414515</td>\n",
       "    </tr>\n",
       "    <tr>\n",
       "      <th>2000-01-19</th>\n",
       "      <td>0.720453</td>\n",
       "      <td>0.262196</td>\n",
       "      <td>-2.310324</td>\n",
       "      <td>1.419418</td>\n",
       "    </tr>\n",
       "    <tr>\n",
       "      <th>2000-01-20</th>\n",
       "      <td>-0.204213</td>\n",
       "      <td>-1.026158</td>\n",
       "      <td>-3.574227</td>\n",
       "      <td>0.832125</td>\n",
       "    </tr>\n",
       "    <tr>\n",
       "      <th>2000-01-21</th>\n",
       "      <td>-0.505443</td>\n",
       "      <td>-1.005086</td>\n",
       "      <td>-2.741988</td>\n",
       "      <td>0.739405</td>\n",
       "    </tr>\n",
       "    <tr>\n",
       "      <th>2000-01-22</th>\n",
       "      <td>-0.683255</td>\n",
       "      <td>-2.733877</td>\n",
       "      <td>-4.304552</td>\n",
       "      <td>1.267389</td>\n",
       "    </tr>\n",
       "    <tr>\n",
       "      <th>2000-01-23</th>\n",
       "      <td>-2.354130</td>\n",
       "      <td>-3.153474</td>\n",
       "      <td>-5.306682</td>\n",
       "      <td>3.099587</td>\n",
       "    </tr>\n",
       "    <tr>\n",
       "      <th>2000-01-24</th>\n",
       "      <td>-3.224718</td>\n",
       "      <td>-4.068362</td>\n",
       "      <td>-4.760774</td>\n",
       "      <td>4.908284</td>\n",
       "    </tr>\n",
       "    <tr>\n",
       "      <th>2000-01-25</th>\n",
       "      <td>-3.317370</td>\n",
       "      <td>-4.538997</td>\n",
       "      <td>-4.698088</td>\n",
       "      <td>3.287908</td>\n",
       "    </tr>\n",
       "    <tr>\n",
       "      <th>2000-01-26</th>\n",
       "      <td>-2.952152</td>\n",
       "      <td>-4.710248</td>\n",
       "      <td>-6.247607</td>\n",
       "      <td>5.673559</td>\n",
       "    </tr>\n",
       "    <tr>\n",
       "      <th>2000-01-27</th>\n",
       "      <td>-1.668364</td>\n",
       "      <td>-4.573059</td>\n",
       "      <td>-7.040738</td>\n",
       "      <td>4.760881</td>\n",
       "    </tr>\n",
       "    <tr>\n",
       "      <th>2000-01-28</th>\n",
       "      <td>0.361358</td>\n",
       "      <td>-4.630278</td>\n",
       "      <td>-7.053579</td>\n",
       "      <td>6.356355</td>\n",
       "    </tr>\n",
       "    <tr>\n",
       "      <th>2000-01-29</th>\n",
       "      <td>1.052621</td>\n",
       "      <td>-4.143976</td>\n",
       "      <td>-6.764352</td>\n",
       "      <td>7.796743</td>\n",
       "    </tr>\n",
       "    <tr>\n",
       "      <th>2000-01-30</th>\n",
       "      <td>2.166085</td>\n",
       "      <td>-4.668714</td>\n",
       "      <td>-7.646835</td>\n",
       "      <td>8.253771</td>\n",
       "    </tr>\n",
       "    <tr>\n",
       "      <th>...</th>\n",
       "      <td>...</td>\n",
       "      <td>...</td>\n",
       "      <td>...</td>\n",
       "      <td>...</td>\n",
       "    </tr>\n",
       "    <tr>\n",
       "      <th>2002-08-28</th>\n",
       "      <td>-36.430366</td>\n",
       "      <td>0.131998</td>\n",
       "      <td>47.220427</td>\n",
       "      <td>-22.223609</td>\n",
       "    </tr>\n",
       "    <tr>\n",
       "      <th>2002-08-29</th>\n",
       "      <td>-38.178514</td>\n",
       "      <td>-0.262849</td>\n",
       "      <td>46.828876</td>\n",
       "      <td>-22.359602</td>\n",
       "    </tr>\n",
       "    <tr>\n",
       "      <th>2002-08-30</th>\n",
       "      <td>-37.220114</td>\n",
       "      <td>0.993166</td>\n",
       "      <td>44.913866</td>\n",
       "      <td>-23.395867</td>\n",
       "    </tr>\n",
       "    <tr>\n",
       "      <th>2002-08-31</th>\n",
       "      <td>-36.663684</td>\n",
       "      <td>1.520091</td>\n",
       "      <td>43.194070</td>\n",
       "      <td>-23.637206</td>\n",
       "    </tr>\n",
       "    <tr>\n",
       "      <th>2002-09-01</th>\n",
       "      <td>-36.008406</td>\n",
       "      <td>0.228040</td>\n",
       "      <td>44.826003</td>\n",
       "      <td>-24.280190</td>\n",
       "    </tr>\n",
       "    <tr>\n",
       "      <th>2002-09-02</th>\n",
       "      <td>-37.341420</td>\n",
       "      <td>0.767191</td>\n",
       "      <td>44.909678</td>\n",
       "      <td>-23.054441</td>\n",
       "    </tr>\n",
       "    <tr>\n",
       "      <th>2002-09-03</th>\n",
       "      <td>-38.319424</td>\n",
       "      <td>-1.706709</td>\n",
       "      <td>44.017037</td>\n",
       "      <td>-20.493063</td>\n",
       "    </tr>\n",
       "    <tr>\n",
       "      <th>2002-09-04</th>\n",
       "      <td>-37.060258</td>\n",
       "      <td>-3.898494</td>\n",
       "      <td>45.604609</td>\n",
       "      <td>-20.246233</td>\n",
       "    </tr>\n",
       "    <tr>\n",
       "      <th>2002-09-05</th>\n",
       "      <td>-37.916583</td>\n",
       "      <td>-3.804672</td>\n",
       "      <td>46.393919</td>\n",
       "      <td>-18.727048</td>\n",
       "    </tr>\n",
       "    <tr>\n",
       "      <th>2002-09-06</th>\n",
       "      <td>-36.486733</td>\n",
       "      <td>-2.980705</td>\n",
       "      <td>46.631398</td>\n",
       "      <td>-17.983846</td>\n",
       "    </tr>\n",
       "    <tr>\n",
       "      <th>2002-09-07</th>\n",
       "      <td>-36.914336</td>\n",
       "      <td>-5.001724</td>\n",
       "      <td>45.631532</td>\n",
       "      <td>-18.451646</td>\n",
       "    </tr>\n",
       "    <tr>\n",
       "      <th>2002-09-08</th>\n",
       "      <td>-36.621019</td>\n",
       "      <td>-5.678344</td>\n",
       "      <td>46.995951</td>\n",
       "      <td>-15.710807</td>\n",
       "    </tr>\n",
       "    <tr>\n",
       "      <th>2002-09-09</th>\n",
       "      <td>-38.584281</td>\n",
       "      <td>-6.008468</td>\n",
       "      <td>46.871461</td>\n",
       "      <td>-15.070985</td>\n",
       "    </tr>\n",
       "    <tr>\n",
       "      <th>2002-09-10</th>\n",
       "      <td>-38.251310</td>\n",
       "      <td>-5.894956</td>\n",
       "      <td>47.446300</td>\n",
       "      <td>-14.657334</td>\n",
       "    </tr>\n",
       "    <tr>\n",
       "      <th>2002-09-11</th>\n",
       "      <td>-38.970590</td>\n",
       "      <td>-6.858481</td>\n",
       "      <td>48.860987</td>\n",
       "      <td>-13.054722</td>\n",
       "    </tr>\n",
       "    <tr>\n",
       "      <th>2002-09-12</th>\n",
       "      <td>-39.753823</td>\n",
       "      <td>-8.109369</td>\n",
       "      <td>49.066151</td>\n",
       "      <td>-13.383934</td>\n",
       "    </tr>\n",
       "    <tr>\n",
       "      <th>2002-09-13</th>\n",
       "      <td>-39.837066</td>\n",
       "      <td>-8.387876</td>\n",
       "      <td>49.864029</td>\n",
       "      <td>-14.160415</td>\n",
       "    </tr>\n",
       "    <tr>\n",
       "      <th>2002-09-14</th>\n",
       "      <td>-38.259330</td>\n",
       "      <td>-8.227545</td>\n",
       "      <td>51.319931</td>\n",
       "      <td>-14.952880</td>\n",
       "    </tr>\n",
       "    <tr>\n",
       "      <th>2002-09-15</th>\n",
       "      <td>-38.980205</td>\n",
       "      <td>-10.012426</td>\n",
       "      <td>50.116559</td>\n",
       "      <td>-12.731623</td>\n",
       "    </tr>\n",
       "    <tr>\n",
       "      <th>2002-09-16</th>\n",
       "      <td>-40.138393</td>\n",
       "      <td>-9.994957</td>\n",
       "      <td>50.590066</td>\n",
       "      <td>-14.450152</td>\n",
       "    </tr>\n",
       "    <tr>\n",
       "      <th>2002-09-17</th>\n",
       "      <td>-42.299882</td>\n",
       "      <td>-11.650091</td>\n",
       "      <td>48.820892</td>\n",
       "      <td>-13.239595</td>\n",
       "    </tr>\n",
       "    <tr>\n",
       "      <th>2002-09-18</th>\n",
       "      <td>-41.660391</td>\n",
       "      <td>-12.347329</td>\n",
       "      <td>47.966331</td>\n",
       "      <td>-12.683892</td>\n",
       "    </tr>\n",
       "    <tr>\n",
       "      <th>2002-09-19</th>\n",
       "      <td>-41.272548</td>\n",
       "      <td>-11.665704</td>\n",
       "      <td>47.440718</td>\n",
       "      <td>-12.565260</td>\n",
       "    </tr>\n",
       "    <tr>\n",
       "      <th>2002-09-20</th>\n",
       "      <td>-39.887942</td>\n",
       "      <td>-12.589922</td>\n",
       "      <td>45.746037</td>\n",
       "      <td>-12.465989</td>\n",
       "    </tr>\n",
       "    <tr>\n",
       "      <th>2002-09-21</th>\n",
       "      <td>-41.812431</td>\n",
       "      <td>-12.607495</td>\n",
       "      <td>45.615533</td>\n",
       "      <td>-11.022888</td>\n",
       "    </tr>\n",
       "    <tr>\n",
       "      <th>2002-09-22</th>\n",
       "      <td>-43.583395</td>\n",
       "      <td>-13.475631</td>\n",
       "      <td>45.444309</td>\n",
       "      <td>-10.955523</td>\n",
       "    </tr>\n",
       "    <tr>\n",
       "      <th>2002-09-23</th>\n",
       "      <td>-44.408873</td>\n",
       "      <td>-11.076124</td>\n",
       "      <td>45.785465</td>\n",
       "      <td>-11.385043</td>\n",
       "    </tr>\n",
       "    <tr>\n",
       "      <th>2002-09-24</th>\n",
       "      <td>-44.554165</td>\n",
       "      <td>-10.578795</td>\n",
       "      <td>44.888445</td>\n",
       "      <td>-11.752884</td>\n",
       "    </tr>\n",
       "    <tr>\n",
       "      <th>2002-09-25</th>\n",
       "      <td>-45.036655</td>\n",
       "      <td>-11.676769</td>\n",
       "      <td>42.971208</td>\n",
       "      <td>-11.768206</td>\n",
       "    </tr>\n",
       "    <tr>\n",
       "      <th>2002-09-26</th>\n",
       "      <td>-43.765234</td>\n",
       "      <td>-10.413595</td>\n",
       "      <td>41.087035</td>\n",
       "      <td>-10.593577</td>\n",
       "    </tr>\n",
       "  </tbody>\n",
       "</table>\n",
       "<p>1000 rows × 4 columns</p>\n",
       "</div>"
      ],
      "text/plain": [
       "                    A          B          C          D\n",
       "2000-01-01  -0.210911  -0.394686  -0.419105  -0.145808\n",
       "2000-01-02  -0.714142   0.411642   0.281501  -0.341267\n",
       "2000-01-03  -0.890765   1.439130  -1.714523  -0.846564\n",
       "2000-01-04  -1.339498   1.042684  -0.466742  -1.486717\n",
       "2000-01-05  -2.545573  -0.849863  -1.919392  -3.056708\n",
       "2000-01-06  -1.237316  -1.133017  -1.573732  -4.270700\n",
       "2000-01-07  -0.093103  -2.593050  -2.282737  -3.758719\n",
       "2000-01-08  -0.757502  -2.170138  -3.293863  -3.233797\n",
       "2000-01-09  -0.958122  -1.299476  -3.377097  -3.818160\n",
       "2000-01-10  -1.068149  -0.988313  -2.688782  -3.692130\n",
       "2000-01-11  -0.225658  -0.469686  -2.123383  -0.044338\n",
       "2000-01-12  -0.994771   0.582417  -1.739067  -0.682751\n",
       "2000-01-13  -1.788214   2.072733  -1.874239   0.441966\n",
       "2000-01-14  -1.715919   0.665594  -2.832185  -0.053513\n",
       "2000-01-15  -0.993468  -0.119230  -3.769889   1.230347\n",
       "2000-01-16  -0.059053  -0.620589  -2.620308   2.290776\n",
       "2000-01-17   0.712665   0.712160  -2.164080   2.499962\n",
       "2000-01-18   0.533088   0.414219  -0.734311   1.414515\n",
       "2000-01-19   0.720453   0.262196  -2.310324   1.419418\n",
       "2000-01-20  -0.204213  -1.026158  -3.574227   0.832125\n",
       "2000-01-21  -0.505443  -1.005086  -2.741988   0.739405\n",
       "2000-01-22  -0.683255  -2.733877  -4.304552   1.267389\n",
       "2000-01-23  -2.354130  -3.153474  -5.306682   3.099587\n",
       "2000-01-24  -3.224718  -4.068362  -4.760774   4.908284\n",
       "2000-01-25  -3.317370  -4.538997  -4.698088   3.287908\n",
       "2000-01-26  -2.952152  -4.710248  -6.247607   5.673559\n",
       "2000-01-27  -1.668364  -4.573059  -7.040738   4.760881\n",
       "2000-01-28   0.361358  -4.630278  -7.053579   6.356355\n",
       "2000-01-29   1.052621  -4.143976  -6.764352   7.796743\n",
       "2000-01-30   2.166085  -4.668714  -7.646835   8.253771\n",
       "...               ...        ...        ...        ...\n",
       "2002-08-28 -36.430366   0.131998  47.220427 -22.223609\n",
       "2002-08-29 -38.178514  -0.262849  46.828876 -22.359602\n",
       "2002-08-30 -37.220114   0.993166  44.913866 -23.395867\n",
       "2002-08-31 -36.663684   1.520091  43.194070 -23.637206\n",
       "2002-09-01 -36.008406   0.228040  44.826003 -24.280190\n",
       "2002-09-02 -37.341420   0.767191  44.909678 -23.054441\n",
       "2002-09-03 -38.319424  -1.706709  44.017037 -20.493063\n",
       "2002-09-04 -37.060258  -3.898494  45.604609 -20.246233\n",
       "2002-09-05 -37.916583  -3.804672  46.393919 -18.727048\n",
       "2002-09-06 -36.486733  -2.980705  46.631398 -17.983846\n",
       "2002-09-07 -36.914336  -5.001724  45.631532 -18.451646\n",
       "2002-09-08 -36.621019  -5.678344  46.995951 -15.710807\n",
       "2002-09-09 -38.584281  -6.008468  46.871461 -15.070985\n",
       "2002-09-10 -38.251310  -5.894956  47.446300 -14.657334\n",
       "2002-09-11 -38.970590  -6.858481  48.860987 -13.054722\n",
       "2002-09-12 -39.753823  -8.109369  49.066151 -13.383934\n",
       "2002-09-13 -39.837066  -8.387876  49.864029 -14.160415\n",
       "2002-09-14 -38.259330  -8.227545  51.319931 -14.952880\n",
       "2002-09-15 -38.980205 -10.012426  50.116559 -12.731623\n",
       "2002-09-16 -40.138393  -9.994957  50.590066 -14.450152\n",
       "2002-09-17 -42.299882 -11.650091  48.820892 -13.239595\n",
       "2002-09-18 -41.660391 -12.347329  47.966331 -12.683892\n",
       "2002-09-19 -41.272548 -11.665704  47.440718 -12.565260\n",
       "2002-09-20 -39.887942 -12.589922  45.746037 -12.465989\n",
       "2002-09-21 -41.812431 -12.607495  45.615533 -11.022888\n",
       "2002-09-22 -43.583395 -13.475631  45.444309 -10.955523\n",
       "2002-09-23 -44.408873 -11.076124  45.785465 -11.385043\n",
       "2002-09-24 -44.554165 -10.578795  44.888445 -11.752884\n",
       "2002-09-25 -45.036655 -11.676769  42.971208 -11.768206\n",
       "2002-09-26 -43.765234 -10.413595  41.087035 -10.593577\n",
       "\n",
       "[1000 rows x 4 columns]"
      ]
     },
     "execution_count": 115,
     "metadata": {},
     "output_type": "execute_result"
    }
   ],
   "source": [
    "pd.read_hdf('foo.h5','df')"
   ]
  },
  {
   "cell_type": "code",
   "execution_count": 116,
   "metadata": {
    "collapsed": true
   },
   "outputs": [],
   "source": [
    "df.to_excel('foo.xlsx', sheet_name='Sheet1')"
   ]
  },
  {
   "cell_type": "code",
   "execution_count": 117,
   "metadata": {
    "collapsed": false
   },
   "outputs": [
    {
     "data": {
      "text/html": [
       "<div>\n",
       "<table border=\"1\" class=\"dataframe\">\n",
       "  <thead>\n",
       "    <tr style=\"text-align: right;\">\n",
       "      <th></th>\n",
       "      <th>A</th>\n",
       "      <th>B</th>\n",
       "      <th>C</th>\n",
       "      <th>D</th>\n",
       "    </tr>\n",
       "  </thead>\n",
       "  <tbody>\n",
       "    <tr>\n",
       "      <th>2000-01-01</th>\n",
       "      <td>-0.210911</td>\n",
       "      <td>-0.394686</td>\n",
       "      <td>-0.419105</td>\n",
       "      <td>-0.145808</td>\n",
       "    </tr>\n",
       "    <tr>\n",
       "      <th>2000-01-02</th>\n",
       "      <td>-0.714142</td>\n",
       "      <td>0.411642</td>\n",
       "      <td>0.281501</td>\n",
       "      <td>-0.341267</td>\n",
       "    </tr>\n",
       "    <tr>\n",
       "      <th>2000-01-03</th>\n",
       "      <td>-0.890765</td>\n",
       "      <td>1.439130</td>\n",
       "      <td>-1.714523</td>\n",
       "      <td>-0.846564</td>\n",
       "    </tr>\n",
       "    <tr>\n",
       "      <th>2000-01-04</th>\n",
       "      <td>-1.339498</td>\n",
       "      <td>1.042684</td>\n",
       "      <td>-0.466742</td>\n",
       "      <td>-1.486717</td>\n",
       "    </tr>\n",
       "    <tr>\n",
       "      <th>2000-01-05</th>\n",
       "      <td>-2.545573</td>\n",
       "      <td>-0.849863</td>\n",
       "      <td>-1.919392</td>\n",
       "      <td>-3.056708</td>\n",
       "    </tr>\n",
       "    <tr>\n",
       "      <th>2000-01-06</th>\n",
       "      <td>-1.237316</td>\n",
       "      <td>-1.133017</td>\n",
       "      <td>-1.573732</td>\n",
       "      <td>-4.270700</td>\n",
       "    </tr>\n",
       "    <tr>\n",
       "      <th>2000-01-07</th>\n",
       "      <td>-0.093103</td>\n",
       "      <td>-2.593050</td>\n",
       "      <td>-2.282737</td>\n",
       "      <td>-3.758719</td>\n",
       "    </tr>\n",
       "    <tr>\n",
       "      <th>2000-01-08</th>\n",
       "      <td>-0.757502</td>\n",
       "      <td>-2.170138</td>\n",
       "      <td>-3.293863</td>\n",
       "      <td>-3.233797</td>\n",
       "    </tr>\n",
       "    <tr>\n",
       "      <th>2000-01-09</th>\n",
       "      <td>-0.958122</td>\n",
       "      <td>-1.299476</td>\n",
       "      <td>-3.377097</td>\n",
       "      <td>-3.818160</td>\n",
       "    </tr>\n",
       "    <tr>\n",
       "      <th>2000-01-10</th>\n",
       "      <td>-1.068149</td>\n",
       "      <td>-0.988313</td>\n",
       "      <td>-2.688782</td>\n",
       "      <td>-3.692130</td>\n",
       "    </tr>\n",
       "    <tr>\n",
       "      <th>2000-01-11</th>\n",
       "      <td>-0.225658</td>\n",
       "      <td>-0.469686</td>\n",
       "      <td>-2.123383</td>\n",
       "      <td>-0.044338</td>\n",
       "    </tr>\n",
       "    <tr>\n",
       "      <th>2000-01-12</th>\n",
       "      <td>-0.994771</td>\n",
       "      <td>0.582417</td>\n",
       "      <td>-1.739067</td>\n",
       "      <td>-0.682751</td>\n",
       "    </tr>\n",
       "    <tr>\n",
       "      <th>2000-01-13</th>\n",
       "      <td>-1.788214</td>\n",
       "      <td>2.072733</td>\n",
       "      <td>-1.874239</td>\n",
       "      <td>0.441966</td>\n",
       "    </tr>\n",
       "    <tr>\n",
       "      <th>2000-01-14</th>\n",
       "      <td>-1.715919</td>\n",
       "      <td>0.665594</td>\n",
       "      <td>-2.832185</td>\n",
       "      <td>-0.053513</td>\n",
       "    </tr>\n",
       "    <tr>\n",
       "      <th>2000-01-15</th>\n",
       "      <td>-0.993468</td>\n",
       "      <td>-0.119230</td>\n",
       "      <td>-3.769889</td>\n",
       "      <td>1.230347</td>\n",
       "    </tr>\n",
       "    <tr>\n",
       "      <th>2000-01-16</th>\n",
       "      <td>-0.059053</td>\n",
       "      <td>-0.620589</td>\n",
       "      <td>-2.620308</td>\n",
       "      <td>2.290776</td>\n",
       "    </tr>\n",
       "    <tr>\n",
       "      <th>2000-01-17</th>\n",
       "      <td>0.712665</td>\n",
       "      <td>0.712160</td>\n",
       "      <td>-2.164080</td>\n",
       "      <td>2.499962</td>\n",
       "    </tr>\n",
       "    <tr>\n",
       "      <th>2000-01-18</th>\n",
       "      <td>0.533088</td>\n",
       "      <td>0.414219</td>\n",
       "      <td>-0.734311</td>\n",
       "      <td>1.414515</td>\n",
       "    </tr>\n",
       "    <tr>\n",
       "      <th>2000-01-19</th>\n",
       "      <td>0.720453</td>\n",
       "      <td>0.262196</td>\n",
       "      <td>-2.310324</td>\n",
       "      <td>1.419418</td>\n",
       "    </tr>\n",
       "    <tr>\n",
       "      <th>2000-01-20</th>\n",
       "      <td>-0.204213</td>\n",
       "      <td>-1.026158</td>\n",
       "      <td>-3.574227</td>\n",
       "      <td>0.832125</td>\n",
       "    </tr>\n",
       "    <tr>\n",
       "      <th>2000-01-21</th>\n",
       "      <td>-0.505443</td>\n",
       "      <td>-1.005086</td>\n",
       "      <td>-2.741988</td>\n",
       "      <td>0.739405</td>\n",
       "    </tr>\n",
       "    <tr>\n",
       "      <th>2000-01-22</th>\n",
       "      <td>-0.683255</td>\n",
       "      <td>-2.733877</td>\n",
       "      <td>-4.304552</td>\n",
       "      <td>1.267389</td>\n",
       "    </tr>\n",
       "    <tr>\n",
       "      <th>2000-01-23</th>\n",
       "      <td>-2.354130</td>\n",
       "      <td>-3.153474</td>\n",
       "      <td>-5.306682</td>\n",
       "      <td>3.099587</td>\n",
       "    </tr>\n",
       "    <tr>\n",
       "      <th>2000-01-24</th>\n",
       "      <td>-3.224718</td>\n",
       "      <td>-4.068362</td>\n",
       "      <td>-4.760774</td>\n",
       "      <td>4.908284</td>\n",
       "    </tr>\n",
       "    <tr>\n",
       "      <th>2000-01-25</th>\n",
       "      <td>-3.317370</td>\n",
       "      <td>-4.538997</td>\n",
       "      <td>-4.698088</td>\n",
       "      <td>3.287908</td>\n",
       "    </tr>\n",
       "    <tr>\n",
       "      <th>2000-01-26</th>\n",
       "      <td>-2.952152</td>\n",
       "      <td>-4.710248</td>\n",
       "      <td>-6.247607</td>\n",
       "      <td>5.673559</td>\n",
       "    </tr>\n",
       "    <tr>\n",
       "      <th>2000-01-27</th>\n",
       "      <td>-1.668364</td>\n",
       "      <td>-4.573059</td>\n",
       "      <td>-7.040738</td>\n",
       "      <td>4.760881</td>\n",
       "    </tr>\n",
       "    <tr>\n",
       "      <th>2000-01-28</th>\n",
       "      <td>0.361358</td>\n",
       "      <td>-4.630278</td>\n",
       "      <td>-7.053579</td>\n",
       "      <td>6.356355</td>\n",
       "    </tr>\n",
       "    <tr>\n",
       "      <th>2000-01-29</th>\n",
       "      <td>1.052621</td>\n",
       "      <td>-4.143976</td>\n",
       "      <td>-6.764352</td>\n",
       "      <td>7.796743</td>\n",
       "    </tr>\n",
       "    <tr>\n",
       "      <th>2000-01-30</th>\n",
       "      <td>2.166085</td>\n",
       "      <td>-4.668714</td>\n",
       "      <td>-7.646835</td>\n",
       "      <td>8.253771</td>\n",
       "    </tr>\n",
       "    <tr>\n",
       "      <th>...</th>\n",
       "      <td>...</td>\n",
       "      <td>...</td>\n",
       "      <td>...</td>\n",
       "      <td>...</td>\n",
       "    </tr>\n",
       "    <tr>\n",
       "      <th>2002-08-28</th>\n",
       "      <td>-36.430366</td>\n",
       "      <td>0.131998</td>\n",
       "      <td>47.220427</td>\n",
       "      <td>-22.223609</td>\n",
       "    </tr>\n",
       "    <tr>\n",
       "      <th>2002-08-29</th>\n",
       "      <td>-38.178514</td>\n",
       "      <td>-0.262849</td>\n",
       "      <td>46.828876</td>\n",
       "      <td>-22.359602</td>\n",
       "    </tr>\n",
       "    <tr>\n",
       "      <th>2002-08-30</th>\n",
       "      <td>-37.220114</td>\n",
       "      <td>0.993166</td>\n",
       "      <td>44.913866</td>\n",
       "      <td>-23.395867</td>\n",
       "    </tr>\n",
       "    <tr>\n",
       "      <th>2002-08-31</th>\n",
       "      <td>-36.663684</td>\n",
       "      <td>1.520091</td>\n",
       "      <td>43.194070</td>\n",
       "      <td>-23.637206</td>\n",
       "    </tr>\n",
       "    <tr>\n",
       "      <th>2002-09-01</th>\n",
       "      <td>-36.008406</td>\n",
       "      <td>0.228040</td>\n",
       "      <td>44.826003</td>\n",
       "      <td>-24.280190</td>\n",
       "    </tr>\n",
       "    <tr>\n",
       "      <th>2002-09-02</th>\n",
       "      <td>-37.341420</td>\n",
       "      <td>0.767191</td>\n",
       "      <td>44.909678</td>\n",
       "      <td>-23.054441</td>\n",
       "    </tr>\n",
       "    <tr>\n",
       "      <th>2002-09-03</th>\n",
       "      <td>-38.319424</td>\n",
       "      <td>-1.706709</td>\n",
       "      <td>44.017037</td>\n",
       "      <td>-20.493063</td>\n",
       "    </tr>\n",
       "    <tr>\n",
       "      <th>2002-09-04</th>\n",
       "      <td>-37.060258</td>\n",
       "      <td>-3.898494</td>\n",
       "      <td>45.604609</td>\n",
       "      <td>-20.246233</td>\n",
       "    </tr>\n",
       "    <tr>\n",
       "      <th>2002-09-05</th>\n",
       "      <td>-37.916583</td>\n",
       "      <td>-3.804672</td>\n",
       "      <td>46.393919</td>\n",
       "      <td>-18.727048</td>\n",
       "    </tr>\n",
       "    <tr>\n",
       "      <th>2002-09-06</th>\n",
       "      <td>-36.486733</td>\n",
       "      <td>-2.980705</td>\n",
       "      <td>46.631398</td>\n",
       "      <td>-17.983846</td>\n",
       "    </tr>\n",
       "    <tr>\n",
       "      <th>2002-09-07</th>\n",
       "      <td>-36.914336</td>\n",
       "      <td>-5.001724</td>\n",
       "      <td>45.631532</td>\n",
       "      <td>-18.451646</td>\n",
       "    </tr>\n",
       "    <tr>\n",
       "      <th>2002-09-08</th>\n",
       "      <td>-36.621019</td>\n",
       "      <td>-5.678344</td>\n",
       "      <td>46.995951</td>\n",
       "      <td>-15.710807</td>\n",
       "    </tr>\n",
       "    <tr>\n",
       "      <th>2002-09-09</th>\n",
       "      <td>-38.584281</td>\n",
       "      <td>-6.008468</td>\n",
       "      <td>46.871461</td>\n",
       "      <td>-15.070985</td>\n",
       "    </tr>\n",
       "    <tr>\n",
       "      <th>2002-09-10</th>\n",
       "      <td>-38.251310</td>\n",
       "      <td>-5.894956</td>\n",
       "      <td>47.446300</td>\n",
       "      <td>-14.657334</td>\n",
       "    </tr>\n",
       "    <tr>\n",
       "      <th>2002-09-11</th>\n",
       "      <td>-38.970590</td>\n",
       "      <td>-6.858481</td>\n",
       "      <td>48.860987</td>\n",
       "      <td>-13.054722</td>\n",
       "    </tr>\n",
       "    <tr>\n",
       "      <th>2002-09-12</th>\n",
       "      <td>-39.753823</td>\n",
       "      <td>-8.109369</td>\n",
       "      <td>49.066151</td>\n",
       "      <td>-13.383934</td>\n",
       "    </tr>\n",
       "    <tr>\n",
       "      <th>2002-09-13</th>\n",
       "      <td>-39.837066</td>\n",
       "      <td>-8.387876</td>\n",
       "      <td>49.864029</td>\n",
       "      <td>-14.160415</td>\n",
       "    </tr>\n",
       "    <tr>\n",
       "      <th>2002-09-14</th>\n",
       "      <td>-38.259330</td>\n",
       "      <td>-8.227545</td>\n",
       "      <td>51.319931</td>\n",
       "      <td>-14.952880</td>\n",
       "    </tr>\n",
       "    <tr>\n",
       "      <th>2002-09-15</th>\n",
       "      <td>-38.980205</td>\n",
       "      <td>-10.012426</td>\n",
       "      <td>50.116559</td>\n",
       "      <td>-12.731623</td>\n",
       "    </tr>\n",
       "    <tr>\n",
       "      <th>2002-09-16</th>\n",
       "      <td>-40.138393</td>\n",
       "      <td>-9.994957</td>\n",
       "      <td>50.590066</td>\n",
       "      <td>-14.450152</td>\n",
       "    </tr>\n",
       "    <tr>\n",
       "      <th>2002-09-17</th>\n",
       "      <td>-42.299882</td>\n",
       "      <td>-11.650091</td>\n",
       "      <td>48.820892</td>\n",
       "      <td>-13.239595</td>\n",
       "    </tr>\n",
       "    <tr>\n",
       "      <th>2002-09-18</th>\n",
       "      <td>-41.660391</td>\n",
       "      <td>-12.347329</td>\n",
       "      <td>47.966331</td>\n",
       "      <td>-12.683892</td>\n",
       "    </tr>\n",
       "    <tr>\n",
       "      <th>2002-09-19</th>\n",
       "      <td>-41.272548</td>\n",
       "      <td>-11.665704</td>\n",
       "      <td>47.440718</td>\n",
       "      <td>-12.565260</td>\n",
       "    </tr>\n",
       "    <tr>\n",
       "      <th>2002-09-20</th>\n",
       "      <td>-39.887942</td>\n",
       "      <td>-12.589922</td>\n",
       "      <td>45.746037</td>\n",
       "      <td>-12.465989</td>\n",
       "    </tr>\n",
       "    <tr>\n",
       "      <th>2002-09-21</th>\n",
       "      <td>-41.812431</td>\n",
       "      <td>-12.607495</td>\n",
       "      <td>45.615533</td>\n",
       "      <td>-11.022888</td>\n",
       "    </tr>\n",
       "    <tr>\n",
       "      <th>2002-09-22</th>\n",
       "      <td>-43.583395</td>\n",
       "      <td>-13.475631</td>\n",
       "      <td>45.444309</td>\n",
       "      <td>-10.955523</td>\n",
       "    </tr>\n",
       "    <tr>\n",
       "      <th>2002-09-23</th>\n",
       "      <td>-44.408873</td>\n",
       "      <td>-11.076124</td>\n",
       "      <td>45.785465</td>\n",
       "      <td>-11.385043</td>\n",
       "    </tr>\n",
       "    <tr>\n",
       "      <th>2002-09-24</th>\n",
       "      <td>-44.554165</td>\n",
       "      <td>-10.578795</td>\n",
       "      <td>44.888445</td>\n",
       "      <td>-11.752884</td>\n",
       "    </tr>\n",
       "    <tr>\n",
       "      <th>2002-09-25</th>\n",
       "      <td>-45.036655</td>\n",
       "      <td>-11.676769</td>\n",
       "      <td>42.971208</td>\n",
       "      <td>-11.768206</td>\n",
       "    </tr>\n",
       "    <tr>\n",
       "      <th>2002-09-26</th>\n",
       "      <td>-43.765234</td>\n",
       "      <td>-10.413595</td>\n",
       "      <td>41.087035</td>\n",
       "      <td>-10.593577</td>\n",
       "    </tr>\n",
       "  </tbody>\n",
       "</table>\n",
       "<p>1000 rows × 4 columns</p>\n",
       "</div>"
      ],
      "text/plain": [
       "                    A          B          C          D\n",
       "2000-01-01  -0.210911  -0.394686  -0.419105  -0.145808\n",
       "2000-01-02  -0.714142   0.411642   0.281501  -0.341267\n",
       "2000-01-03  -0.890765   1.439130  -1.714523  -0.846564\n",
       "2000-01-04  -1.339498   1.042684  -0.466742  -1.486717\n",
       "2000-01-05  -2.545573  -0.849863  -1.919392  -3.056708\n",
       "2000-01-06  -1.237316  -1.133017  -1.573732  -4.270700\n",
       "2000-01-07  -0.093103  -2.593050  -2.282737  -3.758719\n",
       "2000-01-08  -0.757502  -2.170138  -3.293863  -3.233797\n",
       "2000-01-09  -0.958122  -1.299476  -3.377097  -3.818160\n",
       "2000-01-10  -1.068149  -0.988313  -2.688782  -3.692130\n",
       "2000-01-11  -0.225658  -0.469686  -2.123383  -0.044338\n",
       "2000-01-12  -0.994771   0.582417  -1.739067  -0.682751\n",
       "2000-01-13  -1.788214   2.072733  -1.874239   0.441966\n",
       "2000-01-14  -1.715919   0.665594  -2.832185  -0.053513\n",
       "2000-01-15  -0.993468  -0.119230  -3.769889   1.230347\n",
       "2000-01-16  -0.059053  -0.620589  -2.620308   2.290776\n",
       "2000-01-17   0.712665   0.712160  -2.164080   2.499962\n",
       "2000-01-18   0.533088   0.414219  -0.734311   1.414515\n",
       "2000-01-19   0.720453   0.262196  -2.310324   1.419418\n",
       "2000-01-20  -0.204213  -1.026158  -3.574227   0.832125\n",
       "2000-01-21  -0.505443  -1.005086  -2.741988   0.739405\n",
       "2000-01-22  -0.683255  -2.733877  -4.304552   1.267389\n",
       "2000-01-23  -2.354130  -3.153474  -5.306682   3.099587\n",
       "2000-01-24  -3.224718  -4.068362  -4.760774   4.908284\n",
       "2000-01-25  -3.317370  -4.538997  -4.698088   3.287908\n",
       "2000-01-26  -2.952152  -4.710248  -6.247607   5.673559\n",
       "2000-01-27  -1.668364  -4.573059  -7.040738   4.760881\n",
       "2000-01-28   0.361358  -4.630278  -7.053579   6.356355\n",
       "2000-01-29   1.052621  -4.143976  -6.764352   7.796743\n",
       "2000-01-30   2.166085  -4.668714  -7.646835   8.253771\n",
       "...               ...        ...        ...        ...\n",
       "2002-08-28 -36.430366   0.131998  47.220427 -22.223609\n",
       "2002-08-29 -38.178514  -0.262849  46.828876 -22.359602\n",
       "2002-08-30 -37.220114   0.993166  44.913866 -23.395867\n",
       "2002-08-31 -36.663684   1.520091  43.194070 -23.637206\n",
       "2002-09-01 -36.008406   0.228040  44.826003 -24.280190\n",
       "2002-09-02 -37.341420   0.767191  44.909678 -23.054441\n",
       "2002-09-03 -38.319424  -1.706709  44.017037 -20.493063\n",
       "2002-09-04 -37.060258  -3.898494  45.604609 -20.246233\n",
       "2002-09-05 -37.916583  -3.804672  46.393919 -18.727048\n",
       "2002-09-06 -36.486733  -2.980705  46.631398 -17.983846\n",
       "2002-09-07 -36.914336  -5.001724  45.631532 -18.451646\n",
       "2002-09-08 -36.621019  -5.678344  46.995951 -15.710807\n",
       "2002-09-09 -38.584281  -6.008468  46.871461 -15.070985\n",
       "2002-09-10 -38.251310  -5.894956  47.446300 -14.657334\n",
       "2002-09-11 -38.970590  -6.858481  48.860987 -13.054722\n",
       "2002-09-12 -39.753823  -8.109369  49.066151 -13.383934\n",
       "2002-09-13 -39.837066  -8.387876  49.864029 -14.160415\n",
       "2002-09-14 -38.259330  -8.227545  51.319931 -14.952880\n",
       "2002-09-15 -38.980205 -10.012426  50.116559 -12.731623\n",
       "2002-09-16 -40.138393  -9.994957  50.590066 -14.450152\n",
       "2002-09-17 -42.299882 -11.650091  48.820892 -13.239595\n",
       "2002-09-18 -41.660391 -12.347329  47.966331 -12.683892\n",
       "2002-09-19 -41.272548 -11.665704  47.440718 -12.565260\n",
       "2002-09-20 -39.887942 -12.589922  45.746037 -12.465989\n",
       "2002-09-21 -41.812431 -12.607495  45.615533 -11.022888\n",
       "2002-09-22 -43.583395 -13.475631  45.444309 -10.955523\n",
       "2002-09-23 -44.408873 -11.076124  45.785465 -11.385043\n",
       "2002-09-24 -44.554165 -10.578795  44.888445 -11.752884\n",
       "2002-09-25 -45.036655 -11.676769  42.971208 -11.768206\n",
       "2002-09-26 -43.765234 -10.413595  41.087035 -10.593577\n",
       "\n",
       "[1000 rows x 4 columns]"
      ]
     },
     "execution_count": 117,
     "metadata": {},
     "output_type": "execute_result"
    }
   ],
   "source": [
    "pd.read_excel('foo.xlsx', 'Sheet1', index_col=None, na_values=['NA'])"
   ]
  },
  {
   "cell_type": "code",
   "execution_count": null,
   "metadata": {
    "collapsed": true
   },
   "outputs": [],
   "source": []
  }
 ],
 "metadata": {
  "anaconda-cloud": {},
  "kernelspec": {
   "display_name": "Python [default]",
   "language": "python",
   "name": "python3"
  },
  "language_info": {
   "codemirror_mode": {
    "name": "ipython",
    "version": 3
   },
   "file_extension": ".py",
   "mimetype": "text/x-python",
   "name": "python",
   "nbconvert_exporter": "python",
   "pygments_lexer": "ipython3",
   "version": "3.5.2"
  }
 },
 "nbformat": 4,
 "nbformat_minor": 1
}
